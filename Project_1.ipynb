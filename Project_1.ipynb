{
 "cells": [
  {
   "cell_type": "markdown",
   "id": "38ccaa6d-eefa-48f8-9903-7c8d3a83ec65",
   "metadata": {},
   "source": [
    "## Set UP"
   ]
  },
  {
   "cell_type": "code",
   "execution_count": 1,
   "id": "126788e0-b635-4372-8dc9-c11717dfe9f7",
   "metadata": {},
   "outputs": [
    {
     "name": "stdout",
     "output_type": "stream",
     "text": [
      "Requirement already satisfied: wbdata in /Library/Frameworks/Python.framework/Versions/3.10/lib/python3.10/site-packages (0.3.0)\n",
      "Requirement already satisfied: decorator>=4.0 in /Library/Frameworks/Python.framework/Versions/3.10/lib/python3.10/site-packages (from wbdata) (4.4.2)\n",
      "Requirement already satisfied: tabulate>=0.8.5 in /Library/Frameworks/Python.framework/Versions/3.10/lib/python3.10/site-packages (from wbdata) (0.9.0)\n",
      "Requirement already satisfied: appdirs<2.0,>=1.4 in /Library/Frameworks/Python.framework/Versions/3.10/lib/python3.10/site-packages (from wbdata) (1.4.4)\n",
      "Requirement already satisfied: requests>=2.0 in /Library/Frameworks/Python.framework/Versions/3.10/lib/python3.10/site-packages (from wbdata) (2.28.2)\n",
      "Requirement already satisfied: urllib3<1.27,>=1.21.1 in /Library/Frameworks/Python.framework/Versions/3.10/lib/python3.10/site-packages (from requests>=2.0->wbdata) (1.26.14)\n",
      "Requirement already satisfied: certifi>=2017.4.17 in /Library/Frameworks/Python.framework/Versions/3.10/lib/python3.10/site-packages (from requests>=2.0->wbdata) (2021.10.8)\n",
      "Requirement already satisfied: charset-normalizer<4,>=2 in /Library/Frameworks/Python.framework/Versions/3.10/lib/python3.10/site-packages (from requests>=2.0->wbdata) (3.0.1)\n",
      "Requirement already satisfied: idna<4,>=2.5 in /Library/Frameworks/Python.framework/Versions/3.10/lib/python3.10/site-packages (from requests>=2.0->wbdata) (3.4)\n",
      "\n",
      "\u001b[1m[\u001b[0m\u001b[34;49mnotice\u001b[0m\u001b[1;39;49m]\u001b[0m\u001b[39;49m A new release of pip is available: \u001b[0m\u001b[31;49m23.0.1\u001b[0m\u001b[39;49m -> \u001b[0m\u001b[32;49m23.3.2\u001b[0m\n",
      "\u001b[1m[\u001b[0m\u001b[34;49mnotice\u001b[0m\u001b[1;39;49m]\u001b[0m\u001b[39;49m To update, run: \u001b[0m\u001b[32;49mpython3 -m pip install --upgrade pip\u001b[0m\n",
      "Note: you may need to restart the kernel to use updated packages.\n",
      "Requirement already satisfied: cufflinks in /Library/Frameworks/Python.framework/Versions/3.10/lib/python3.10/site-packages (0.17.3)\n",
      "Requirement already satisfied: ipywidgets>=7.0.0 in /Library/Frameworks/Python.framework/Versions/3.10/lib/python3.10/site-packages (from cufflinks) (8.1.1)\n",
      "Requirement already satisfied: pandas>=0.19.2 in /Library/Frameworks/Python.framework/Versions/3.10/lib/python3.10/site-packages (from cufflinks) (1.5.3)\n",
      "Requirement already satisfied: six>=1.9.0 in /Library/Frameworks/Python.framework/Versions/3.10/lib/python3.10/site-packages (from cufflinks) (1.16.0)\n",
      "Requirement already satisfied: plotly>=4.1.1 in /Library/Frameworks/Python.framework/Versions/3.10/lib/python3.10/site-packages (from cufflinks) (5.15.0)\n",
      "Requirement already satisfied: numpy>=1.9.2 in /Library/Frameworks/Python.framework/Versions/3.10/lib/python3.10/site-packages (from cufflinks) (1.24.2)\n",
      "Requirement already satisfied: ipython>=5.3.0 in /Library/Frameworks/Python.framework/Versions/3.10/lib/python3.10/site-packages (from cufflinks) (8.9.0)\n",
      "Requirement already satisfied: setuptools>=34.4.1 in /Library/Frameworks/Python.framework/Versions/3.10/lib/python3.10/site-packages (from cufflinks) (58.1.0)\n",
      "Requirement already satisfied: colorlover>=0.2.1 in /Library/Frameworks/Python.framework/Versions/3.10/lib/python3.10/site-packages (from cufflinks) (0.3.0)\n",
      "Requirement already satisfied: stack-data in /Library/Frameworks/Python.framework/Versions/3.10/lib/python3.10/site-packages (from ipython>=5.3.0->cufflinks) (0.6.2)\n",
      "Requirement already satisfied: pygments>=2.4.0 in /Library/Frameworks/Python.framework/Versions/3.10/lib/python3.10/site-packages (from ipython>=5.3.0->cufflinks) (2.14.0)\n",
      "Requirement already satisfied: matplotlib-inline in /Library/Frameworks/Python.framework/Versions/3.10/lib/python3.10/site-packages (from ipython>=5.3.0->cufflinks) (0.1.6)\n",
      "Requirement already satisfied: prompt-toolkit<3.1.0,>=3.0.30 in /Library/Frameworks/Python.framework/Versions/3.10/lib/python3.10/site-packages (from ipython>=5.3.0->cufflinks) (3.0.36)\n",
      "Requirement already satisfied: decorator in /Library/Frameworks/Python.framework/Versions/3.10/lib/python3.10/site-packages (from ipython>=5.3.0->cufflinks) (4.4.2)\n",
      "Requirement already satisfied: pexpect>4.3 in /Library/Frameworks/Python.framework/Versions/3.10/lib/python3.10/site-packages (from ipython>=5.3.0->cufflinks) (4.8.0)\n",
      "Requirement already satisfied: traitlets>=5 in /Library/Frameworks/Python.framework/Versions/3.10/lib/python3.10/site-packages (from ipython>=5.3.0->cufflinks) (5.9.0)\n",
      "Requirement already satisfied: jedi>=0.16 in /Library/Frameworks/Python.framework/Versions/3.10/lib/python3.10/site-packages (from ipython>=5.3.0->cufflinks) (0.18.2)\n",
      "Requirement already satisfied: backcall in /Library/Frameworks/Python.framework/Versions/3.10/lib/python3.10/site-packages (from ipython>=5.3.0->cufflinks) (0.2.0)\n",
      "Requirement already satisfied: appnope in /Library/Frameworks/Python.framework/Versions/3.10/lib/python3.10/site-packages (from ipython>=5.3.0->cufflinks) (0.1.3)\n",
      "Requirement already satisfied: pickleshare in /Library/Frameworks/Python.framework/Versions/3.10/lib/python3.10/site-packages (from ipython>=5.3.0->cufflinks) (0.7.5)\n",
      "Requirement already satisfied: jupyterlab-widgets~=3.0.9 in /Library/Frameworks/Python.framework/Versions/3.10/lib/python3.10/site-packages (from ipywidgets>=7.0.0->cufflinks) (3.0.9)\n",
      "Requirement already satisfied: comm>=0.1.3 in /Library/Frameworks/Python.framework/Versions/3.10/lib/python3.10/site-packages (from ipywidgets>=7.0.0->cufflinks) (0.2.1)\n",
      "Requirement already satisfied: widgetsnbextension~=4.0.9 in /Library/Frameworks/Python.framework/Versions/3.10/lib/python3.10/site-packages (from ipywidgets>=7.0.0->cufflinks) (4.0.9)\n",
      "Requirement already satisfied: python-dateutil>=2.8.1 in /Library/Frameworks/Python.framework/Versions/3.10/lib/python3.10/site-packages (from pandas>=0.19.2->cufflinks) (2.8.2)\n",
      "Requirement already satisfied: pytz>=2020.1 in /Library/Frameworks/Python.framework/Versions/3.10/lib/python3.10/site-packages (from pandas>=0.19.2->cufflinks) (2022.7.1)\n",
      "Requirement already satisfied: tenacity>=6.2.0 in /Library/Frameworks/Python.framework/Versions/3.10/lib/python3.10/site-packages (from plotly>=4.1.1->cufflinks) (8.2.2)\n",
      "Requirement already satisfied: packaging in /Library/Frameworks/Python.framework/Versions/3.10/lib/python3.10/site-packages (from plotly>=4.1.1->cufflinks) (23.0)\n",
      "Requirement already satisfied: parso<0.9.0,>=0.8.0 in /Library/Frameworks/Python.framework/Versions/3.10/lib/python3.10/site-packages (from jedi>=0.16->ipython>=5.3.0->cufflinks) (0.8.3)\n",
      "Requirement already satisfied: ptyprocess>=0.5 in /Library/Frameworks/Python.framework/Versions/3.10/lib/python3.10/site-packages (from pexpect>4.3->ipython>=5.3.0->cufflinks) (0.7.0)\n",
      "Requirement already satisfied: wcwidth in /Library/Frameworks/Python.framework/Versions/3.10/lib/python3.10/site-packages (from prompt-toolkit<3.1.0,>=3.0.30->ipython>=5.3.0->cufflinks) (0.2.6)\n",
      "Requirement already satisfied: pure-eval in /Library/Frameworks/Python.framework/Versions/3.10/lib/python3.10/site-packages (from stack-data->ipython>=5.3.0->cufflinks) (0.2.2)\n",
      "Requirement already satisfied: asttokens>=2.1.0 in /Library/Frameworks/Python.framework/Versions/3.10/lib/python3.10/site-packages (from stack-data->ipython>=5.3.0->cufflinks) (2.2.1)\n",
      "Requirement already satisfied: executing>=1.2.0 in /Library/Frameworks/Python.framework/Versions/3.10/lib/python3.10/site-packages (from stack-data->ipython>=5.3.0->cufflinks) (1.2.0)\n",
      "\n",
      "\u001b[1m[\u001b[0m\u001b[34;49mnotice\u001b[0m\u001b[1;39;49m]\u001b[0m\u001b[39;49m A new release of pip is available: \u001b[0m\u001b[31;49m23.0.1\u001b[0m\u001b[39;49m -> \u001b[0m\u001b[32;49m23.3.2\u001b[0m\n",
      "\u001b[1m[\u001b[0m\u001b[34;49mnotice\u001b[0m\u001b[1;39;49m]\u001b[0m\u001b[39;49m To update, run: \u001b[0m\u001b[32;49mpython3 -m pip install --upgrade pip\u001b[0m\n",
      "Note: you may need to restart the kernel to use updated packages.\n"
     ]
    },
    {
     "data": {
      "text/html": [
       "        <script type=\"text/javascript\">\n",
       "        window.PlotlyConfig = {MathJaxConfig: 'local'};\n",
       "        if (window.MathJax && window.MathJax.Hub && window.MathJax.Hub.Config) {window.MathJax.Hub.Config({SVG: {font: \"STIX-Web\"}});}\n",
       "        if (typeof require !== 'undefined') {\n",
       "        require.undef(\"plotly\");\n",
       "        requirejs.config({\n",
       "            paths: {\n",
       "                'plotly': ['https://cdn.plot.ly/plotly-2.24.1.min']\n",
       "            }\n",
       "        });\n",
       "        require(['plotly'], function(Plotly) {\n",
       "            window._Plotly = Plotly;\n",
       "        });\n",
       "        }\n",
       "        </script>\n",
       "        "
      ]
     },
     "metadata": {},
     "output_type": "display_data"
    }
   ],
   "source": [
    "import numpy as np\n",
    "import pandas as pd\n",
    "%matplotlib inline\n",
    "import matplotlib.pyplot as plt\n",
    "import seaborn as sns\n",
    "sns.set(style = \"whitegrid\", \n",
    "        color_codes = True,\n",
    "        font_scale = 1.5)\n",
    "%pip install wbdata\n",
    "import wbdata\n",
    "%pip install cufflinks\n",
    "import cufflinks as cf\n",
    "cf.go_offline()"
   ]
  },
  {
   "cell_type": "markdown",
   "id": "1eb510fc-f40f-45bd-a5f7-21668d495c08",
   "metadata": {},
   "source": [
    "### Set Population Source"
   ]
  },
  {
   "cell_type": "code",
   "execution_count": 2,
   "id": "22e75016-effa-42e0-8626-08c3c6b13eab",
   "metadata": {},
   "outputs": [],
   "source": [
    "#wbdata.get_source() to get all sources\n",
    "#wbdata.get_topic()\n",
    "#wbdata.get_indicator()\n",
    "\n",
    "source_id = 40 #Population Estimates and Projections\n",
    "indicators = wbdata.get_indicator(source=source_id)"
   ]
  },
  {
   "cell_type": "markdown",
   "id": "453139e6-57aa-48e3-b814-2036b4a53d72",
   "metadata": {},
   "source": [
    "## Search Place Code\n",
    "The following is the example to search the place code for 'world'."
   ]
  },
  {
   "cell_type": "code",
   "execution_count": 3,
   "id": "109672db-c909-4726-9092-0583e9f3ab71",
   "metadata": {},
   "outputs": [
    {
     "data": {
      "text/plain": [
       "id    name\n",
       "----  ----------\n",
       "ARB   Arab World\n",
       "WLD   World"
      ]
     },
     "execution_count": 3,
     "metadata": {},
     "output_type": "execute_result"
    }
   ],
   "source": [
    "###change the term 'world' in the function to search the code for the place/region/country that you are interested in\n",
    "wbdata.search_countries(\"world\")"
   ]
  },
  {
   "cell_type": "markdown",
   "id": "bbd57c68-499e-489c-a312-a7457d0ac8e5",
   "metadata": {},
   "source": [
    "# Deliverables"
   ]
  },
  {
   "cell_type": "markdown",
   "id": "044b5d64-688d-4994-80d5-1ae897a51593",
   "metadata": {},
   "source": [
    "## 1. [A] Population Dataframes\n",
    "A function that returns a pandas DataFrame indexed by Region or Country and Year, with columns giving counts of people in different age-sex groups.\n"
   ]
  },
  {
   "cell_type": "markdown",
   "id": "f2fd3779-c7c6-439c-bc41-bc60b8e8fc88",
   "metadata": {},
   "source": [
    "#### Variables Clarification\n",
    "\n",
    "population_df(year, sex, age_range, place_code):\n",
    "<br>\n",
    "year: 1960 to 2050 (projections)\n",
    "<br>\n",
    "sex: \"male\"/ \"female\"/ \"all\"\n",
    "<br>\n",
    "age_range: accepts a list of two integers which should be or will be rounded to nearest multiplers of 5; and includes first rounded integer but exludes the second \n",
    "<br>\n",
    "&emsp;&emsp;&emsp;&emsp;&emsp;&emsp;(ex. [0, 8] aging from 0 inclusive to 10 exclusive)\n",
    "<br>\n",
    "place_code: accepts country/region/place code\n"
   ]
  },
  {
   "cell_type": "code",
   "execution_count": 4,
   "id": "d1a4f1eb-8af9-4e5c-8e54-df752c681d9b",
   "metadata": {},
   "outputs": [],
   "source": [
    "\"\"\"\n",
    "population age ranges available from dataset:\n",
    "00-04, 05-09, 10-14, 15-19, 20-24, 25-29, 30-34, ..., 70-74, 75-79, above 80\n",
    "\"\"\"\n",
    "\n",
    "def population_df(year=2000, sex='all', age_range=[0, 80], place_code='WLD'):\n",
    "    ##get all five-year age groups from rounded age_range \n",
    "    age_ranges=age_list(age_range)\n",
    "    male_variables = {\"SP.POP.\"+i+\".MA\":\"{}-{}\".format(i[:2], i[2:]) for i in age_ranges}\n",
    "    female_variables = {\"SP.POP.\"+i+\".FE\":\"{}-{}\".format(i[:2], i[2:]) for i in age_ranges}\n",
    "    male_population = get_population_data(year, male_variables, 'male', place_code)\n",
    "    female_population = get_population_data(year, female_variables, 'female', place_code)\n",
    "    if sex=='male':\n",
    "        df=male_population\n",
    "    elif sex=='female':\n",
    "        df=female_population\n",
    "    else:  \n",
    "        df=male_population.merge(female_population, on=\"age\").set_axis(male_population.index)\n",
    "        total_pop = df[\"female\"] + df[\"male\"]\n",
    "        df[\"total\"] = total_pop\n",
    "    return df\n",
    "\n",
    "\n",
    "def get_population_data(year, variables, gender, place_code):\n",
    "    population_data = wbdata.get_dataframe(variables, country=place_code)\n",
    "    population_data.index = population_data.index.astype(int)\n",
    "    population_data.reset_index(inplace=True)\n",
    "    population_data = population_data[population_data['date']==year].melt(id_vars=[\"date\"], var_name=\"age\", value_name=gender)\n",
    "    population_data['place'] = place_code\n",
    "    population_data.set_index(['place', 'date'], inplace=True)\n",
    "    return population_data\n",
    "\n",
    "\n",
    "\n",
    "##age_list function returns a list of five-year age group strings from rounded age_range       \n",
    "def age_list(age_range):\n",
    "    #round age_range to nearst multiples of five \n",
    "    def round_age(age_range):\n",
    "        for i in range(0,2):\n",
    "            if 0<age_range[i]%5<3:\n",
    "                age_range[i]-=age_range[i]%5\n",
    "                i+=1\n",
    "            elif age_range[i]%5>=3:\n",
    "                age_range[i]+=(5-age_range[i]%5)\n",
    "                i+=1\n",
    "            else:\n",
    "                i+=1\n",
    "        return age_range\n",
    "    results = []\n",
    "    age_lb, age_ub = round_age(age_range) \n",
    "    while age_lb < min(79, age_ub):\n",
    "        results.append(\"{:02d}{:02d}\".format(age_lb, age_lb + 4))\n",
    "        age_lb += 5\n",
    "    if age_lb >= 80:\n",
    "        results.append('80UP')\n",
    "    return results   "
   ]
  },
  {
   "cell_type": "code",
   "execution_count": 5,
   "id": "1e16a67a-9a5f-43a6-8982-cd5b3468d40e",
   "metadata": {},
   "outputs": [
    {
     "data": {
      "text/html": [
       "<div>\n",
       "<style scoped>\n",
       "    .dataframe tbody tr th:only-of-type {\n",
       "        vertical-align: middle;\n",
       "    }\n",
       "\n",
       "    .dataframe tbody tr th {\n",
       "        vertical-align: top;\n",
       "    }\n",
       "\n",
       "    .dataframe thead th {\n",
       "        text-align: right;\n",
       "    }\n",
       "</style>\n",
       "<table border=\"1\" class=\"dataframe\">\n",
       "  <thead>\n",
       "    <tr style=\"text-align: right;\">\n",
       "      <th></th>\n",
       "      <th></th>\n",
       "      <th>age</th>\n",
       "      <th>male</th>\n",
       "      <th>female</th>\n",
       "      <th>total</th>\n",
       "    </tr>\n",
       "    <tr>\n",
       "      <th>place</th>\n",
       "      <th>date</th>\n",
       "      <th></th>\n",
       "      <th></th>\n",
       "      <th></th>\n",
       "      <th></th>\n",
       "    </tr>\n",
       "  </thead>\n",
       "  <tbody>\n",
       "    <tr>\n",
       "      <th rowspan=\"17\" valign=\"top\">WLD</th>\n",
       "      <th>2000</th>\n",
       "      <td>00-04</td>\n",
       "      <td>319947454.0</td>\n",
       "      <td>299176185.0</td>\n",
       "      <td>619123639.0</td>\n",
       "    </tr>\n",
       "    <tr>\n",
       "      <th>2000</th>\n",
       "      <td>05-09</td>\n",
       "      <td>317085952.0</td>\n",
       "      <td>297917803.0</td>\n",
       "      <td>615003755.0</td>\n",
       "    </tr>\n",
       "    <tr>\n",
       "      <th>2000</th>\n",
       "      <td>10-14</td>\n",
       "      <td>319870427.0</td>\n",
       "      <td>302850456.0</td>\n",
       "      <td>622720883.0</td>\n",
       "    </tr>\n",
       "    <tr>\n",
       "      <th>2000</th>\n",
       "      <td>15-19</td>\n",
       "      <td>293445532.0</td>\n",
       "      <td>280015254.0</td>\n",
       "      <td>573460786.0</td>\n",
       "    </tr>\n",
       "    <tr>\n",
       "      <th>2000</th>\n",
       "      <td>20-24</td>\n",
       "      <td>263094592.0</td>\n",
       "      <td>252662959.0</td>\n",
       "      <td>515757551.0</td>\n",
       "    </tr>\n",
       "    <tr>\n",
       "      <th>2000</th>\n",
       "      <td>25-29</td>\n",
       "      <td>256458181.0</td>\n",
       "      <td>248149260.0</td>\n",
       "      <td>504607441.0</td>\n",
       "    </tr>\n",
       "    <tr>\n",
       "      <th>2000</th>\n",
       "      <td>30-34</td>\n",
       "      <td>241585037.0</td>\n",
       "      <td>235168152.0</td>\n",
       "      <td>476753189.0</td>\n",
       "    </tr>\n",
       "    <tr>\n",
       "      <th>2000</th>\n",
       "      <td>35-39</td>\n",
       "      <td>216703667.0</td>\n",
       "      <td>212545788.0</td>\n",
       "      <td>429249455.0</td>\n",
       "    </tr>\n",
       "    <tr>\n",
       "      <th>2000</th>\n",
       "      <td>40-44</td>\n",
       "      <td>187436101.0</td>\n",
       "      <td>185210979.0</td>\n",
       "      <td>372647080.0</td>\n",
       "    </tr>\n",
       "    <tr>\n",
       "      <th>2000</th>\n",
       "      <td>45-49</td>\n",
       "      <td>166501073.0</td>\n",
       "      <td>166483260.0</td>\n",
       "      <td>332984333.0</td>\n",
       "    </tr>\n",
       "    <tr>\n",
       "      <th>2000</th>\n",
       "      <td>50-54</td>\n",
       "      <td>131738554.0</td>\n",
       "      <td>133190888.0</td>\n",
       "      <td>264929442.0</td>\n",
       "    </tr>\n",
       "    <tr>\n",
       "      <th>2000</th>\n",
       "      <td>55-59</td>\n",
       "      <td>102296144.0</td>\n",
       "      <td>105259506.0</td>\n",
       "      <td>207555650.0</td>\n",
       "    </tr>\n",
       "    <tr>\n",
       "      <th>2000</th>\n",
       "      <td>60-64</td>\n",
       "      <td>90035292.0</td>\n",
       "      <td>96389771.0</td>\n",
       "      <td>186425063.0</td>\n",
       "    </tr>\n",
       "    <tr>\n",
       "      <th>2000</th>\n",
       "      <td>65-69</td>\n",
       "      <td>71463003.0</td>\n",
       "      <td>80630658.0</td>\n",
       "      <td>152093661.0</td>\n",
       "    </tr>\n",
       "    <tr>\n",
       "      <th>2000</th>\n",
       "      <td>70-74</td>\n",
       "      <td>53316050.0</td>\n",
       "      <td>65710609.0</td>\n",
       "      <td>119026659.0</td>\n",
       "    </tr>\n",
       "    <tr>\n",
       "      <th>2000</th>\n",
       "      <td>75-79</td>\n",
       "      <td>32840343.0</td>\n",
       "      <td>47015814.0</td>\n",
       "      <td>79856157.0</td>\n",
       "    </tr>\n",
       "    <tr>\n",
       "      <th>2000</th>\n",
       "      <td>80-UP</td>\n",
       "      <td>25022711.0</td>\n",
       "      <td>47104089.0</td>\n",
       "      <td>72126800.0</td>\n",
       "    </tr>\n",
       "  </tbody>\n",
       "</table>\n",
       "</div>"
      ],
      "text/plain": [
       "              age         male       female        total\n",
       "place date                                              \n",
       "WLD   2000  00-04  319947454.0  299176185.0  619123639.0\n",
       "      2000  05-09  317085952.0  297917803.0  615003755.0\n",
       "      2000  10-14  319870427.0  302850456.0  622720883.0\n",
       "      2000  15-19  293445532.0  280015254.0  573460786.0\n",
       "      2000  20-24  263094592.0  252662959.0  515757551.0\n",
       "      2000  25-29  256458181.0  248149260.0  504607441.0\n",
       "      2000  30-34  241585037.0  235168152.0  476753189.0\n",
       "      2000  35-39  216703667.0  212545788.0  429249455.0\n",
       "      2000  40-44  187436101.0  185210979.0  372647080.0\n",
       "      2000  45-49  166501073.0  166483260.0  332984333.0\n",
       "      2000  50-54  131738554.0  133190888.0  264929442.0\n",
       "      2000  55-59  102296144.0  105259506.0  207555650.0\n",
       "      2000  60-64   90035292.0   96389771.0  186425063.0\n",
       "      2000  65-69   71463003.0   80630658.0  152093661.0\n",
       "      2000  70-74   53316050.0   65710609.0  119026659.0\n",
       "      2000  75-79   32840343.0   47015814.0   79856157.0\n",
       "      2000  80-UP   25022711.0   47104089.0   72126800.0"
      ]
     },
     "execution_count": 5,
     "metadata": {},
     "output_type": "execute_result"
    }
   ],
   "source": [
    "population_df = population_df(year=2000, sex='all', age_range=[0, 80], place_code='WLD')\n",
    "population_df"
   ]
  },
  {
   "cell_type": "markdown",
   "id": "b9f21625-5463-4383-9447-c45e10b1dfc6",
   "metadata": {},
   "source": [
    "## 2. [A] Population Statistics\n",
    "A python function named population that will deliver information to answer the queries of the following form:\n",
    "\n",
    "In [year] how many [people/males/females] aged [low] to [high] were living in [the world/region/country]? \n",
    "\n",
    "The function population_stats(year, population, age_low, age_high, place_code) returns a population count given a year, sort of person, age range, and place.\n",
    "\n",
    "Note:Input age_low (inclusive) and age_hig (exclusive) should be the multiplers of 5. Otherwise, it will automatically rounded to nearest multiplers of 5 by the following function."
   ]
  },
  {
   "cell_type": "code",
   "execution_count": 6,
   "id": "34cdd5d1-0ecc-4be4-9ca1-ed6d87acc29a",
   "metadata": {},
   "outputs": [],
   "source": [
    "def population_stats(year=2000, population='people', age_low=0, age_high=100, place_code='WLD'):\n",
    "    if population == 'people':\n",
    "        df= population_df(year=year, sex='all', age_range=[age_low, age_high], place_code=place_code)\n",
    "        result=df['total'].sum()\n",
    "    elif population == 'males':\n",
    "        df=population_df(year, sex='male', age_range=[age_low, age_high], place_code=place_code)\n",
    "        result=df['male'].sum()\n",
    "    else:        \n",
    "        df=population_df(year, sex='female', age_range=[age_low, age_high], place_code=place_code)\n",
    "        result=df['female'].sum() \n",
    "    print(f\"In {year}, there were {result} {population} aged from {age_low} to {age_high} living in {place_code}.\")"
   ]
  },
  {
   "cell_type": "code",
   "execution_count": 7,
   "id": "ea1fbd7d-6b08-49d7-84ee-659e26f8e389",
   "metadata": {},
   "outputs": [
    {
     "ename": "TypeError",
     "evalue": "'WBDataFrame' object is not callable",
     "output_type": "error",
     "traceback": [
      "\u001b[0;31m---------------------------------------------------------------------------\u001b[0m",
      "\u001b[0;31mTypeError\u001b[0m                                 Traceback (most recent call last)",
      "Cell \u001b[0;32mIn[7], line 1\u001b[0m\n\u001b[0;32m----> 1\u001b[0m \u001b[43mpopulation_stats\u001b[49m\u001b[43m(\u001b[49m\u001b[43myear\u001b[49m\u001b[38;5;241;43m=\u001b[39;49m\u001b[38;5;241;43m2000\u001b[39;49m\u001b[43m,\u001b[49m\u001b[43m \u001b[49m\u001b[43mpopulation\u001b[49m\u001b[38;5;241;43m=\u001b[39;49m\u001b[38;5;124;43m'\u001b[39;49m\u001b[38;5;124;43mpeople\u001b[39;49m\u001b[38;5;124;43m'\u001b[39;49m\u001b[43m,\u001b[49m\u001b[43m \u001b[49m\u001b[43mage_low\u001b[49m\u001b[38;5;241;43m=\u001b[39;49m\u001b[38;5;241;43m0\u001b[39;49m\u001b[43m,\u001b[49m\u001b[43m \u001b[49m\u001b[43mage_high\u001b[49m\u001b[38;5;241;43m=\u001b[39;49m\u001b[38;5;241;43m100\u001b[39;49m\u001b[43m,\u001b[49m\u001b[43m \u001b[49m\u001b[43mplace_code\u001b[49m\u001b[38;5;241;43m=\u001b[39;49m\u001b[38;5;124;43m'\u001b[39;49m\u001b[38;5;124;43mWLD\u001b[39;49m\u001b[38;5;124;43m'\u001b[39;49m\u001b[43m)\u001b[49m\n",
      "Cell \u001b[0;32mIn[6], line 3\u001b[0m, in \u001b[0;36mpopulation_stats\u001b[0;34m(year, population, age_low, age_high, place_code)\u001b[0m\n\u001b[1;32m      1\u001b[0m \u001b[38;5;28;01mdef\u001b[39;00m \u001b[38;5;21mpopulation_stats\u001b[39m(year\u001b[38;5;241m=\u001b[39m\u001b[38;5;241m2000\u001b[39m, population\u001b[38;5;241m=\u001b[39m\u001b[38;5;124m'\u001b[39m\u001b[38;5;124mpeople\u001b[39m\u001b[38;5;124m'\u001b[39m, age_low\u001b[38;5;241m=\u001b[39m\u001b[38;5;241m0\u001b[39m, age_high\u001b[38;5;241m=\u001b[39m\u001b[38;5;241m100\u001b[39m, place_code\u001b[38;5;241m=\u001b[39m\u001b[38;5;124m'\u001b[39m\u001b[38;5;124mWLD\u001b[39m\u001b[38;5;124m'\u001b[39m):\n\u001b[1;32m      2\u001b[0m     \u001b[38;5;28;01mif\u001b[39;00m population \u001b[38;5;241m==\u001b[39m \u001b[38;5;124m'\u001b[39m\u001b[38;5;124mpeople\u001b[39m\u001b[38;5;124m'\u001b[39m:\n\u001b[0;32m----> 3\u001b[0m         df\u001b[38;5;241m=\u001b[39m \u001b[43mpopulation_df\u001b[49m\u001b[43m(\u001b[49m\u001b[43myear\u001b[49m\u001b[38;5;241;43m=\u001b[39;49m\u001b[43myear\u001b[49m\u001b[43m,\u001b[49m\u001b[43m \u001b[49m\u001b[43msex\u001b[49m\u001b[38;5;241;43m=\u001b[39;49m\u001b[38;5;124;43m'\u001b[39;49m\u001b[38;5;124;43mall\u001b[39;49m\u001b[38;5;124;43m'\u001b[39;49m\u001b[43m,\u001b[49m\u001b[43m \u001b[49m\u001b[43mage_range\u001b[49m\u001b[38;5;241;43m=\u001b[39;49m\u001b[43m[\u001b[49m\u001b[43mage_low\u001b[49m\u001b[43m,\u001b[49m\u001b[43m \u001b[49m\u001b[43mage_high\u001b[49m\u001b[43m]\u001b[49m\u001b[43m,\u001b[49m\u001b[43m \u001b[49m\u001b[43mplace_code\u001b[49m\u001b[38;5;241;43m=\u001b[39;49m\u001b[43mplace_code\u001b[49m\u001b[43m)\u001b[49m\n\u001b[1;32m      4\u001b[0m         result\u001b[38;5;241m=\u001b[39mdf[\u001b[38;5;124m'\u001b[39m\u001b[38;5;124mtotal\u001b[39m\u001b[38;5;124m'\u001b[39m]\u001b[38;5;241m.\u001b[39msum()\n\u001b[1;32m      5\u001b[0m     \u001b[38;5;28;01melif\u001b[39;00m population \u001b[38;5;241m==\u001b[39m \u001b[38;5;124m'\u001b[39m\u001b[38;5;124mmales\u001b[39m\u001b[38;5;124m'\u001b[39m:\n",
      "\u001b[0;31mTypeError\u001b[0m: 'WBDataFrame' object is not callable"
     ]
    }
   ],
   "source": [
    "population_stats(year=2000, population='people', age_low=0, age_high=100, place_code='WLD')"
   ]
  },
  {
   "cell_type": "markdown",
   "id": "aa03c539-409f-43cd-b200-c959f29b522b",
   "metadata": {},
   "source": [
    "# South Korea Data"
   ]
  },
  {
   "cell_type": "markdown",
   "id": "549456d4",
   "metadata": {},
   "source": [
    "[B] Population Pyramids"
   ]
  },
  {
   "cell_type": "code",
   "execution_count": 10,
   "id": "aafa39ae",
   "metadata": {},
   "outputs": [
    {
     "data": {
      "image/png": "[encoded data removed]",
      "text/plain": [
       "<Figure size 1000x800 with 1 Axes>"
      ]
     },
     "metadata": {},
     "output_type": "display_data"
    }
   ],
   "source": [
    "import matplotlib.pyplot as plt\n",
    "\n",
    "def plot_population_pyramid(df, place, date):\n",
    "    \n",
    "    df_filtered = df.xs((place, date), level=('place', 'date'))\n",
    "    \n",
    "    df_filtered = df_filtered.sort_index()\n",
    "\n",
    "    # Creating the bar plot\n",
    "    age_groups = df_filtered['age']\n",
    "    fig, ax = plt.subplots(figsize=(10, 8))\n",
    "    ax.barh(age_groups, df_filtered['male'], color='blue', label='Males')\n",
    "    ax.barh(age_groups, -df_filtered['female'], color='pink', label='Females')\n",
    "    ax.set_xlabel('Population')\n",
    "    ax.set_title(f'Population Pyramid for {place} in {date}')\n",
    "    ax.legend()\n",
    "    ax.grid(True)\n",
    "    plt.show()\n",
    "\n",
    "plot_population_pyramid(population_df, 'WLD', 2000)"
   ]
  },
  {
   "cell_type": "markdown",
   "id": "56428631",
   "metadata": {},
   "source": [
    " [C] Animated Population Pyramids"
   ]
  },
  {
   "cell_type": "code",
   "execution_count": 14,
   "id": "fa97247f",
   "metadata": {},
   "outputs": [
    {
     "data": {
      "image/png": "[encoded data removed]",
      "text/plain": [
       "<Figure size 1000x800 with 1 Axes>"
      ]
     },
     "metadata": {},
     "output_type": "display_data"
    },
    {
     "data": {
      "text/plain": [
       "<matplotlib.animation.FuncAnimation at 0x122f8f5b0>"
      ]
     },
     "execution_count": 14,
     "metadata": {},
     "output_type": "execute_result"
    }
   ],
   "source": [
    "import matplotlib.pyplot as plt\n",
    "from matplotlib.animation import FuncAnimation\n",
    "\n",
    "def animate_population_pyramid(df, place, years):\n",
    "\n",
    "    fig, ax = plt.subplots(figsize=(10, 8))\n",
    "    \n",
    "    def update(year):\n",
    "        ax.clear()\n",
    "        data_year = df.xs((place, year), level=('place', 'date'))\n",
    "        age_groups = data_year['age']\n",
    "        ax.barh(age_groups, data_year['male'], color='blue', label='Males')\n",
    "        ax.barh(age_groups, -data_year['female'], color='pink', label='Females')\n",
    "        ax.set_xlabel('Population')\n",
    "        ax.set_title(f'Population Pyramid for {place} in {year}')\n",
    "        ax.legend()\n",
    "        ax.grid(True)\n",
    "    \n",
    "    anim = FuncAnimation(fig, update, frames=years, repeat=False)\n",
    "    plt.show()\n",
    "\n",
    "    return anim\n",
    "\n",
    "# Usage example:\n",
    "# Assuming your DataFrame is named df_population and 'WLD' is the place you want to animate\n",
    "years_list = sorted(population_df.xs('WLD', level='place').index.get_level_values('date').unique())\n",
    "animate_population_pyramid(population_df, 'WLD', years=years_list)\n"
   ]
  },
  {
   "cell_type": "code",
   "execution_count": null,
   "id": "c6a41908",
   "metadata": {},
   "outputs": [],
   "source": []
  }
 ],
 "metadata": {
  "kernelspec": {
   "display_name": "Python 3.10.2 64-bit",
   "language": "python",
   "name": "python3"
  },
  "language_info": {
   "codemirror_mode": {
    "name": "ipython",
    "version": 3
   },
   "file_extension": ".py",
   "mimetype": "text/x-python",
   "name": "python",
   "nbconvert_exporter": "python",
   "pygments_lexer": "ipython3",
   "version": "3.10.2"
  },
  "vscode": {
   "interpreter": {
    "hash": "aee8b7b246df8f9039afb4144a1f6fd8d2ca17a180786b69acc140d282b71a49"
   }
  }
 },
 "nbformat": 4,
 "nbformat_minor": 5
}
