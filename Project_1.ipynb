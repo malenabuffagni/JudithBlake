{
 "cells": [
  {
   "cell_type": "markdown",
   "id": "38ccaa6d-eefa-48f8-9903-7c8d3a83ec65",
   "metadata": {},
   "source": [
    "## Set UP"
   ]
  },
  {
   "cell_type": "code",
   "execution_count": 12,
   "id": "126788e0-b635-4372-8dc9-c11717dfe9f7",
   "metadata": {},
   "outputs": [
    {
<<<<<<< Updated upstream
=======
<<<<<<< HEAD
     "name": "stdout",
     "output_type": "stream",
     "text": [
      "Requirement already satisfied: wbdata in /srv/conda/lib/python3.9/site-packages (0.3.0)\n",
      "Requirement already satisfied: tabulate>=0.8.5 in /srv/conda/lib/python3.9/site-packages (from wbdata) (0.9.0)\n",
      "Requirement already satisfied: appdirs<2.0,>=1.4 in /srv/conda/lib/python3.9/site-packages (from wbdata) (1.4.4)\n",
      "Requirement already satisfied: decorator>=4.0 in /srv/conda/lib/python3.9/site-packages (from wbdata) (5.0.9)\n",
      "Requirement already satisfied: requests>=2.0 in /srv/conda/lib/python3.9/site-packages (from wbdata) (2.31.0)\n",
      "Requirement already satisfied: urllib3<3,>=1.21.1 in /srv/conda/lib/python3.9/site-packages (from requests>=2.0->wbdata) (1.26.15)\n",
      "Requirement already satisfied: charset-normalizer<4,>=2 in /srv/conda/lib/python3.9/site-packages (from requests>=2.0->wbdata) (3.1.0)\n",
      "Requirement already satisfied: certifi>=2017.4.17 in /srv/conda/lib/python3.9/site-packages (from requests>=2.0->wbdata) (2022.12.7)\n",
      "Requirement already satisfied: idna<4,>=2.5 in /srv/conda/lib/python3.9/site-packages (from requests>=2.0->wbdata) (3.4)\n",
      "Note: you may need to restart the kernel to use updated packages.\n",
      "Requirement already satisfied: cufflinks in /srv/conda/lib/python3.9/site-packages (0.17.3)\n",
      "Requirement already satisfied: ipython>=5.3.0 in /srv/conda/lib/python3.9/site-packages (from cufflinks) (8.18.1)\n",
      "Requirement already satisfied: colorlover>=0.2.1 in /srv/conda/lib/python3.9/site-packages (from cufflinks) (0.3.0)\n",
      "Requirement already satisfied: six>=1.9.0 in /srv/conda/lib/python3.9/site-packages (from cufflinks) (1.16.0)\n",
      "Requirement already satisfied: setuptools>=34.4.1 in /srv/conda/lib/python3.9/site-packages (from cufflinks) (59.8.0)\n",
      "Requirement already satisfied: numpy>=1.9.2 in /srv/conda/lib/python3.9/site-packages (from cufflinks) (1.22.4)\n",
      "Requirement already satisfied: plotly>=4.1.1 in /srv/conda/lib/python3.9/site-packages (from cufflinks) (5.18.0)\n",
      "Requirement already satisfied: ipywidgets>=7.0.0 in /srv/conda/lib/python3.9/site-packages (from cufflinks) (8.0.7)\n",
      "Requirement already satisfied: pandas>=0.19.2 in /srv/conda/lib/python3.9/site-packages (from cufflinks) (1.3.5)\n",
      "Requirement already satisfied: typing-extensions in /srv/conda/lib/python3.9/site-packages (from ipython>=5.3.0->cufflinks) (4.9.0)\n",
      "Requirement already satisfied: exceptiongroup in /srv/conda/lib/python3.9/site-packages (from ipython>=5.3.0->cufflinks) (1.2.0)\n",
      "Requirement already satisfied: stack-data in /srv/conda/lib/python3.9/site-packages (from ipython>=5.3.0->cufflinks) (0.6.2)\n",
      "Requirement already satisfied: prompt-toolkit<3.1.0,>=3.0.41 in /srv/conda/lib/python3.9/site-packages (from ipython>=5.3.0->cufflinks) (3.0.42)\n",
      "Requirement already satisfied: pexpect>4.3 in /srv/conda/lib/python3.9/site-packages (from ipython>=5.3.0->cufflinks) (4.8.0)\n",
      "Requirement already satisfied: pygments>=2.4.0 in /srv/conda/lib/python3.9/site-packages (from ipython>=5.3.0->cufflinks) (2.17.2)\n",
      "Requirement already satisfied: decorator in /srv/conda/lib/python3.9/site-packages (from ipython>=5.3.0->cufflinks) (5.0.9)\n",
      "Requirement already satisfied: jedi>=0.16 in /srv/conda/lib/python3.9/site-packages (from ipython>=5.3.0->cufflinks) (0.19.1)\n",
      "Requirement already satisfied: matplotlib-inline in /srv/conda/lib/python3.9/site-packages (from ipython>=5.3.0->cufflinks) (0.1.6)\n",
      "Requirement already satisfied: traitlets>=5 in /srv/conda/lib/python3.9/site-packages (from ipython>=5.3.0->cufflinks) (5.9.0)\n",
      "Requirement already satisfied: widgetsnbextension~=4.0.7 in /srv/conda/lib/python3.9/site-packages (from ipywidgets>=7.0.0->cufflinks) (4.0.9)\n",
      "Requirement already satisfied: jupyterlab-widgets~=3.0.7 in /srv/conda/lib/python3.9/site-packages (from ipywidgets>=7.0.0->cufflinks) (3.0.9)\n",
      "Requirement already satisfied: ipykernel>=4.5.1 in /srv/conda/lib/python3.9/site-packages (from ipywidgets>=7.0.0->cufflinks) (6.19.4)\n",
      "Requirement already satisfied: python-dateutil>=2.7.3 in /srv/conda/lib/python3.9/site-packages (from pandas>=0.19.2->cufflinks) (2.8.2)\n",
      "Requirement already satisfied: pytz>=2017.3 in /srv/conda/lib/python3.9/site-packages (from pandas>=0.19.2->cufflinks) (2023.3.post1)\n",
      "Requirement already satisfied: packaging in /srv/conda/lib/python3.9/site-packages (from plotly>=4.1.1->cufflinks) (23.2)\n",
      "Requirement already satisfied: tenacity>=6.2.0 in /srv/conda/lib/python3.9/site-packages (from plotly>=4.1.1->cufflinks) (8.2.3)\n",
      "Requirement already satisfied: pyzmq>=17 in /srv/conda/lib/python3.9/site-packages (from ipykernel>=4.5.1->ipywidgets>=7.0.0->cufflinks) (25.1.2)\n",
      "Requirement already satisfied: nest-asyncio in /srv/conda/lib/python3.9/site-packages (from ipykernel>=4.5.1->ipywidgets>=7.0.0->cufflinks) (1.6.0)\n",
      "Requirement already satisfied: psutil in /srv/conda/lib/python3.9/site-packages (from ipykernel>=4.5.1->ipywidgets>=7.0.0->cufflinks) (5.9.8)\n",
      "Requirement already satisfied: tornado>=6.1 in /srv/conda/lib/python3.9/site-packages (from ipykernel>=4.5.1->ipywidgets>=7.0.0->cufflinks) (6.3.3)\n",
      "Requirement already satisfied: jupyter-client>=6.1.12 in /srv/conda/lib/python3.9/site-packages (from ipykernel>=4.5.1->ipywidgets>=7.0.0->cufflinks) (8.6.0)\n",
      "Requirement already satisfied: debugpy>=1.0 in /srv/conda/lib/python3.9/site-packages (from ipykernel>=4.5.1->ipywidgets>=7.0.0->cufflinks) (1.8.0)\n",
      "Requirement already satisfied: comm>=0.1.1 in /srv/conda/lib/python3.9/site-packages (from ipykernel>=4.5.1->ipywidgets>=7.0.0->cufflinks) (0.2.1)\n",
      "Requirement already satisfied: parso<0.9.0,>=0.8.3 in /srv/conda/lib/python3.9/site-packages (from jedi>=0.16->ipython>=5.3.0->cufflinks) (0.8.3)\n",
      "Requirement already satisfied: ptyprocess>=0.5 in /srv/conda/lib/python3.9/site-packages (from pexpect>4.3->ipython>=5.3.0->cufflinks) (0.7.0)\n",
      "Requirement already satisfied: wcwidth in /srv/conda/lib/python3.9/site-packages (from prompt-toolkit<3.1.0,>=3.0.41->ipython>=5.3.0->cufflinks) (0.2.13)\n",
      "Requirement already satisfied: executing>=1.2.0 in /srv/conda/lib/python3.9/site-packages (from stack-data->ipython>=5.3.0->cufflinks) (2.0.1)\n",
      "Requirement already satisfied: pure-eval in /srv/conda/lib/python3.9/site-packages (from stack-data->ipython>=5.3.0->cufflinks) (0.2.2)\n",
      "Requirement already satisfied: asttokens>=2.1.0 in /srv/conda/lib/python3.9/site-packages (from stack-data->ipython>=5.3.0->cufflinks) (2.4.1)\n",
      "Requirement already satisfied: jupyter-core!=5.0.*,>=4.12 in /srv/conda/lib/python3.9/site-packages (from jupyter-client>=6.1.12->ipykernel>=4.5.1->ipywidgets>=7.0.0->cufflinks) (5.7.1)\n",
      "Requirement already satisfied: importlib-metadata>=4.8.3 in /srv/conda/lib/python3.9/site-packages (from jupyter-client>=6.1.12->ipykernel>=4.5.1->ipywidgets>=7.0.0->cufflinks) (7.0.1)\n",
      "Requirement already satisfied: zipp>=0.5 in /srv/conda/lib/python3.9/site-packages (from importlib-metadata>=4.8.3->jupyter-client>=6.1.12->ipykernel>=4.5.1->ipywidgets>=7.0.0->cufflinks) (3.17.0)\n",
      "Requirement already satisfied: platformdirs>=2.5 in /srv/conda/lib/python3.9/site-packages (from jupyter-core!=5.0.*,>=4.12->jupyter-client>=6.1.12->ipykernel>=4.5.1->ipywidgets>=7.0.0->cufflinks) (4.1.0)\n",
      "Note: you may need to restart the kernel to use updated packages.\n"
=======
>>>>>>> Stashed changes
     "ename": "KeyboardInterrupt",
     "evalue": "",
     "output_type": "error",
     "traceback": [
      "\u001b[0;31m---------------------------------------------------------------------------\u001b[0m",
      "\u001b[0;31mKeyboardInterrupt\u001b[0m                         Traceback (most recent call last)",
      "Cell \u001b[0;32mIn[1], line 3\u001b[0m\n\u001b[1;32m      1\u001b[0m \u001b[38;5;28;01mimport\u001b[39;00m \u001b[38;5;21;01mnumpy\u001b[39;00m \u001b[38;5;28;01mas\u001b[39;00m \u001b[38;5;21;01mnp\u001b[39;00m\n\u001b[1;32m      2\u001b[0m \u001b[38;5;28;01mimport\u001b[39;00m \u001b[38;5;21;01mpandas\u001b[39;00m \u001b[38;5;28;01mas\u001b[39;00m \u001b[38;5;21;01mpd\u001b[39;00m\n\u001b[0;32m----> 3\u001b[0m \u001b[43mget_ipython\u001b[49m\u001b[43m(\u001b[49m\u001b[43m)\u001b[49m\u001b[38;5;241;43m.\u001b[39;49m\u001b[43mrun_line_magic\u001b[49m\u001b[43m(\u001b[49m\u001b[38;5;124;43m'\u001b[39;49m\u001b[38;5;124;43mmatplotlib\u001b[39;49m\u001b[38;5;124;43m'\u001b[39;49m\u001b[43m,\u001b[49m\u001b[43m \u001b[49m\u001b[38;5;124;43m'\u001b[39;49m\u001b[38;5;124;43minline\u001b[39;49m\u001b[38;5;124;43m'\u001b[39;49m\u001b[43m)\u001b[49m\n\u001b[1;32m      4\u001b[0m \u001b[38;5;28;01mimport\u001b[39;00m \u001b[38;5;21;01mmatplotlib\u001b[39;00m\u001b[38;5;21;01m.\u001b[39;00m\u001b[38;5;21;01mpyplot\u001b[39;00m \u001b[38;5;28;01mas\u001b[39;00m \u001b[38;5;21;01mplt\u001b[39;00m\n\u001b[1;32m      5\u001b[0m \u001b[38;5;28;01mimport\u001b[39;00m \u001b[38;5;21;01mseaborn\u001b[39;00m \u001b[38;5;28;01mas\u001b[39;00m \u001b[38;5;21;01msns\u001b[39;00m\n",
      "File \u001b[0;32m/Library/Frameworks/Python.framework/Versions/3.10/lib/python3.10/site-packages/IPython/core/interactiveshell.py:2369\u001b[0m, in \u001b[0;36mInteractiveShell.run_line_magic\u001b[0;34m(self, magic_name, line, _stack_depth)\u001b[0m\n\u001b[1;32m   2367\u001b[0m     kwargs[\u001b[39m'\u001b[39m\u001b[39mlocal_ns\u001b[39m\u001b[39m'\u001b[39m] \u001b[39m=\u001b[39m \u001b[39mself\u001b[39m\u001b[39m.\u001b[39mget_local_scope(stack_depth)\n\u001b[1;32m   2368\u001b[0m \u001b[39mwith\u001b[39;00m \u001b[39mself\u001b[39m\u001b[39m.\u001b[39mbuiltin_trap:\n\u001b[0;32m-> 2369\u001b[0m     result \u001b[39m=\u001b[39m fn(\u001b[39m*\u001b[39;49margs, \u001b[39m*\u001b[39;49m\u001b[39m*\u001b[39;49mkwargs)\n\u001b[1;32m   2370\u001b[0m \u001b[39mreturn\u001b[39;00m result\n",
      "File \u001b[0;32m/Library/Frameworks/Python.framework/Versions/3.10/lib/python3.10/site-packages/IPython/core/magics/pylab.py:99\u001b[0m, in \u001b[0;36mPylabMagics.matplotlib\u001b[0;34m(self, line)\u001b[0m\n\u001b[1;32m     97\u001b[0m     \u001b[39mprint\u001b[39m(\u001b[39m\"\u001b[39m\u001b[39mAvailable matplotlib backends: \u001b[39m\u001b[39m%s\u001b[39;00m\u001b[39m\"\u001b[39m \u001b[39m%\u001b[39m backends_list)\n\u001b[1;32m     98\u001b[0m \u001b[39melse\u001b[39;00m:\n\u001b[0;32m---> 99\u001b[0m     gui, backend \u001b[39m=\u001b[39m \u001b[39mself\u001b[39;49m\u001b[39m.\u001b[39;49mshell\u001b[39m.\u001b[39;49menable_matplotlib(args\u001b[39m.\u001b[39;49mgui\u001b[39m.\u001b[39;49mlower() \u001b[39mif\u001b[39;49;00m \u001b[39misinstance\u001b[39;49m(args\u001b[39m.\u001b[39;49mgui, \u001b[39mstr\u001b[39;49m) \u001b[39melse\u001b[39;49;00m args\u001b[39m.\u001b[39;49mgui)\n\u001b[1;32m    100\u001b[0m     \u001b[39mself\u001b[39m\u001b[39m.\u001b[39m_show_matplotlib_backend(args\u001b[39m.\u001b[39mgui, backend)\n",
      "File \u001b[0;32m/Library/Frameworks/Python.framework/Versions/3.10/lib/python3.10/site-packages/IPython/core/interactiveshell.py:3522\u001b[0m, in \u001b[0;36mInteractiveShell.enable_matplotlib\u001b[0;34m(self, gui)\u001b[0m\n\u001b[1;32m   3501\u001b[0m \u001b[39mdef\u001b[39;00m \u001b[39menable_matplotlib\u001b[39m(\u001b[39mself\u001b[39m, gui\u001b[39m=\u001b[39m\u001b[39mNone\u001b[39;00m):\n\u001b[1;32m   3502\u001b[0m \u001b[39m    \u001b[39m\u001b[39m\"\"\"Enable interactive matplotlib and inline figure support.\u001b[39;00m\n\u001b[1;32m   3503\u001b[0m \n\u001b[1;32m   3504\u001b[0m \u001b[39m    This takes the following steps:\u001b[39;00m\n\u001b[0;32m   (...)\u001b[0m\n\u001b[1;32m   3520\u001b[0m \u001b[39m        display figures inline.\u001b[39;00m\n\u001b[1;32m   3521\u001b[0m \u001b[39m    \"\"\"\u001b[39;00m\n\u001b[0;32m-> 3522\u001b[0m     \u001b[39mfrom\u001b[39;00m \u001b[39mmatplotlib_inline\u001b[39;00m\u001b[39m.\u001b[39;00m\u001b[39mbackend_inline\u001b[39;00m \u001b[39mimport\u001b[39;00m configure_inline_support\n\u001b[1;32m   3524\u001b[0m     \u001b[39mfrom\u001b[39;00m \u001b[39mIPython\u001b[39;00m\u001b[39m.\u001b[39;00m\u001b[39mcore\u001b[39;00m \u001b[39mimport\u001b[39;00m pylabtools \u001b[39mas\u001b[39;00m pt\n\u001b[1;32m   3525\u001b[0m     gui, backend \u001b[39m=\u001b[39m pt\u001b[39m.\u001b[39mfind_gui_and_backend(gui, \u001b[39mself\u001b[39m\u001b[39m.\u001b[39mpylab_gui_select)\n",
      "File \u001b[0;32m/Library/Frameworks/Python.framework/Versions/3.10/lib/python3.10/site-packages/matplotlib_inline/__init__.py:1\u001b[0m\n\u001b[0;32m----> 1\u001b[0m \u001b[39mfrom\u001b[39;00m \u001b[39m.\u001b[39;00m \u001b[39mimport\u001b[39;00m backend_inline, config  \u001b[39m# noqa\u001b[39;00m\n\u001b[1;32m      2\u001b[0m __version__ \u001b[39m=\u001b[39m \u001b[39m\"\u001b[39m\u001b[39m0.1.6\u001b[39m\u001b[39m\"\u001b[39m  \u001b[39m# noqa\u001b[39;00m\n",
      "File \u001b[0;32m/Library/Frameworks/Python.framework/Versions/3.10/lib/python3.10/site-packages/matplotlib_inline/backend_inline.py:8\u001b[0m\n\u001b[1;32m      6\u001b[0m \u001b[39mimport\u001b[39;00m \u001b[39mmatplotlib\u001b[39;00m\n\u001b[1;32m      7\u001b[0m \u001b[39mfrom\u001b[39;00m \u001b[39mmatplotlib\u001b[39;00m \u001b[39mimport\u001b[39;00m colors\n\u001b[0;32m----> 8\u001b[0m \u001b[39mfrom\u001b[39;00m \u001b[39mmatplotlib\u001b[39;00m\u001b[39m.\u001b[39;00m\u001b[39mbackends\u001b[39;00m \u001b[39mimport\u001b[39;00m backend_agg\n\u001b[1;32m      9\u001b[0m \u001b[39mfrom\u001b[39;00m \u001b[39mmatplotlib\u001b[39;00m\u001b[39m.\u001b[39;00m\u001b[39mbackends\u001b[39;00m\u001b[39m.\u001b[39;00m\u001b[39mbackend_agg\u001b[39;00m \u001b[39mimport\u001b[39;00m FigureCanvasAgg\n\u001b[1;32m     10\u001b[0m \u001b[39mfrom\u001b[39;00m \u001b[39mmatplotlib\u001b[39;00m\u001b[39m.\u001b[39;00m\u001b[39m_pylab_helpers\u001b[39;00m \u001b[39mimport\u001b[39;00m Gcf\n",
      "File \u001b[0;32m/Library/Frameworks/Python.framework/Versions/3.10/lib/python3.10/site-packages/matplotlib/backends/backend_agg.py:32\u001b[0m\n\u001b[1;32m     30\u001b[0m \u001b[39mimport\u001b[39;00m \u001b[39mmatplotlib\u001b[39;00m \u001b[39mas\u001b[39;00m \u001b[39mmpl\u001b[39;00m\n\u001b[1;32m     31\u001b[0m \u001b[39mfrom\u001b[39;00m \u001b[39mmatplotlib\u001b[39;00m \u001b[39mimport\u001b[39;00m _api, cbook\n\u001b[0;32m---> 32\u001b[0m \u001b[39mfrom\u001b[39;00m \u001b[39mmatplotlib\u001b[39;00m\u001b[39m.\u001b[39;00m\u001b[39mbackend_bases\u001b[39;00m \u001b[39mimport\u001b[39;00m (\n\u001b[1;32m     33\u001b[0m     _Backend, FigureCanvasBase, FigureManagerBase, RendererBase)\n\u001b[1;32m     34\u001b[0m \u001b[39mfrom\u001b[39;00m \u001b[39mmatplotlib\u001b[39;00m\u001b[39m.\u001b[39;00m\u001b[39mfont_manager\u001b[39;00m \u001b[39mimport\u001b[39;00m fontManager \u001b[39mas\u001b[39;00m _fontManager, get_font\n\u001b[1;32m     35\u001b[0m \u001b[39mfrom\u001b[39;00m \u001b[39mmatplotlib\u001b[39;00m\u001b[39m.\u001b[39;00m\u001b[39mft2font\u001b[39;00m \u001b[39mimport\u001b[39;00m (LOAD_FORCE_AUTOHINT, LOAD_NO_HINTING,\n\u001b[1;32m     36\u001b[0m                                 LOAD_DEFAULT, LOAD_NO_AUTOHINT)\n",
      "File \u001b[0;32m/Library/Frameworks/Python.framework/Versions/3.10/lib/python3.10/site-packages/matplotlib/backend_bases.py:45\u001b[0m\n\u001b[1;32m     42\u001b[0m \u001b[39mimport\u001b[39;00m \u001b[39mnumpy\u001b[39;00m \u001b[39mas\u001b[39;00m \u001b[39mnp\u001b[39;00m\n\u001b[1;32m     44\u001b[0m \u001b[39mimport\u001b[39;00m \u001b[39mmatplotlib\u001b[39;00m \u001b[39mas\u001b[39;00m \u001b[39mmpl\u001b[39;00m\n\u001b[0;32m---> 45\u001b[0m \u001b[39mfrom\u001b[39;00m \u001b[39mmatplotlib\u001b[39;00m \u001b[39mimport\u001b[39;00m (\n\u001b[1;32m     46\u001b[0m     _api, backend_tools \u001b[39mas\u001b[39;00m tools, cbook, colors, _docstring, text,\n\u001b[1;32m     47\u001b[0m     _tight_bbox, transforms, widgets, get_backend, is_interactive, rcParams)\n\u001b[1;32m     48\u001b[0m \u001b[39mfrom\u001b[39;00m \u001b[39mmatplotlib\u001b[39;00m\u001b[39m.\u001b[39;00m\u001b[39m_pylab_helpers\u001b[39;00m \u001b[39mimport\u001b[39;00m Gcf\n\u001b[1;32m     49\u001b[0m \u001b[39mfrom\u001b[39;00m \u001b[39mmatplotlib\u001b[39;00m\u001b[39m.\u001b[39;00m\u001b[39mbackend_managers\u001b[39;00m \u001b[39mimport\u001b[39;00m ToolManager\n",
      "File \u001b[0;32m/Library/Frameworks/Python.framework/Versions/3.10/lib/python3.10/site-packages/matplotlib/text.py:17\u001b[0m\n\u001b[1;32m     15\u001b[0m \u001b[39mfrom\u001b[39;00m \u001b[39m.\u001b[39;00m\u001b[39martist\u001b[39;00m \u001b[39mimport\u001b[39;00m Artist\n\u001b[1;32m     16\u001b[0m \u001b[39mfrom\u001b[39;00m \u001b[39m.\u001b[39;00m\u001b[39mfont_manager\u001b[39;00m \u001b[39mimport\u001b[39;00m FontProperties\n\u001b[0;32m---> 17\u001b[0m \u001b[39mfrom\u001b[39;00m \u001b[39m.\u001b[39;00m\u001b[39mpatches\u001b[39;00m \u001b[39mimport\u001b[39;00m FancyArrowPatch, FancyBboxPatch, Rectangle\n\u001b[1;32m     18\u001b[0m \u001b[39mfrom\u001b[39;00m \u001b[39m.\u001b[39;00m\u001b[39mtextpath\u001b[39;00m \u001b[39mimport\u001b[39;00m TextPath, TextToPath  \u001b[39m# noqa # Logically located here\u001b[39;00m\n\u001b[1;32m     19\u001b[0m \u001b[39mfrom\u001b[39;00m \u001b[39m.\u001b[39;00m\u001b[39mtransforms\u001b[39;00m \u001b[39mimport\u001b[39;00m (\n\u001b[1;32m     20\u001b[0m     Affine2D, Bbox, BboxBase, BboxTransformTo, IdentityTransform, Transform)\n",
      "File \u001b[0;32m/Library/Frameworks/Python.framework/Versions/3.10/lib/python3.10/site-packages/matplotlib/patches.py:17\u001b[0m\n\u001b[1;32m     14\u001b[0m \u001b[39mimport\u001b[39;00m \u001b[39mnumpy\u001b[39;00m \u001b[39mas\u001b[39;00m \u001b[39mnp\u001b[39;00m\n\u001b[1;32m     16\u001b[0m \u001b[39mimport\u001b[39;00m \u001b[39mmatplotlib\u001b[39;00m \u001b[39mas\u001b[39;00m \u001b[39mmpl\u001b[39;00m\n\u001b[0;32m---> 17\u001b[0m \u001b[39mfrom\u001b[39;00m \u001b[39m.\u001b[39;00m \u001b[39mimport\u001b[39;00m (_api, artist, cbook, colors, _docstring, hatch \u001b[39mas\u001b[39;00m mhatch,\n\u001b[1;32m     18\u001b[0m                lines \u001b[39mas\u001b[39;00m mlines, transforms)\n\u001b[1;32m     19\u001b[0m \u001b[39mfrom\u001b[39;00m \u001b[39m.\u001b[39;00m\u001b[39mbezier\u001b[39;00m \u001b[39mimport\u001b[39;00m (\n\u001b[1;32m     20\u001b[0m     NonIntersectingPathException, get_cos_sin, get_intersection,\n\u001b[1;32m     21\u001b[0m     get_parallels, inside_circle, make_wedged_bezier2,\n\u001b[1;32m     22\u001b[0m     split_bezier_intersecting_with_closedpath, split_path_inout)\n\u001b[1;32m     23\u001b[0m \u001b[39mfrom\u001b[39;00m \u001b[39m.\u001b[39;00m\u001b[39mpath\u001b[39;00m \u001b[39mimport\u001b[39;00m Path\n",
      "File \u001b[0;32m/Library/Frameworks/Python.framework/Versions/3.10/lib/python3.10/site-packages/matplotlib/lines.py:217\u001b[0m\n\u001b[1;32m    200\u001b[0m     \u001b[39melse\u001b[39;00m:\n\u001b[1;32m    201\u001b[0m         \u001b[39mraise\u001b[39;00m \u001b[39mValueError\u001b[39;00m(\u001b[39mf\u001b[39m\u001b[39m\"\u001b[39m\u001b[39mmarkevery=\u001b[39m\u001b[39m{\u001b[39;00mmarkevery\u001b[39m!r}\u001b[39;00m\u001b[39m is not a recognized value\u001b[39m\u001b[39m\"\u001b[39m)\n\u001b[1;32m    204\u001b[0m \u001b[39m@_docstring\u001b[39m\u001b[39m.\u001b[39minterpd\n\u001b[1;32m    205\u001b[0m \u001b[39m@_api\u001b[39m\u001b[39m.\u001b[39mdefine_aliases({\n\u001b[1;32m    206\u001b[0m     \u001b[39m\"\u001b[39m\u001b[39mantialiased\u001b[39m\u001b[39m\"\u001b[39m: [\u001b[39m\"\u001b[39m\u001b[39maa\u001b[39m\u001b[39m\"\u001b[39m],\n\u001b[1;32m    207\u001b[0m     \u001b[39m\"\u001b[39m\u001b[39mcolor\u001b[39m\u001b[39m\"\u001b[39m: [\u001b[39m\"\u001b[39m\u001b[39mc\u001b[39m\u001b[39m\"\u001b[39m],\n\u001b[1;32m    208\u001b[0m     \u001b[39m\"\u001b[39m\u001b[39mdrawstyle\u001b[39m\u001b[39m\"\u001b[39m: [\u001b[39m\"\u001b[39m\u001b[39mds\u001b[39m\u001b[39m\"\u001b[39m],\n\u001b[1;32m    209\u001b[0m     \u001b[39m\"\u001b[39m\u001b[39mlinestyle\u001b[39m\u001b[39m\"\u001b[39m: [\u001b[39m\"\u001b[39m\u001b[39mls\u001b[39m\u001b[39m\"\u001b[39m],\n\u001b[1;32m    210\u001b[0m     \u001b[39m\"\u001b[39m\u001b[39mlinewidth\u001b[39m\u001b[39m\"\u001b[39m: [\u001b[39m\"\u001b[39m\u001b[39mlw\u001b[39m\u001b[39m\"\u001b[39m],\n\u001b[1;32m    211\u001b[0m     \u001b[39m\"\u001b[39m\u001b[39mmarkeredgecolor\u001b[39m\u001b[39m\"\u001b[39m: [\u001b[39m\"\u001b[39m\u001b[39mmec\u001b[39m\u001b[39m\"\u001b[39m],\n\u001b[1;32m    212\u001b[0m     \u001b[39m\"\u001b[39m\u001b[39mmarkeredgewidth\u001b[39m\u001b[39m\"\u001b[39m: [\u001b[39m\"\u001b[39m\u001b[39mmew\u001b[39m\u001b[39m\"\u001b[39m],\n\u001b[1;32m    213\u001b[0m     \u001b[39m\"\u001b[39m\u001b[39mmarkerfacecolor\u001b[39m\u001b[39m\"\u001b[39m: [\u001b[39m\"\u001b[39m\u001b[39mmfc\u001b[39m\u001b[39m\"\u001b[39m],\n\u001b[1;32m    214\u001b[0m     \u001b[39m\"\u001b[39m\u001b[39mmarkerfacecoloralt\u001b[39m\u001b[39m\"\u001b[39m: [\u001b[39m\"\u001b[39m\u001b[39mmfcalt\u001b[39m\u001b[39m\"\u001b[39m],\n\u001b[1;32m    215\u001b[0m     \u001b[39m\"\u001b[39m\u001b[39mmarkersize\u001b[39m\u001b[39m\"\u001b[39m: [\u001b[39m\"\u001b[39m\u001b[39mms\u001b[39m\u001b[39m\"\u001b[39m],\n\u001b[1;32m    216\u001b[0m })\n\u001b[0;32m--> 217\u001b[0m \u001b[39mclass\u001b[39;00m \u001b[39mLine2D\u001b[39;00m(Artist):\n\u001b[1;32m    218\u001b[0m \u001b[39m    \u001b[39m\u001b[39m\"\"\"\u001b[39;00m\n\u001b[1;32m    219\u001b[0m \u001b[39m    A line - the line can have both a solid linestyle connecting all\u001b[39;00m\n\u001b[1;32m    220\u001b[0m \u001b[39m    the vertices, and a marker at each vertex.  Additionally, the\u001b[39;00m\n\u001b[1;32m    221\u001b[0m \u001b[39m    drawing of the solid line is influenced by the drawstyle, e.g., one\u001b[39;00m\n\u001b[1;32m    222\u001b[0m \u001b[39m    can create \"stepped\" lines in various styles.\u001b[39;00m\n\u001b[1;32m    223\u001b[0m \u001b[39m    \"\"\"\u001b[39;00m\n\u001b[1;32m    225\u001b[0m     lineStyles \u001b[39m=\u001b[39m _lineStyles \u001b[39m=\u001b[39m {  \u001b[39m# hidden names deprecated\u001b[39;00m\n\u001b[1;32m    226\u001b[0m         \u001b[39m'\u001b[39m\u001b[39m-\u001b[39m\u001b[39m'\u001b[39m:    \u001b[39m'\u001b[39m\u001b[39m_draw_solid\u001b[39m\u001b[39m'\u001b[39m,\n\u001b[1;32m    227\u001b[0m         \u001b[39m'\u001b[39m\u001b[39m--\u001b[39m\u001b[39m'\u001b[39m:   \u001b[39m'\u001b[39m\u001b[39m_draw_dashed\u001b[39m\u001b[39m'\u001b[39m,\n\u001b[0;32m   (...)\u001b[0m\n\u001b[1;32m    232\u001b[0m         \u001b[39m'\u001b[39m\u001b[39m'\u001b[39m:     \u001b[39m'\u001b[39m\u001b[39m_draw_nothing\u001b[39m\u001b[39m'\u001b[39m,\n\u001b[1;32m    233\u001b[0m     }\n",
      "File \u001b[0;32m/Library/Frameworks/Python.framework/Versions/3.10/lib/python3.10/site-packages/matplotlib/artist.py:150\u001b[0m, in \u001b[0;36mArtist.__init_subclass__\u001b[0;34m(cls)\u001b[0m\n\u001b[1;32m    148\u001b[0m \u001b[39mcls\u001b[39m\u001b[39m.\u001b[39mset\u001b[39m.\u001b[39m\u001b[39m__name__\u001b[39m \u001b[39m=\u001b[39m \u001b[39m\"\u001b[39m\u001b[39mset\u001b[39m\u001b[39m\"\u001b[39m\n\u001b[1;32m    149\u001b[0m \u001b[39mcls\u001b[39m\u001b[39m.\u001b[39mset\u001b[39m.\u001b[39m\u001b[39m__qualname__\u001b[39m \u001b[39m=\u001b[39m \u001b[39mf\u001b[39m\u001b[39m\"\u001b[39m\u001b[39m{\u001b[39;00m\u001b[39mcls\u001b[39m\u001b[39m.\u001b[39m\u001b[39m__qualname__\u001b[39m\u001b[39m}\u001b[39;00m\u001b[39m.set\u001b[39m\u001b[39m\"\u001b[39m\n\u001b[0;32m--> 150\u001b[0m \u001b[39mcls\u001b[39;49m\u001b[39m.\u001b[39;49m_update_set_signature_and_docstring()\n",
      "File \u001b[0;32m/Library/Frameworks/Python.framework/Versions/3.10/lib/python3.10/site-packages/matplotlib/artist.py:178\u001b[0m, in \u001b[0;36mArtist._update_set_signature_and_docstring\u001b[0;34m(cls)\u001b[0m\n\u001b[1;32m    168\u001b[0m \u001b[39mcls\u001b[39m\u001b[39m.\u001b[39mset\u001b[39m.\u001b[39m__signature__ \u001b[39m=\u001b[39m Signature(\n\u001b[1;32m    169\u001b[0m     [Parameter(\u001b[39m\"\u001b[39m\u001b[39mself\u001b[39m\u001b[39m\"\u001b[39m, Parameter\u001b[39m.\u001b[39mPOSITIONAL_OR_KEYWORD),\n\u001b[1;32m    170\u001b[0m      \u001b[39m*\u001b[39m[Parameter(prop, Parameter\u001b[39m.\u001b[39mKEYWORD_ONLY, default\u001b[39m=\u001b[39m_UNSET)\n\u001b[1;32m    171\u001b[0m        \u001b[39mfor\u001b[39;00m prop \u001b[39min\u001b[39;00m ArtistInspector(\u001b[39mcls\u001b[39m)\u001b[39m.\u001b[39mget_setters()\n\u001b[1;32m    172\u001b[0m        \u001b[39mif\u001b[39;00m prop \u001b[39mnot\u001b[39;00m \u001b[39min\u001b[39;00m Artist\u001b[39m.\u001b[39m_PROPERTIES_EXCLUDED_FROM_SET]])\n\u001b[1;32m    173\u001b[0m \u001b[39mcls\u001b[39m\u001b[39m.\u001b[39mset\u001b[39m.\u001b[39m_autogenerated_signature \u001b[39m=\u001b[39m \u001b[39mTrue\u001b[39;00m\n\u001b[1;32m    175\u001b[0m \u001b[39mcls\u001b[39m\u001b[39m.\u001b[39mset\u001b[39m.\u001b[39m\u001b[39m__doc__\u001b[39m \u001b[39m=\u001b[39m (\n\u001b[1;32m    176\u001b[0m     \u001b[39m\"\u001b[39m\u001b[39mSet multiple properties at once.\u001b[39m\u001b[39m\\n\u001b[39;00m\u001b[39m\\n\u001b[39;00m\u001b[39m\"\u001b[39m\n\u001b[1;32m    177\u001b[0m     \u001b[39m\"\u001b[39m\u001b[39mSupported properties are\u001b[39m\u001b[39m\\n\u001b[39;00m\u001b[39m\\n\u001b[39;00m\u001b[39m\"\u001b[39m\n\u001b[0;32m--> 178\u001b[0m     \u001b[39m+\u001b[39m kwdoc(\u001b[39mcls\u001b[39;49m))\n",
      "File \u001b[0;32m/Library/Frameworks/Python.framework/Versions/3.10/lib/python3.10/site-packages/matplotlib/artist.py:1860\u001b[0m, in \u001b[0;36mkwdoc\u001b[0;34m(artist)\u001b[0m\n\u001b[1;32m   1842\u001b[0m \u001b[39m\u001b[39m\u001b[39mr\u001b[39m\u001b[39m\"\"\"\u001b[39;00m\n\u001b[1;32m   1843\u001b[0m \u001b[39mInspect an `~matplotlib.artist.Artist` class (using `.ArtistInspector`) and\u001b[39;00m\n\u001b[1;32m   1844\u001b[0m \u001b[39mreturn information about its settable properties and their current values.\u001b[39;00m\n\u001b[0;32m   (...)\u001b[0m\n\u001b[1;32m   1855\u001b[0m \u001b[39m    use in Sphinx) if it is True.\u001b[39;00m\n\u001b[1;32m   1856\u001b[0m \u001b[39m\"\"\"\u001b[39;00m\n\u001b[1;32m   1857\u001b[0m ai \u001b[39m=\u001b[39m ArtistInspector(artist)\n\u001b[1;32m   1858\u001b[0m \u001b[39mreturn\u001b[39;00m (\u001b[39m'\u001b[39m\u001b[39m\\n\u001b[39;00m\u001b[39m'\u001b[39m\u001b[39m.\u001b[39mjoin(ai\u001b[39m.\u001b[39mpprint_setters_rest(leadingspace\u001b[39m=\u001b[39m\u001b[39m4\u001b[39m))\n\u001b[1;32m   1859\u001b[0m         \u001b[39mif\u001b[39;00m mpl\u001b[39m.\u001b[39mrcParams[\u001b[39m'\u001b[39m\u001b[39mdocstring.hardcopy\u001b[39m\u001b[39m'\u001b[39m] \u001b[39melse\u001b[39;00m\n\u001b[0;32m-> 1860\u001b[0m         \u001b[39m'\u001b[39m\u001b[39mProperties:\u001b[39m\u001b[39m\\n\u001b[39;00m\u001b[39m'\u001b[39m \u001b[39m+\u001b[39m \u001b[39m'\u001b[39m\u001b[39m\\n\u001b[39;00m\u001b[39m'\u001b[39m\u001b[39m.\u001b[39mjoin(ai\u001b[39m.\u001b[39;49mpprint_setters(leadingspace\u001b[39m=\u001b[39;49m\u001b[39m4\u001b[39;49m)))\n",
      "File \u001b[0;32m/Library/Frameworks/Python.framework/Versions/3.10/lib/python3.10/site-packages/matplotlib/artist.py:1621\u001b[0m, in \u001b[0;36mArtistInspector.pprint_setters\u001b[0;34m(self, prop, leadingspace)\u001b[0m\n\u001b[1;32m   1619\u001b[0m lines \u001b[39m=\u001b[39m []\n\u001b[1;32m   1620\u001b[0m \u001b[39mfor\u001b[39;00m prop \u001b[39min\u001b[39;00m \u001b[39msorted\u001b[39m(\u001b[39mself\u001b[39m\u001b[39m.\u001b[39mget_setters()):\n\u001b[0;32m-> 1621\u001b[0m     accepts \u001b[39m=\u001b[39m \u001b[39mself\u001b[39;49m\u001b[39m.\u001b[39;49mget_valid_values(prop)\n\u001b[1;32m   1622\u001b[0m     name \u001b[39m=\u001b[39m \u001b[39mself\u001b[39m\u001b[39m.\u001b[39maliased_name(prop)\n\u001b[1;32m   1623\u001b[0m     lines\u001b[39m.\u001b[39mappend(\u001b[39m'\u001b[39m\u001b[39m%s\u001b[39;00m\u001b[39m%s\u001b[39;00m\u001b[39m: \u001b[39m\u001b[39m%s\u001b[39;00m\u001b[39m'\u001b[39m \u001b[39m%\u001b[39m (pad, name, accepts))\n",
      "File \u001b[0;32m/Library/Frameworks/Python.framework/Versions/3.10/lib/python3.10/site-packages/matplotlib/artist.py:1504\u001b[0m, in \u001b[0;36mArtistInspector.get_valid_values\u001b[0;34m(self, attr)\u001b[0m\n\u001b[1;32m   1501\u001b[0m param_name \u001b[39m=\u001b[39m func\u001b[39m.\u001b[39m\u001b[39m__code__\u001b[39m\u001b[39m.\u001b[39mco_varnames[\u001b[39m1\u001b[39m]\n\u001b[1;32m   1502\u001b[0m \u001b[39m# We could set the presence * based on whether the parameter is a\u001b[39;00m\n\u001b[1;32m   1503\u001b[0m \u001b[39m# varargs (it can't be a varkwargs) but it's not really worth it.\u001b[39;00m\n\u001b[0;32m-> 1504\u001b[0m match \u001b[39m=\u001b[39m re\u001b[39m.\u001b[39;49msearch(\u001b[39mr\u001b[39;49m\u001b[39m\"\u001b[39;49m\u001b[39m(?m)^ *\u001b[39;49m\u001b[39m\\\u001b[39;49m\u001b[39m*?\u001b[39;49m\u001b[39m{}\u001b[39;49;00m\u001b[39m : (.+)\u001b[39;49m\u001b[39m\"\u001b[39;49m\u001b[39m.\u001b[39;49mformat(param_name), docstring)\n\u001b[1;32m   1505\u001b[0m \u001b[39mif\u001b[39;00m match:\n\u001b[1;32m   1506\u001b[0m     \u001b[39mreturn\u001b[39;00m match\u001b[39m.\u001b[39mgroup(\u001b[39m1\u001b[39m)\n",
      "File \u001b[0;32m/Library/Frameworks/Python.framework/Versions/3.10/lib/python3.10/re.py:200\u001b[0m, in \u001b[0;36msearch\u001b[0;34m(pattern, string, flags)\u001b[0m\n\u001b[1;32m    197\u001b[0m \u001b[39mdef\u001b[39;00m \u001b[39msearch\u001b[39m(pattern, string, flags\u001b[39m=\u001b[39m\u001b[39m0\u001b[39m):\n\u001b[1;32m    198\u001b[0m \u001b[39m    \u001b[39m\u001b[39m\"\"\"Scan through string looking for a match to the pattern, returning\u001b[39;00m\n\u001b[1;32m    199\u001b[0m \u001b[39m    a Match object, or None if no match was found.\"\"\"\u001b[39;00m\n\u001b[0;32m--> 200\u001b[0m     \u001b[39mreturn\u001b[39;00m _compile(pattern, flags)\u001b[39m.\u001b[39msearch(string)\n",
      "File \u001b[0;32m/Library/Frameworks/Python.framework/Versions/3.10/lib/python3.10/re.py:303\u001b[0m, in \u001b[0;36m_compile\u001b[0;34m(pattern, flags)\u001b[0m\n\u001b[1;32m    301\u001b[0m \u001b[39mif\u001b[39;00m \u001b[39mnot\u001b[39;00m sre_compile\u001b[39m.\u001b[39misstring(pattern):\n\u001b[1;32m    302\u001b[0m     \u001b[39mraise\u001b[39;00m \u001b[39mTypeError\u001b[39;00m(\u001b[39m\"\u001b[39m\u001b[39mfirst argument must be string or compiled pattern\u001b[39m\u001b[39m\"\u001b[39m)\n\u001b[0;32m--> 303\u001b[0m p \u001b[39m=\u001b[39m sre_compile\u001b[39m.\u001b[39;49mcompile(pattern, flags)\n\u001b[1;32m    304\u001b[0m \u001b[39mif\u001b[39;00m \u001b[39mnot\u001b[39;00m (flags \u001b[39m&\u001b[39m DEBUG):\n\u001b[1;32m    305\u001b[0m     \u001b[39mif\u001b[39;00m \u001b[39mlen\u001b[39m(_cache) \u001b[39m>\u001b[39m\u001b[39m=\u001b[39m _MAXCACHE:\n\u001b[1;32m    306\u001b[0m         \u001b[39m# Drop the oldest item\u001b[39;00m\n",
      "File \u001b[0;32m/Library/Frameworks/Python.framework/Versions/3.10/lib/python3.10/sre_compile.py:768\u001b[0m, in \u001b[0;36mcompile\u001b[0;34m(p, flags)\u001b[0m\n\u001b[1;32m    765\u001b[0m \u001b[39melse\u001b[39;00m:\n\u001b[1;32m    766\u001b[0m     pattern \u001b[39m=\u001b[39m \u001b[39mNone\u001b[39;00m\n\u001b[0;32m--> 768\u001b[0m code \u001b[39m=\u001b[39m _code(p, flags)\n\u001b[1;32m    770\u001b[0m \u001b[39mif\u001b[39;00m flags \u001b[39m&\u001b[39m SRE_FLAG_DEBUG:\n\u001b[1;32m    771\u001b[0m     \u001b[39mprint\u001b[39m()\n",
      "File \u001b[0;32m/Library/Frameworks/Python.framework/Versions/3.10/lib/python3.10/sre_compile.py:607\u001b[0m, in \u001b[0;36m_code\u001b[0;34m(p, flags)\u001b[0m\n\u001b[1;32m    604\u001b[0m _compile_info(code, p, flags)\n\u001b[1;32m    606\u001b[0m \u001b[39m# compile the pattern\u001b[39;00m\n\u001b[0;32m--> 607\u001b[0m _compile(code, p\u001b[39m.\u001b[39;49mdata, flags)\n\u001b[1;32m    609\u001b[0m code\u001b[39m.\u001b[39mappend(SUCCESS)\n\u001b[1;32m    611\u001b[0m \u001b[39mreturn\u001b[39;00m code\n",
      "File \u001b[0;32m/Library/Frameworks/Python.framework/Versions/3.10/lib/python3.10/sre_compile.py:168\u001b[0m, in \u001b[0;36m_compile\u001b[0;34m(code, pattern, flags)\u001b[0m\n\u001b[1;32m    166\u001b[0m     emit((group\u001b[39m-\u001b[39m\u001b[39m1\u001b[39m)\u001b[39m*\u001b[39m\u001b[39m2\u001b[39m)\n\u001b[1;32m    167\u001b[0m \u001b[39m# _compile_info(code, p, _combine_flags(flags, add_flags, del_flags))\u001b[39;00m\n\u001b[0;32m--> 168\u001b[0m _compile(code, p, _combine_flags(flags, add_flags, del_flags))\n\u001b[1;32m    169\u001b[0m \u001b[39mif\u001b[39;00m group:\n\u001b[1;32m    170\u001b[0m     emit(MARK)\n",
      "File \u001b[0;32m/Library/Frameworks/Python.framework/Versions/3.10/lib/python3.10/sre_compile.py:138\u001b[0m, in \u001b[0;36m_compile\u001b[0;34m(code, pattern, flags)\u001b[0m\n\u001b[1;32m    136\u001b[0m         emit(ANY)\n\u001b[1;32m    137\u001b[0m \u001b[39melif\u001b[39;00m op \u001b[39min\u001b[39;00m REPEATING_CODES:\n\u001b[0;32m--> 138\u001b[0m     \u001b[39mif\u001b[39;00m flags \u001b[39m&\u001b[39m SRE_FLAG_TEMPLATE:\n\u001b[1;32m    139\u001b[0m         \u001b[39mraise\u001b[39;00m error(\u001b[39m\"\u001b[39m\u001b[39minternal: unsupported template operator \u001b[39m\u001b[39m%r\u001b[39;00m\u001b[39m\"\u001b[39m \u001b[39m%\u001b[39m (op,))\n\u001b[1;32m    140\u001b[0m     \u001b[39mif\u001b[39;00m _simple(av[\u001b[39m2\u001b[39m]):\n",
      "\u001b[0;31mKeyboardInterrupt\u001b[0m: "
<<<<<<< Updated upstream
=======
>>>>>>> 5e52b14f75bdd90f268e6b2ffda66ea3beed0b8b
>>>>>>> Stashed changes
     ]
    }
   ],
   "source": [
    "import numpy as np\n",
    "import pandas as pd\n",
    "%matplotlib inline\n",
    "import matplotlib.pyplot as plt\n",
    "import seaborn as sns\n",
    "sns.set(style = \"whitegrid\", \n",
    "        color_codes = True,\n",
    "        font_scale = 1.5)\n",
    "%pip install wbdata\n",
    "import wbdata\n",
    "%pip install cufflinks\n",
    "import cufflinks as cf\n",
    "cf.go_offline()"
   ]
  },
  {
   "cell_type": "markdown",
   "id": "1eb510fc-f40f-45bd-a5f7-21668d495c08",
   "metadata": {},
   "source": [
    "### Set Population Source"
   ]
  },
  {
   "cell_type": "code",
<<<<<<< Updated upstream
   "execution_count": null,
=======
<<<<<<< HEAD
   "execution_count": 13,
=======
   "execution_count": null,
>>>>>>> 5e52b14f75bdd90f268e6b2ffda66ea3beed0b8b
>>>>>>> Stashed changes
   "id": "22e75016-effa-42e0-8626-08c3c6b13eab",
   "metadata": {},
   "outputs": [],
   "source": [
    "#wbdata.get_source() to get all sources\n",
    "#wbdata.get_topic()\n",
    "#wbdata.get_indicator()\n",
    "\n",
    "source_id = 40 #Population Estimates and Projections\n",
    "indicators = wbdata.get_indicator(source=source_id)"
   ]
  },
  {
   "cell_type": "markdown",
   "id": "453139e6-57aa-48e3-b814-2036b4a53d72",
   "metadata": {},
   "source": [
    "## Search Place Code\n",
    "The following is the example to search the place code for 'world'."
   ]
  },
  {
   "cell_type": "code",
<<<<<<< Updated upstream
   "execution_count": null,
=======
<<<<<<< HEAD
   "execution_count": 14,
=======
   "execution_count": null,
>>>>>>> 5e52b14f75bdd90f268e6b2ffda66ea3beed0b8b
>>>>>>> Stashed changes
   "id": "109672db-c909-4726-9092-0583e9f3ab71",
   "metadata": {},
   "outputs": [
    {
     "data": {
      "text/plain": [
       "id    name\n",
       "----  ----------\n",
       "ARB   Arab World\n",
       "WLD   World"
      ]
     },
<<<<<<< Updated upstream
     "execution_count": 3,
=======
<<<<<<< HEAD
     "execution_count": 14,
=======
     "execution_count": 3,
>>>>>>> 5e52b14f75bdd90f268e6b2ffda66ea3beed0b8b
>>>>>>> Stashed changes
     "metadata": {},
     "output_type": "execute_result"
    }
   ],
   "source": [
    "###change the term 'world' in the function to search the code for the place/region/country that you are interested in\n",
    "wbdata.search_countries(\"world\")"
   ]
  },
  {
   "cell_type": "markdown",
   "id": "bbd57c68-499e-489c-a312-a7457d0ac8e5",
   "metadata": {},
   "source": [
    "# Deliverables"
   ]
  },
  {
   "cell_type": "markdown",
   "id": "044b5d64-688d-4994-80d5-1ae897a51593",
   "metadata": {},
   "source": [
    "## 1. [A] Population Dataframes\n",
    "A function that returns a pandas DataFrame indexed by Region or Country and Year, with columns giving counts of people in different age-sex groups.\n"
   ]
  },
  {
   "cell_type": "markdown",
   "id": "f2fd3779-c7c6-439c-bc41-bc60b8e8fc88",
   "metadata": {},
   "source": [
    "#### Variables Clarification\n",
    "\n",
    "population_df(year, sex, age_range, place_code):\n",
    "<br>\n",
    "year: 1960 to 2022\n",
    "<br>\n",
    "sex: \"male\"/ \"female\"/ \"all\"\n",
    "<br>\n",
    "age_range: accepts a list of two integers which should be or will be rounded to nearest multiplers of 5; and includes first rounded integer but exludes the second \n",
    "<br>\n",
    "&emsp;&emsp;&emsp;&emsp;(ex. [0, 8] aging from 0 inclusive to 10 exclusive)\n",
    "<br>\n",
    "place_code: accepts country/region/place code\n"
   ]
  },
  {
   "cell_type": "code",
<<<<<<< Updated upstream
   "execution_count": null,
=======
<<<<<<< HEAD
   "execution_count": 15,
=======
   "execution_count": null,
>>>>>>> 5e52b14f75bdd90f268e6b2ffda66ea3beed0b8b
>>>>>>> Stashed changes
   "id": "d1a4f1eb-8af9-4e5c-8e54-df752c681d9b",
   "metadata": {},
   "outputs": [],
   "source": [
    "\"\"\"\n",
    "population age ranges available from dataset:\n",
    "00-04, 05-09, 10-14, 15-19, 20-24, 25-29, 30-34, ..., 70-74, 75-79, above 80\n",
    "\"\"\"\n",
    "\n",
    "def population_df(year=2000, sex='all', age_range=(0, 80), place_code='WLD'):\n",
    "    ##get all five-year age groups from rounded age_range \n",
    "    age_ranges=age_list(age_range)\n",
    "    male_variables = {\"SP.POP.\"+i+\".MA\":\"{}-{}\".format(i[:2], i[2:]) for i in age_ranges}\n",
    "    female_variables = {\"SP.POP.\"+i+\".FE\":\"{}-{}\".format(i[:2], i[2:]) for i in age_ranges}\n",
    "    male_population = get_population_data(year, male_variables, 'male', place_code)\n",
    "    female_population = get_population_data(year, female_variables, 'female', place_code)\n",
    "    if sex=='male':\n",
    "        df=male_population\n",
    "    elif sex=='female':\n",
    "        df=female_population\n",
    "    else:  \n",
    "        df=male_population.merge(female_population, on=\"age\").set_axis(male_population.index)\n",
    "        total_pop = df[\"female\"] + df[\"male\"]\n",
    "        df[\"total\"] = total_pop\n",
    "    return df\n",
    "\n",
    "\n",
    "def get_population_data(year, variables, gender, place_code):\n",
    "    population_data = wbdata.get_dataframe(variables, country=place_code)\n",
    "    population_data.index = population_data.index.astype(int)\n",
    "    population_data.reset_index(inplace=True)\n",
    "    population_data = population_data[population_data['date']==year].melt(id_vars=[\"date\"], var_name=\"age\", value_name=gender)\n",
    "    population_data['place'] = place_code\n",
    "    population_data.set_index(['place', 'date'], inplace=True)\n",
    "    return population_data\n",
    "\n",
    "\n",
    "\n",
    "##age_list function returns a list of five-year age group strings from rounded age_range       \n",
    "def age_list(age_range):\n",
    "    #round age_range to nearst multiples of five \n",
    "    def round_age(age_range):\n",
    "        for i in range(0,2):\n",
    "            if 0<age_range[i]%5<3:\n",
    "                age_range[i]-=age_range[i]%5\n",
    "                i+=1\n",
    "            elif age_range[i]%5>=3:\n",
    "                age_range[i]+=(5-age_range[i]%5)\n",
    "                i+=1\n",
    "            else:\n",
    "                i+=1\n",
    "        return age_range\n",
    "    results = []\n",
    "    age_lb, age_ub = round_age(age_range) \n",
    "    while age_lb < min(79, age_ub):\n",
    "        results.append(\"{:02d}{:02d}\".format(age_lb, age_lb + 4))\n",
    "        age_lb += 5\n",
    "    if age_lb >= 80:\n",
    "        results.append('80UP')\n",
    "    return results   "
   ]
  },
  {
   "cell_type": "code",
<<<<<<< Updated upstream
   "execution_count": null,
   "id": "fbf92190-6d96-463b-a2eb-4e16fa667a9f",
=======
<<<<<<< HEAD
   "execution_count": 16,
   "id": "1e16a67a-9a5f-43a6-8982-cd5b3468d40e",
=======
   "execution_count": null,
   "id": "fbf92190-6d96-463b-a2eb-4e16fa667a9f",
>>>>>>> 5e52b14f75bdd90f268e6b2ffda66ea3beed0b8b
>>>>>>> Stashed changes
   "metadata": {},
   "outputs": [
    {
     "data": {
      "text/html": [
       "<div>\n",
       "<style scoped>\n",
       "    .dataframe tbody tr th:only-of-type {\n",
       "        vertical-align: middle;\n",
       "    }\n",
       "\n",
       "    .dataframe tbody tr th {\n",
       "        vertical-align: top;\n",
       "    }\n",
       "\n",
       "    .dataframe thead th {\n",
       "        text-align: right;\n",
       "    }\n",
       "</style>\n",
       "<table border=\"1\" class=\"dataframe\">\n",
       "  <thead>\n",
       "    <tr style=\"text-align: right;\">\n",
       "      <th></th>\n",
       "      <th></th>\n",
       "      <th>age</th>\n",
       "      <th>male</th>\n",
       "      <th>female</th>\n",
       "      <th>total</th>\n",
       "    </tr>\n",
       "    <tr>\n",
       "      <th>place</th>\n",
       "      <th>date</th>\n",
       "      <th></th>\n",
       "      <th></th>\n",
       "      <th></th>\n",
       "      <th></th>\n",
       "    </tr>\n",
       "  </thead>\n",
       "  <tbody>\n",
       "    <tr>\n",
       "      <th rowspan=\"17\" valign=\"top\">WLD</th>\n",
       "      <th>2000</th>\n",
       "      <td>00-04</td>\n",
       "      <td>319947454.0</td>\n",
       "      <td>299176185.0</td>\n",
       "      <td>619123639.0</td>\n",
       "    </tr>\n",
       "    <tr>\n",
       "      <th>2000</th>\n",
       "      <td>05-09</td>\n",
       "      <td>317085952.0</td>\n",
       "      <td>297917803.0</td>\n",
       "      <td>615003755.0</td>\n",
       "    </tr>\n",
       "    <tr>\n",
       "      <th>2000</th>\n",
       "      <td>10-14</td>\n",
       "      <td>319870427.0</td>\n",
       "      <td>302850456.0</td>\n",
       "      <td>622720883.0</td>\n",
       "    </tr>\n",
       "    <tr>\n",
       "      <th>2000</th>\n",
       "      <td>15-19</td>\n",
       "      <td>293445532.0</td>\n",
       "      <td>280015254.0</td>\n",
       "      <td>573460786.0</td>\n",
       "    </tr>\n",
       "    <tr>\n",
       "      <th>2000</th>\n",
       "      <td>20-24</td>\n",
       "      <td>263094592.0</td>\n",
       "      <td>252662959.0</td>\n",
       "      <td>515757551.0</td>\n",
       "    </tr>\n",
       "    <tr>\n",
       "      <th>2000</th>\n",
       "      <td>25-29</td>\n",
       "      <td>256458181.0</td>\n",
       "      <td>248149260.0</td>\n",
       "      <td>504607441.0</td>\n",
       "    </tr>\n",
       "    <tr>\n",
       "      <th>2000</th>\n",
       "      <td>30-34</td>\n",
       "      <td>241585037.0</td>\n",
       "      <td>235168152.0</td>\n",
       "      <td>476753189.0</td>\n",
       "    </tr>\n",
       "    <tr>\n",
       "      <th>2000</th>\n",
       "      <td>35-39</td>\n",
       "      <td>216703667.0</td>\n",
       "      <td>212545788.0</td>\n",
       "      <td>429249455.0</td>\n",
       "    </tr>\n",
       "    <tr>\n",
       "      <th>2000</th>\n",
       "      <td>40-44</td>\n",
       "      <td>187436101.0</td>\n",
       "      <td>185210979.0</td>\n",
       "      <td>372647080.0</td>\n",
       "    </tr>\n",
       "    <tr>\n",
       "      <th>2000</th>\n",
       "      <td>45-49</td>\n",
       "      <td>166501073.0</td>\n",
       "      <td>166483260.0</td>\n",
       "      <td>332984333.0</td>\n",
       "    </tr>\n",
       "    <tr>\n",
       "      <th>2000</th>\n",
       "      <td>50-54</td>\n",
       "      <td>131738554.0</td>\n",
       "      <td>133190888.0</td>\n",
       "      <td>264929442.0</td>\n",
       "    </tr>\n",
       "    <tr>\n",
       "      <th>2000</th>\n",
       "      <td>55-59</td>\n",
       "      <td>102296144.0</td>\n",
       "      <td>105259506.0</td>\n",
       "      <td>207555650.0</td>\n",
       "    </tr>\n",
       "    <tr>\n",
       "      <th>2000</th>\n",
       "      <td>60-64</td>\n",
       "      <td>90035292.0</td>\n",
       "      <td>96389771.0</td>\n",
       "      <td>186425063.0</td>\n",
       "    </tr>\n",
       "    <tr>\n",
       "      <th>2000</th>\n",
       "      <td>65-69</td>\n",
       "      <td>71463003.0</td>\n",
       "      <td>80630658.0</td>\n",
       "      <td>152093661.0</td>\n",
       "    </tr>\n",
       "    <tr>\n",
       "      <th>2000</th>\n",
       "      <td>70-74</td>\n",
       "      <td>53316050.0</td>\n",
       "      <td>65710609.0</td>\n",
       "      <td>119026659.0</td>\n",
       "    </tr>\n",
       "    <tr>\n",
       "      <th>2000</th>\n",
       "      <td>75-79</td>\n",
       "      <td>32840343.0</td>\n",
       "      <td>47015814.0</td>\n",
       "      <td>79856157.0</td>\n",
       "    </tr>\n",
       "    <tr>\n",
       "      <th>2000</th>\n",
       "      <td>80-UP</td>\n",
       "      <td>25022711.0</td>\n",
       "      <td>47104089.0</td>\n",
       "      <td>72126800.0</td>\n",
       "    </tr>\n",
       "  </tbody>\n",
       "</table>\n",
       "</div>"
      ],
      "text/plain": [
       "              age         male       female        total\n",
       "place date                                              \n",
       "WLD   2000  00-04  319947454.0  299176185.0  619123639.0\n",
       "      2000  05-09  317085952.0  297917803.0  615003755.0\n",
       "      2000  10-14  319870427.0  302850456.0  622720883.0\n",
       "      2000  15-19  293445532.0  280015254.0  573460786.0\n",
       "      2000  20-24  263094592.0  252662959.0  515757551.0\n",
       "      2000  25-29  256458181.0  248149260.0  504607441.0\n",
       "      2000  30-34  241585037.0  235168152.0  476753189.0\n",
       "      2000  35-39  216703667.0  212545788.0  429249455.0\n",
       "      2000  40-44  187436101.0  185210979.0  372647080.0\n",
       "      2000  45-49  166501073.0  166483260.0  332984333.0\n",
       "      2000  50-54  131738554.0  133190888.0  264929442.0\n",
       "      2000  55-59  102296144.0  105259506.0  207555650.0\n",
       "      2000  60-64   90035292.0   96389771.0  186425063.0\n",
       "      2000  65-69   71463003.0   80630658.0  152093661.0\n",
       "      2000  70-74   53316050.0   65710609.0  119026659.0\n",
       "      2000  75-79   32840343.0   47015814.0   79856157.0\n",
       "      2000  80-UP   25022711.0   47104089.0   72126800.0"
      ]
     },
<<<<<<< Updated upstream
     "execution_count": 5,
=======
<<<<<<< HEAD
     "execution_count": 16,
=======
     "execution_count": 5,
>>>>>>> 5e52b14f75bdd90f268e6b2ffda66ea3beed0b8b
>>>>>>> Stashed changes
     "metadata": {},
     "output_type": "execute_result"
    }
   ],
   "source": [
    "world_pop = population_df(year=2000, sex='all', age_range=(0, 80), place_code='WLD')\n",
    "world_pop"
   ]
  },
  {
   "cell_type": "code",
   "execution_count": null,
   "id": "10aa230f-37a0-47ea-9fd2-a7e58339cfc2",
   "metadata": {},
   "outputs": [
    {
     "data": {
      "text/html": [
       "<div>\n",
       "<style scoped>\n",
       "    .dataframe tbody tr th:only-of-type {\n",
       "        vertical-align: middle;\n",
       "    }\n",
       "\n",
       "    .dataframe tbody tr th {\n",
       "        vertical-align: top;\n",
       "    }\n",
       "\n",
       "    .dataframe thead tr th {\n",
       "        text-align: left;\n",
       "    }\n",
       "\n",
       "    .dataframe thead tr:last-of-type th {\n",
       "        text-align: right;\n",
       "    }\n",
       "</style>\n",
       "<table border=\"1\" class=\"dataframe\">\n",
       "  <thead>\n",
       "    <tr>\n",
       "      <th></th>\n",
       "      <th></th>\n",
       "      <th colspan=\"10\" halign=\"left\">male</th>\n",
       "      <th>...</th>\n",
       "      <th colspan=\"10\" halign=\"left\">total</th>\n",
       "    </tr>\n",
       "    <tr>\n",
       "      <th></th>\n",
       "      <th>age</th>\n",
       "      <th>00-04</th>\n",
       "      <th>05-09</th>\n",
       "      <th>10-14</th>\n",
       "      <th>15-19</th>\n",
       "      <th>20-24</th>\n",
       "      <th>25-29</th>\n",
       "      <th>30-34</th>\n",
       "      <th>35-39</th>\n",
       "      <th>40-44</th>\n",
       "      <th>45-49</th>\n",
       "      <th>...</th>\n",
       "      <th>35-39</th>\n",
       "      <th>40-44</th>\n",
       "      <th>45-49</th>\n",
       "      <th>50-54</th>\n",
       "      <th>55-59</th>\n",
       "      <th>60-64</th>\n",
       "      <th>65-69</th>\n",
       "      <th>70-74</th>\n",
       "      <th>75-79</th>\n",
       "      <th>80-UP</th>\n",
       "    </tr>\n",
       "    <tr>\n",
       "      <th>place</th>\n",
       "      <th>date</th>\n",
       "      <th></th>\n",
       "      <th></th>\n",
       "      <th></th>\n",
       "      <th></th>\n",
       "      <th></th>\n",
       "      <th></th>\n",
       "      <th></th>\n",
       "      <th></th>\n",
       "      <th></th>\n",
       "      <th></th>\n",
       "      <th></th>\n",
       "      <th></th>\n",
       "      <th></th>\n",
       "      <th></th>\n",
       "      <th></th>\n",
       "      <th></th>\n",
       "      <th></th>\n",
       "      <th></th>\n",
       "      <th></th>\n",
       "      <th></th>\n",
       "      <th></th>\n",
       "    </tr>\n",
       "  </thead>\n",
       "  <tbody>\n",
       "    <tr>\n",
       "      <th>WLD</th>\n",
       "      <th>2000</th>\n",
       "      <td>319947454.0</td>\n",
       "      <td>317085952.0</td>\n",
       "      <td>319870427.0</td>\n",
       "      <td>293445532.0</td>\n",
       "      <td>263094592.0</td>\n",
       "      <td>256458181.0</td>\n",
       "      <td>241585037.0</td>\n",
       "      <td>216703667.0</td>\n",
       "      <td>187436101.0</td>\n",
       "      <td>166501073.0</td>\n",
       "      <td>...</td>\n",
       "      <td>429249455.0</td>\n",
       "      <td>372647080.0</td>\n",
       "      <td>332984333.0</td>\n",
       "      <td>264929442.0</td>\n",
       "      <td>207555650.0</td>\n",
       "      <td>186425063.0</td>\n",
       "      <td>152093661.0</td>\n",
       "      <td>119026659.0</td>\n",
       "      <td>79856157.0</td>\n",
       "      <td>72126800.0</td>\n",
       "    </tr>\n",
       "  </tbody>\n",
       "</table>\n",
       "<p>1 rows × 51 columns</p>\n",
       "</div>"
      ],
      "text/plain": [
       "                   male                                                      \\\n",
       "age               00-04        05-09        10-14        15-19        20-24   \n",
       "place date                                                                    \n",
       "WLD   2000  319947454.0  317085952.0  319870427.0  293445532.0  263094592.0   \n",
       "\n",
       "                                                                             \\\n",
       "age               25-29        30-34        35-39        40-44        45-49   \n",
       "place date                                                                    \n",
       "WLD   2000  256458181.0  241585037.0  216703667.0  187436101.0  166501073.0   \n",
       "\n",
       "            ...        total                                         \\\n",
       "age         ...        35-39        40-44        45-49        50-54   \n",
       "place date  ...                                                       \n",
       "WLD   2000  ...  429249455.0  372647080.0  332984333.0  264929442.0   \n",
       "\n",
       "                                                                            \\\n",
       "age               55-59        60-64        65-69        70-74       75-79   \n",
       "place date                                                                   \n",
       "WLD   2000  207555650.0  186425063.0  152093661.0  119026659.0  79856157.0   \n",
       "\n",
       "                        \n",
       "age              80-UP  \n",
       "place date              \n",
       "WLD   2000  72126800.0  \n",
       "\n",
       "[1 rows x 51 columns]"
      ]
     },
     "execution_count": 6,
     "metadata": {},
     "output_type": "execute_result"
    }
   ],
   "source": [
    "world_pop_1=world_pop.reset_index().set_index(['place','date','age']).unstack('age')\n",
    "world_pop_1"
   ]
  },
  {
   "cell_type": "markdown",
   "id": "b9f21625-5463-4383-9447-c45e10b1dfc6",
   "metadata": {},
   "source": [
    "## 2. [A] Population Statistics\n",
    "A python function named population that will deliver information to answer the queries of the following form:\n",
    "\n",
    "In [year] how many [people/males/females] aged [low] to [high] were living in [the world/region/country]? \n",
    "\n",
    "The function population_stats(year, population, age_low, age_high, place_code) returns a population count given a year, sort of person, age range, and place.\n",
    "\n",
    "Note:Input age_low (inclusive) and age_hig (exclusive) should be the multiplers of 5. Otherwise, it will automatically rounded to nearest multiplers of 5 by the following function."
   ]
  },
  {
   "cell_type": "code",
<<<<<<< Updated upstream
   "execution_count": null,
=======
<<<<<<< HEAD
   "execution_count": 17,
=======
   "execution_count": null,
>>>>>>> 5e52b14f75bdd90f268e6b2ffda66ea3beed0b8b
>>>>>>> Stashed changes
   "id": "34cdd5d1-0ecc-4be4-9ca1-ed6d87acc29a",
   "metadata": {},
   "outputs": [],
   "source": [
    "def population_stats(year=2000, population='people', age_low=0, age_high=100, place_code='WLD'):\n",
    "    if population == 'people':\n",
    "        df= population_df(year=year, sex='all', age_range=[age_low, age_high], place_code=place_code)\n",
    "        result=df['total'].sum()\n",
    "    elif population == 'males':\n",
    "        df=population_df(year, sex='male', age_range=[age_low, age_high], place_code=place_code)\n",
    "        result=df['male'].sum()\n",
    "    else:        \n",
    "        df=population_df(year, sex='female', age_range=[age_low, age_high], place_code=place_code)\n",
    "        result=df['female'].sum() \n",
    "    print(f\"In {year}, there were {result} {population} aged from {age_low} to {age_high} living in {place_code}.\")"
   ]
  },
  {
   "cell_type": "code",
<<<<<<< Updated upstream
   "execution_count": null,
=======
<<<<<<< HEAD
   "execution_count": 18,
=======
   "execution_count": null,
>>>>>>> 5e52b14f75bdd90f268e6b2ffda66ea3beed0b8b
>>>>>>> Stashed changes
   "id": "ea1fbd7d-6b08-49d7-84ee-659e26f8e389",
   "metadata": {},
   "outputs": [
    {
     "name": "stdout",
     "output_type": "stream",
     "text": [
      "In 2000, there were 6144321544.0 people aged from 0 to 100 living in WLD.\n"
     ]
    }
   ],
   "source": [
    "population_stats(year=2000, population='people', age_low=0, age_high=100, place_code='WLD')"
   ]
  },
  {
   "cell_type": "markdown",
   "id": "549456d4",
   "metadata": {},
   "source": [
    "## 3.[B] Population Pyramids"
   ]
  },
  {
   "cell_type": "code",
<<<<<<< HEAD
   "execution_count": 19,
   "id": "aafa39ae",
=======
   "execution_count": null,
   "id": "db963ba3",
>>>>>>> 5e52b14f75bdd90f268e6b2ffda66ea3beed0b8b
   "metadata": {},
   "outputs": [
    {
     "data": {
      "image/png": "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",
      "text/plain": [
       "<Figure size 1000x800 with 1 Axes>"
      ]
     },
     "metadata": {},
     "output_type": "display_data"
    }
   ],
   "source": [
    "def age_gender_population(place, year_range):\n",
    "    df=population_df(year=year_range[0], sex='all', age_range=(0, 80), place_code=place)\n",
    "    for i in range(year_range[0]+1, year_range[1]):\n",
    "        df=df.append(population_df(year=i, sex='all', age_range=(0, 80), place_code=place))\n",
    "    return df\n",
    "\n",
    "df=age_gender_population('WLD', (1960, 2000))\n",
    "df"
   ]
  },
  {
   "cell_type": "code",
   "execution_count": null,
   "id": "db963ba3",
   "metadata": {},
   "outputs": [
    {
     "data": {
      "image/png": "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",
      "text/plain": [
       "<Figure size 1000x800 with 1 Axes>"
      ]
     },
     "metadata": {},
     "output_type": "display_data"
    }
   ],
   "source": [
    "def age_gender_population(place, year_range):\n",
    "    df=population_df(year=year_range[0], sex='all', age_range=(0, 80), place_code=place)\n",
    "    for i in range(year_range[0]+1, year_range[1]):\n",
    "        df=df.append(population_df(year=i, sex='all', age_range=(0, 80), place_code=place))\n",
    "    return df\n",
    "\n",
    "df=age_gender_population('WLD', (1960, 2000))\n",
    "df"
   ]
  },
  {
   "cell_type": "code",
   "execution_count": null,
   "id": "aafa39ae",
   "metadata": {},
   "outputs": [
    {
     "data": {
      "image/png": "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",
      "text/plain": [
       "<Figure size 1000x800 with 1 Axes>"
      ]
     },
     "metadata": {},
     "output_type": "display_data"
    }
   ],
   "source": [
    "import matplotlib.pyplot as plt\n",
    "\n",
    "def plot_population_pyramid(df):\n",
    "    place = 'WLD'\n",
    "    date = 2000   \n",
    "    df_filtered = df.xs((place, date), level=('place', 'date'))\n",
    "    \n",
    "    df_filtered = df_filtered.sort_index()\n",
    "\n",
    "    # Creating the bar plot\n",
    "    age_groups = df_filtered['age']\n",
    "    fig, ax = plt.subplots(figsize=(10, 8))\n",
    "    ax.barh(age_groups, df_filtered['male'], color='orange', label='Males')\n",
    "    ax.barh(age_groups, -df_filtered['female'], color='blue', label='Females')\n",
    "    ax.set_xlabel('Population')\n",
    "    ax.set_title(f'Population Pyramid for {place} in {date}')\n",
    "    ax.legend()\n",
    "    ax.grid(True)\n",
    "    plt.show()\n",
    "\n",
    "plot_population_pyramid(df)"
   ]
  },
  {
   "cell_type": "code",
   "execution_count": 11,
   "id": "19b5b1c9-c7ed-4855-a65e-66e80a40d077",
   "metadata": {},
   "outputs": [
    {
     "data": {
      "text/html": [
       "<div>\n",
       "<style scoped>\n",
       "    .dataframe tbody tr th:only-of-type {\n",
       "        vertical-align: middle;\n",
       "    }\n",
       "\n",
       "    .dataframe tbody tr th {\n",
       "        vertical-align: top;\n",
       "    }\n",
       "\n",
       "    .dataframe thead th {\n",
       "        text-align: right;\n",
       "    }\n",
       "</style>\n",
       "<table border=\"1\" class=\"dataframe\">\n",
       "  <thead>\n",
       "    <tr style=\"text-align: right;\">\n",
       "      <th></th>\n",
       "      <th></th>\n",
       "      <th>age</th>\n",
       "      <th>male</th>\n",
       "      <th>female</th>\n",
       "      <th>total</th>\n",
       "    </tr>\n",
       "    <tr>\n",
       "      <th>place</th>\n",
       "      <th>date</th>\n",
       "      <th></th>\n",
       "      <th></th>\n",
       "      <th></th>\n",
       "      <th></th>\n",
       "    </tr>\n",
       "  </thead>\n",
       "  <tbody>\n",
       "    <tr>\n",
       "      <th rowspan=\"11\" valign=\"top\">WLD</th>\n",
       "      <th>1960</th>\n",
       "      <td>00-04</td>\n",
       "      <td>223550434.0</td>\n",
       "      <td>214068767.0</td>\n",
       "      <td>437619201.0</td>\n",
       "    </tr>\n",
       "    <tr>\n",
       "      <th>1960</th>\n",
       "      <td>05-09</td>\n",
       "      <td>194913791.0</td>\n",
       "      <td>186928885.0</td>\n",
       "      <td>381842676.0</td>\n",
       "    </tr>\n",
       "    <tr>\n",
       "      <th>1960</th>\n",
       "      <td>10-14</td>\n",
       "      <td>160117426.0</td>\n",
       "      <td>153146675.0</td>\n",
       "      <td>313264101.0</td>\n",
       "    </tr>\n",
       "    <tr>\n",
       "      <th>1960</th>\n",
       "      <td>15-19</td>\n",
       "      <td>132060704.0</td>\n",
       "      <td>126516266.0</td>\n",
       "      <td>258576970.0</td>\n",
       "    </tr>\n",
       "    <tr>\n",
       "      <th>1960</th>\n",
       "      <td>20-24</td>\n",
       "      <td>126566767.0</td>\n",
       "      <td>121767259.0</td>\n",
       "      <td>248334026.0</td>\n",
       "    </tr>\n",
       "    <tr>\n",
       "      <th>...</th>\n",
       "      <td>...</td>\n",
       "      <td>...</td>\n",
       "      <td>...</td>\n",
       "      <td>...</td>\n",
       "    </tr>\n",
       "    <tr>\n",
       "      <th>1999</th>\n",
       "      <td>60-64</td>\n",
       "      <td>88523162.0</td>\n",
       "      <td>94867381.0</td>\n",
       "      <td>183390543.0</td>\n",
       "    </tr>\n",
       "    <tr>\n",
       "      <th>1999</th>\n",
       "      <td>65-69</td>\n",
       "      <td>70468910.0</td>\n",
       "      <td>79527893.0</td>\n",
       "      <td>149996803.0</td>\n",
       "    </tr>\n",
       "    <tr>\n",
       "      <th>1999</th>\n",
       "      <td>70-74</td>\n",
       "      <td>51608385.0</td>\n",
       "      <td>64357520.0</td>\n",
       "      <td>115965905.0</td>\n",
       "    </tr>\n",
       "    <tr>\n",
       "      <th>1999</th>\n",
       "      <td>75-79</td>\n",
       "      <td>31535392.0</td>\n",
       "      <td>45367950.0</td>\n",
       "      <td>76903342.0</td>\n",
       "    </tr>\n",
       "    <tr>\n",
       "      <th>1999</th>\n",
       "      <td>80-UP</td>\n",
       "      <td>24052184.0</td>\n",
       "      <td>45742760.0</td>\n",
       "      <td>69794944.0</td>\n",
       "    </tr>\n",
       "  </tbody>\n",
       "</table>\n",
       "<p>680 rows × 4 columns</p>\n",
       "</div>"
      ],
      "text/plain": [
       "              age         male       female        total\n",
       "place date                                              \n",
       "WLD   1960  00-04  223550434.0  214068767.0  437619201.0\n",
       "      1960  05-09  194913791.0  186928885.0  381842676.0\n",
       "      1960  10-14  160117426.0  153146675.0  313264101.0\n",
       "      1960  15-19  132060704.0  126516266.0  258576970.0\n",
       "      1960  20-24  126566767.0  121767259.0  248334026.0\n",
       "...           ...          ...          ...          ...\n",
       "      1999  60-64   88523162.0   94867381.0  183390543.0\n",
       "      1999  65-69   70468910.0   79527893.0  149996803.0\n",
       "      1999  70-74   51608385.0   64357520.0  115965905.0\n",
       "      1999  75-79   31535392.0   45367950.0   76903342.0\n",
       "      1999  80-UP   24052184.0   45742760.0   69794944.0\n",
       "\n",
       "[680 rows x 4 columns]"
      ]
     },
     "execution_count": 11,
     "metadata": {},
     "output_type": "execute_result"
    }
   ],
   "source": []
  },
  {
   "cell_type": "markdown",
   "id": "56428631",
   "metadata": {},
   "source": [
    " [C] Animated Population Pyramids"
   ]
  },
  {
   "cell_type": "code",
<<<<<<< Updated upstream
   "execution_count": 15,
=======
<<<<<<< HEAD
   "execution_count": 20,
=======
   "execution_count": 15,
>>>>>>> 5e52b14f75bdd90f268e6b2ffda66ea3beed0b8b
>>>>>>> Stashed changes
   "id": "fa97247f",
   "metadata": {},
   "outputs": [
    {
<<<<<<< Updated upstream
=======
<<<<<<< HEAD
     "ename": "AttributeError",
     "evalue": "'function' object has no attribute 'xs'",
     "output_type": "error",
     "traceback": [
      "\u001b[0;31m---------------------------------------------------------------------------\u001b[0m",
      "\u001b[0;31mAttributeError\u001b[0m                            Traceback (most recent call last)",
      "Cell \u001b[0;32mIn[20], line 25\u001b[0m\n\u001b[1;32m     21\u001b[0m     plt\u001b[38;5;241m.\u001b[39mshow()\n\u001b[1;32m     23\u001b[0m     \u001b[38;5;28;01mreturn\u001b[39;00m anim\n\u001b[0;32m---> 25\u001b[0m years_list \u001b[38;5;241m=\u001b[39m \u001b[38;5;28msorted\u001b[39m(\u001b[43mpopulation_df\u001b[49m\u001b[38;5;241;43m.\u001b[39;49m\u001b[43mxs\u001b[49m(\u001b[38;5;124m'\u001b[39m\u001b[38;5;124mWLD\u001b[39m\u001b[38;5;124m'\u001b[39m, level\u001b[38;5;241m=\u001b[39m\u001b[38;5;124m'\u001b[39m\u001b[38;5;124mplace\u001b[39m\u001b[38;5;124m'\u001b[39m)\u001b[38;5;241m.\u001b[39mindex\u001b[38;5;241m.\u001b[39mget_level_values(\u001b[38;5;124m'\u001b[39m\u001b[38;5;124mdate\u001b[39m\u001b[38;5;124m'\u001b[39m)\u001b[38;5;241m.\u001b[39munique())\n\u001b[1;32m     26\u001b[0m animate_population_pyramid(population_df, \u001b[38;5;124m'\u001b[39m\u001b[38;5;124mWLD\u001b[39m\u001b[38;5;124m'\u001b[39m, years\u001b[38;5;241m=\u001b[39myears_list)\n",
      "\u001b[0;31mAttributeError\u001b[0m: 'function' object has no attribute 'xs'"
     ]
=======
>>>>>>> Stashed changes
     "data": {
      "image/png": "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",
      "text/plain": [
       "<Figure size 1000x800 with 1 Axes>"
      ]
     },
     "metadata": {},
     "output_type": "display_data"
    },
    {
     "data": {
      "text/plain": [
       "<matplotlib.animation.FuncAnimation at 0x7b1548b2b5b0>"
      ]
     },
     "execution_count": 15,
     "metadata": {},
     "output_type": "execute_result"
<<<<<<< Updated upstream
=======
>>>>>>> 5e52b14f75bdd90f268e6b2ffda66ea3beed0b8b
>>>>>>> Stashed changes
    }
   ],
   "source": [
    "from matplotlib.animation import FuncAnimation\n",
    "\n",
    "def animate_population_pyramid(df):\n",
    "    place = 'WLD'\n",
    "    years = 2000\n",
    "    fig, ax = plt.subplots(figsize=(10, 8))\n",
    "    \n",
    "    def update(year):\n",
    "        ax.clear()\n",
    "        data_year = df.xs((place, year), level=('place', 'date'))\n",
    "        age_groups = data_year['age']\n",
    "        ax.barh(age_groups, data_year['male'], color='blue', label='Males')\n",
    "        ax.barh(age_groups, -data_year['female'], color='pink', label='Females')\n",
    "        ax.set_xlabel('Population')\n",
    "        ax.set_title(f'Population Pyramid for {place} in {year}')\n",
    "        ax.legend()\n",
    "        ax.grid(True)\n",
    "    \n",
    "    anim = FuncAnimation(fig, update, frames=years, repeat=False)\n",
    "    plt.show()\n",
    "\n",
    "    return anim\n",
    "\n",
    "#years_list = sorted(population_df.xs('WLD', level='place').index.get_level_values('date').unique())\n",
    "animate_population_pyramid(df)"
<<<<<<< Updated upstream
=======
   ]
  },
  {
   "cell_type": "markdown",
   "id": "242f8b0f-24f5-4773-8a10-1fb89406a32e",
   "metadata": {},
   "source": [
    "## 7.[C] Other Visualization Tools"
>>>>>>> Stashed changes
   ]
  },
  {
   "cell_type": "code",
   "execution_count": 27,
   "id": "839e85ef-257d-4bfd-b6e2-1bf951998c73",
   "metadata": {},
   "outputs": [
    {
     "data": {
      "application/vnd.plotly.v1+json": {
       "config": {
        "linkText": "Export to plot.ly",
        "plotlyServerURL": "https://plot.ly",
        "showLink": true
       },
       "data": [
        {
         "line": {
          "color": "rgba(255, 153, 51, 1.0)",
          "dash": "solid",
          "shape": "linear",
          "width": 1.3
         },
         "mode": "lines",
         "name": "China",
         "text": "",
         "type": "scatter",
         "x": [
          1960,
          1961,
          1962,
          1963,
          1964,
          1965,
          1966,
          1967,
          1968,
          1969,
          1970,
          1971,
          1972,
          1973,
          1974,
          1975,
          1976,
          1977,
          1978,
          1979,
          1980,
          1981,
          1982,
          1983,
          1984,
          1985,
          1986,
          1987,
          1988,
          1989,
          1990,
          1991,
          1992,
          1993,
          1994,
          1995,
          1996,
          1997,
          1998,
          1999,
          2000,
          2001,
          2002,
          2003,
          2004,
          2005,
          2006,
          2007,
          2008,
          2009,
          2010,
          2011,
          2012,
          2013,
          2014,
          2015,
          2016,
          2017,
          2018,
          2019,
          2020,
          2021,
          2022
         ],
         "y": [
          "",
          -1.61999785038569,
          0.196605139571034,
          1.81407508102221,
          1.65947928008615,
          2.64173551354229,
          2.99586975365971,
          2.72894468111034,
          2.76768535017213,
          2.8953269253974,
          2.91675943973791,
          2.87758069327843,
          2.58785170502301,
          2.2833952811832,
          1.93546037813605,
          1.63572658046571,
          1.47467235262699,
          1.29006101413367,
          0.87640001330865,
          0.45676688750289,
          0.339541070309066,
          0.334046362936972,
          0.486379093579183,
          0.62871188358197,
          0.469834594276456,
          0.495456907530141,
          0.595274324416893,
          0.683647432382676,
          0.661580620450218,
          0.559447167139255,
          0.464975034515592,
          0.174643830516449,
          -0.00364702013121536,
          -0.116016198065801,
          -0.177318684644395,
          -0.261567331587744,
          -0.344790968545297,
          -0.40703713076191,
          -0.517399493786589,
          -0.654731362219618,
          -0.777935942516781,
          -1.18818624622676,
          -1.4701504963595,
          -1.59563906823514,
          -1.70378331818298,
          -1.78102663063287,
          -1.81124634089962,
          -1.87748985110646,
          -1.96321561084525,
          -2.04298504800307,
          -2.13347423873235,
          -2.01694146016743,
          -1.88820699865451,
          -1.95532000621928,
          -2.05726524272071,
          -2.16913010565563,
          -2.24377990247916,
          -2.26468849431265,
          -2.40869646259622,
          -2.51607966103332,
          -2.62426219856902,
          -2.7613220504546,
          -2.84848047649475
         ]
        },
        {
         "line": {
          "color": "rgba(55, 128, 191, 1.0)",
          "dash": "solid",
          "shape": "linear",
          "width": 1.3
         },
         "mode": "lines",
         "name": "Korea, Rep.",
         "text": "",
         "type": "scatter",
         "x": [
          1960,
          1961,
          1962,
          1963,
          1964,
          1965,
          1966,
          1967,
          1968,
          1969,
          1970,
          1971,
          1972,
          1973,
          1974,
          1975,
          1976,
          1977,
          1978,
          1979,
          1980,
          1981,
          1982,
          1983,
          1984,
          1985,
          1986,
          1987,
          1988,
          1989,
          1990,
          1991,
          1992,
          1993,
          1994,
          1995,
          1996,
          1997,
          1998,
          1999,
          2000,
          2001,
          2002,
          2003,
          2004,
          2005,
          2006,
          2007,
          2008,
          2009,
          2010,
          2011,
          2012,
          2013,
          2014,
          2015,
          2016,
          2017,
          2018,
          2019,
          2020,
          2021,
          2022
         ],
         "y": [
          "",
          1.82504399558176,
          1.54951459453512,
          1.43464737581698,
          1.21905574278993,
          1.10534661934895,
          1.03113471602308,
          -0.131658530684203,
          -0.605364118778941,
          -0.807596354928749,
          -1.04822703281755,
          -0.689579443880984,
          -0.633621659857517,
          -0.820515791742617,
          -0.961757673981635,
          -1.07750218179907,
          -1.70160156360299,
          -1.99783886887693,
          -2.16886902328961,
          -2.29244514920902,
          -2.38093681201604,
          -2.41566931249929,
          -2.51239194588361,
          -2.69784773373503,
          -3.05429382162226,
          -3.40191739498953,
          -4.2749646107223,
          -4.83509076853224,
          -5.00477248298899,
          -5.13502457687148,
          -5.29748268559074,
          -3.41855632122604,
          -2.40777781197233,
          -2.45565526438626,
          -2.51031591287418,
          -2.54649179412332,
          -1.01021295605142,
          -0.207626181066068,
          -0.422371938178042,
          -0.44183011422317,
          -0.320068607847126,
          -0.810475409507162,
          -1.22788713883726,
          -1.28970804851687,
          -1.42920247987501,
          -1.60995141929985,
          -0.460618472927006,
          -0.0539289137439797,
          0.202496550193943,
          -0.0452739416019801,
          -0.0593358721954816,
          0.840909322055133,
          0.923215783631227,
          0.851157798095521,
          1.02251166774128,
          0.925555907911393,
          0.788121026951461,
          0.600446737576936,
          0.67111371180372,
          0.504154117366634,
          0.223993326888109,
          -0.176401096544505,
          -0.295873531288081
         ]
        },
        {
         "line": {
          "color": "rgba(50, 171, 96, 1.0)",
          "dash": "solid",
          "shape": "linear",
          "width": 1.3
         },
         "mode": "lines",
         "name": "Thailand",
         "text": "",
         "type": "scatter",
         "x": [
          1960,
          1961,
          1962,
          1963,
          1964,
          1965,
          1966,
          1967,
          1968,
          1969,
          1970,
          1971,
          1972,
          1973,
          1974,
          1975,
          1976,
          1977,
          1978,
          1979,
          1980,
          1981,
          1982,
          1983,
          1984,
          1985,
          1986,
          1987,
          1988,
          1989,
          1990,
          1991,
          1992,
          1993,
          1994,
          1995,
          1996,
          1997,
          1998,
          1999,
          2000,
          2001,
          2002,
          2003,
          2004,
          2005,
          2006,
          2007,
          2008,
          2009,
          2010,
          2011,
          2012,
          2013,
          2014,
          2015,
          2016,
          2017,
          2018,
          2019,
          2020,
          2021,
          2022
         ],
         "y": [
          "",
          2.84010037860806,
          2.89150578904422,
          2.90329423880234,
          2.90503382437138,
          2.90185018861939,
          2.86457117403131,
          2.81237935611687,
          2.76424350442988,
          2.71712545663497,
          2.56666586407852,
          2.09835900041969,
          2.02978769343811,
          1.97093306047747,
          1.8514141727562,
          1.71759574320437,
          1.55287172234723,
          1.45373760775545,
          1.38466961233126,
          1.29439597001929,
          1.41360554071203,
          1.7873955995837,
          1.70534643108103,
          1.65389603934176,
          1.60188790516211,
          1.54696874251542,
          1.48410735808748,
          1.42837134327213,
          1.38234078402946,
          1.31456117998791,
          1.28764552666632,
          1.32584500453458,
          1.2429998973888,
          1.21564519487832,
          1.18870567592426,
          1.13571998454684,
          1.06601367018995,
          1.03481553687427,
          0.982452242661932,
          0.871460159197764,
          0.388373336796576,
          -0.787409589035861,
          -0.878204787365204,
          -0.978733264324292,
          -1.08425040095861,
          -1.1868024689738,
          -1.28294003593064,
          -1.34234854931355,
          -1.42739937029486,
          -1.5206671254315,
          -1.6402994465393,
          -0.865216361301658,
          -0.715625579395782,
          -0.772834692646018,
          -0.855668840488858,
          -0.950077567854611,
          -1.00823449875324,
          -1.05793897969658,
          -1.16206711472242,
          -1.24292222350736,
          -1.27284610728699,
          -1.34531963754895,
          -1.39540385913059
         ]
        },
        {
         "line": {
          "color": "rgba(128, 0, 128, 1.0)",
          "dash": "solid",
          "shape": "linear",
          "width": 1.3
         },
         "mode": "lines",
         "name": "Viet Nam",
         "text": "",
         "type": "scatter",
         "x": [
          1960,
          1961,
          1962,
          1963,
          1964,
          1965,
          1966,
          1967,
          1968,
          1969,
          1970,
          1971,
          1972,
          1973,
          1974,
          1975,
          1976,
          1977,
          1978,
          1979,
          1980,
          1981,
          1982,
          1983,
          1984,
          1985,
          1986,
          1987,
          1988,
          1989,
          1990,
          1991,
          1992,
          1993,
          1994,
          1995,
          1996,
          1997,
          1998,
          1999,
          2000,
          2001,
          2002,
          2003,
          2004,
          2005,
          2006,
          2007,
          2008,
          2009,
          2010,
          2011,
          2012,
          2013,
          2014,
          2015,
          2016,
          2017,
          2018,
          2019,
          2020,
          2021,
          2022
         ],
         "y": [
          "",
          2.33526460136682,
          2.27752078760419,
          2.42592849269486,
          2.3116909801958,
          2.16102168189191,
          1.99618366770007,
          1.85862722994845,
          1.71754801697507,
          1.68111792331869,
          1.72651677305822,
          2.21094185171346,
          2.16150522288184,
          2.10136860257802,
          2.10009649198528,
          2.18705847527976,
          2.38946882854159,
          2.45059584401934,
          2.44266372743312,
          2.08171374868018,
          2.08059156295879,
          2.37019783936707,
          2.38171572236549,
          2.37090326658042,
          2.33990973149839,
          2.29785235042086,
          2.25012477572082,
          2.19808152678625,
          2.14148843401557,
          2.03337400653878,
          1.72718053311824,
          1.67072100776199,
          1.5941024380793,
          1.48537657577161,
          1.3505173865632,
          1.21792499697539,
          1.0855663103189,
          0.952546688861173,
          0.868346908285635,
          0.698449897015638,
          0.383048294533579,
          0.281155750727981,
          0.260088080377094,
          0.245253962169134,
          0.217258330005478,
          0.18538147522591,
          0.130946098767451,
          0.102871908198829,
          0.103648094499622,
          0.130794974169591,
          0.130510680872939,
          0.110106197857633,
          0.0921857852165925,
          0.0794563433893053,
          0.0459818614226579,
          -0.000752179877512022,
          -0.0554769793457835,
          -0.110529312209638,
          -0.162865748391567,
          -0.208088327468402,
          -0.223583835019873,
          -0.298613840974044,
          -0.424480531411212
         ]
        },
        {
         "line": {
          "color": "rgba(219, 64, 82, 1.0)",
          "dash": "solid",
          "shape": "linear",
          "width": 1.3
         },
         "mode": "lines",
         "name": "World",
         "text": "",
         "type": "scatter",
         "x": [
          1960,
          1961,
          1962,
          1963,
          1964,
          1965,
          1966,
          1967,
          1968,
          1969,
          1970,
          1971,
          1972,
          1973,
          1974,
          1975,
          1976,
          1977,
          1978,
          1979,
          1980,
          1981,
          1982,
          1983,
          1984,
          1985,
          1986,
          1987,
          1988,
          1989,
          1990,
          1991,
          1992,
          1993,
          1994,
          1995,
          1996,
          1997,
          1998,
          1999,
          2000,
          2001,
          2002,
          2003,
          2004,
          2005,
          2006,
          2007,
          2008,
          2009,
          2010,
          2011,
          2012,
          2013,
          2014,
          2015,
          2016,
          2017,
          2018,
          2019,
          2020,
          2021,
          2022
         ],
         "y": [
          "",
          0.607098703746061,
          1.10478318858588,
          1.54124715053013,
          1.49583417833145,
          1.73536602853839,
          1.79607636343493,
          1.71866888241358,
          1.73892253680488,
          1.78730741766373,
          1.78795644854006,
          1.78226448129355,
          1.6649440669203,
          1.61072395698166,
          1.50650383708238,
          1.47818462921849,
          1.36972253500581,
          1.31918976364409,
          1.20200449771718,
          1.10208939601549,
          1.06398221136163,
          1.05560721180203,
          1.16934490970169,
          1.20233590483964,
          1.13771995842022,
          1.1346194068992,
          1.14147694252726,
          1.14935367305596,
          1.13019693302638,
          1.11540931978938,
          1.10780489345788,
          1.02718068635366,
          0.973506108374593,
          0.933091659338416,
          0.880578837562325,
          0.842476529162013,
          0.824289157527431,
          0.782678044350419,
          0.734641171037254,
          0.688582095437312,
          0.636925490036376,
          0.48960982438031,
          0.376299773014452,
          0.339822076426969,
          0.301912220917046,
          0.269179783509927,
          0.262863996484739,
          0.251583433998363,
          0.221336787717675,
          0.216820224238674,
          0.21214558923792,
          0.275150922865805,
          0.311704713468046,
          0.278868134454058,
          0.235244517371669,
          0.183958063563949,
          0.165078435280179,
          0.147382700145343,
          0.106249212342775,
          0.0647415961073818,
          0.0256702617805047,
          -0.0810926321235996,
          -0.184019863500467
         ]
        }
       ],
       "layout": {
        "autosize": true,
        "legend": {
         "bgcolor": "#F5F6F9",
         "font": {
          "color": "#4D5663"
         }
        },
        "paper_bgcolor": "#F5F6F9",
        "plot_bgcolor": "#F5F6F9",
        "template": {
         "data": {
          "bar": [
           {
            "error_x": {
             "color": "#2a3f5f"
            },
            "error_y": {
             "color": "#2a3f5f"
            },
            "marker": {
             "line": {
              "color": "#E5ECF6",
              "width": 0.5
             },
             "pattern": {
              "fillmode": "overlay",
              "size": 10,
              "solidity": 0.2
             }
            },
            "type": "bar"
           }
          ],
          "barpolar": [
           {
            "marker": {
             "line": {
              "color": "#E5ECF6",
              "width": 0.5
             },
             "pattern": {
              "fillmode": "overlay",
              "size": 10,
              "solidity": 0.2
             }
            },
            "type": "barpolar"
           }
          ],
          "carpet": [
           {
            "aaxis": {
             "endlinecolor": "#2a3f5f",
             "gridcolor": "white",
             "linecolor": "white",
             "minorgridcolor": "white",
             "startlinecolor": "#2a3f5f"
            },
            "baxis": {
             "endlinecolor": "#2a3f5f",
             "gridcolor": "white",
             "linecolor": "white",
             "minorgridcolor": "white",
             "startlinecolor": "#2a3f5f"
            },
            "type": "carpet"
           }
          ],
          "choropleth": [
           {
            "colorbar": {
             "outlinewidth": 0,
             "ticks": ""
            },
            "type": "choropleth"
           }
          ],
          "contour": [
           {
            "colorbar": {
             "outlinewidth": 0,
             "ticks": ""
            },
            "colorscale": [
             [
              0,
              "#0d0887"
             ],
             [
              0.1111111111111111,
              "#46039f"
             ],
             [
              0.2222222222222222,
              "#7201a8"
             ],
             [
              0.3333333333333333,
              "#9c179e"
             ],
             [
              0.4444444444444444,
              "#bd3786"
             ],
             [
              0.5555555555555556,
              "#d8576b"
             ],
             [
              0.6666666666666666,
              "#ed7953"
             ],
             [
              0.7777777777777778,
              "#fb9f3a"
             ],
             [
              0.8888888888888888,
              "#fdca26"
             ],
             [
              1,
              "#f0f921"
             ]
            ],
            "type": "contour"
           }
          ],
          "contourcarpet": [
           {
            "colorbar": {
             "outlinewidth": 0,
             "ticks": ""
            },
            "type": "contourcarpet"
           }
          ],
          "heatmap": [
           {
            "colorbar": {
             "outlinewidth": 0,
             "ticks": ""
            },
            "colorscale": [
             [
              0,
              "#0d0887"
             ],
             [
              0.1111111111111111,
              "#46039f"
             ],
             [
              0.2222222222222222,
              "#7201a8"
             ],
             [
              0.3333333333333333,
              "#9c179e"
             ],
             [
              0.4444444444444444,
              "#bd3786"
             ],
             [
              0.5555555555555556,
              "#d8576b"
             ],
             [
              0.6666666666666666,
              "#ed7953"
             ],
             [
              0.7777777777777778,
              "#fb9f3a"
             ],
             [
              0.8888888888888888,
              "#fdca26"
             ],
             [
              1,
              "#f0f921"
             ]
            ],
            "type": "heatmap"
           }
          ],
          "heatmapgl": [
           {
            "colorbar": {
             "outlinewidth": 0,
             "ticks": ""
            },
            "colorscale": [
             [
              0,
              "#0d0887"
             ],
             [
              0.1111111111111111,
              "#46039f"
             ],
             [
              0.2222222222222222,
              "#7201a8"
             ],
             [
              0.3333333333333333,
              "#9c179e"
             ],
             [
              0.4444444444444444,
              "#bd3786"
             ],
             [
              0.5555555555555556,
              "#d8576b"
             ],
             [
              0.6666666666666666,
              "#ed7953"
             ],
             [
              0.7777777777777778,
              "#fb9f3a"
             ],
             [
              0.8888888888888888,
              "#fdca26"
             ],
             [
              1,
              "#f0f921"
             ]
            ],
            "type": "heatmapgl"
           }
          ],
          "histogram": [
           {
            "marker": {
             "pattern": {
              "fillmode": "overlay",
              "size": 10,
              "solidity": 0.2
             }
            },
            "type": "histogram"
           }
          ],
          "histogram2d": [
           {
            "colorbar": {
             "outlinewidth": 0,
             "ticks": ""
            },
            "colorscale": [
             [
              0,
              "#0d0887"
             ],
             [
              0.1111111111111111,
              "#46039f"
             ],
             [
              0.2222222222222222,
              "#7201a8"
             ],
             [
              0.3333333333333333,
              "#9c179e"
             ],
             [
              0.4444444444444444,
              "#bd3786"
             ],
             [
              0.5555555555555556,
              "#d8576b"
             ],
             [
              0.6666666666666666,
              "#ed7953"
             ],
             [
              0.7777777777777778,
              "#fb9f3a"
             ],
             [
              0.8888888888888888,
              "#fdca26"
             ],
             [
              1,
              "#f0f921"
             ]
            ],
            "type": "histogram2d"
           }
          ],
          "histogram2dcontour": [
           {
            "colorbar": {
             "outlinewidth": 0,
             "ticks": ""
            },
            "colorscale": [
             [
              0,
              "#0d0887"
             ],
             [
              0.1111111111111111,
              "#46039f"
             ],
             [
              0.2222222222222222,
              "#7201a8"
             ],
             [
              0.3333333333333333,
              "#9c179e"
             ],
             [
              0.4444444444444444,
              "#bd3786"
             ],
             [
              0.5555555555555556,
              "#d8576b"
             ],
             [
              0.6666666666666666,
              "#ed7953"
             ],
             [
              0.7777777777777778,
              "#fb9f3a"
             ],
             [
              0.8888888888888888,
              "#fdca26"
             ],
             [
              1,
              "#f0f921"
             ]
            ],
            "type": "histogram2dcontour"
           }
          ],
          "mesh3d": [
           {
            "colorbar": {
             "outlinewidth": 0,
             "ticks": ""
            },
            "type": "mesh3d"
           }
          ],
          "parcoords": [
           {
            "line": {
             "colorbar": {
              "outlinewidth": 0,
              "ticks": ""
             }
            },
            "type": "parcoords"
           }
          ],
          "pie": [
           {
            "automargin": true,
            "type": "pie"
           }
          ],
          "scatter": [
           {
            "fillpattern": {
             "fillmode": "overlay",
             "size": 10,
             "solidity": 0.2
            },
            "type": "scatter"
           }
          ],
          "scatter3d": [
           {
            "line": {
             "colorbar": {
              "outlinewidth": 0,
              "ticks": ""
             }
            },
            "marker": {
             "colorbar": {
              "outlinewidth": 0,
              "ticks": ""
             }
            },
            "type": "scatter3d"
           }
          ],
          "scattercarpet": [
           {
            "marker": {
             "colorbar": {
              "outlinewidth": 0,
              "ticks": ""
             }
            },
            "type": "scattercarpet"
           }
          ],
          "scattergeo": [
           {
            "marker": {
             "colorbar": {
              "outlinewidth": 0,
              "ticks": ""
             }
            },
            "type": "scattergeo"
           }
          ],
          "scattergl": [
           {
            "marker": {
             "colorbar": {
              "outlinewidth": 0,
              "ticks": ""
             }
            },
            "type": "scattergl"
           }
          ],
          "scattermapbox": [
           {
            "marker": {
             "colorbar": {
              "outlinewidth": 0,
              "ticks": ""
             }
            },
            "type": "scattermapbox"
           }
          ],
          "scatterpolar": [
           {
            "marker": {
             "colorbar": {
              "outlinewidth": 0,
              "ticks": ""
             }
            },
            "type": "scatterpolar"
           }
          ],
          "scatterpolargl": [
           {
            "marker": {
             "colorbar": {
              "outlinewidth": 0,
              "ticks": ""
             }
            },
            "type": "scatterpolargl"
           }
          ],
          "scatterternary": [
           {
            "marker": {
             "colorbar": {
              "outlinewidth": 0,
              "ticks": ""
             }
            },
            "type": "scatterternary"
           }
          ],
          "surface": [
           {
            "colorbar": {
             "outlinewidth": 0,
             "ticks": ""
            },
            "colorscale": [
             [
              0,
              "#0d0887"
             ],
             [
              0.1111111111111111,
              "#46039f"
             ],
             [
              0.2222222222222222,
              "#7201a8"
             ],
             [
              0.3333333333333333,
              "#9c179e"
             ],
             [
              0.4444444444444444,
              "#bd3786"
             ],
             [
              0.5555555555555556,
              "#d8576b"
             ],
             [
              0.6666666666666666,
              "#ed7953"
             ],
             [
              0.7777777777777778,
              "#fb9f3a"
             ],
             [
              0.8888888888888888,
              "#fdca26"
             ],
             [
              1,
              "#f0f921"
             ]
            ],
            "type": "surface"
           }
          ],
          "table": [
           {
            "cells": {
             "fill": {
              "color": "#EBF0F8"
             },
             "line": {
              "color": "white"
             }
            },
            "header": {
             "fill": {
              "color": "#C8D4E3"
             },
             "line": {
              "color": "white"
             }
            },
            "type": "table"
           }
          ]
         },
         "layout": {
          "annotationdefaults": {
           "arrowcolor": "#2a3f5f",
           "arrowhead": 0,
           "arrowwidth": 1
          },
          "autotypenumbers": "strict",
          "coloraxis": {
           "colorbar": {
            "outlinewidth": 0,
            "ticks": ""
           }
          },
          "colorscale": {
           "diverging": [
            [
             0,
             "#8e0152"
            ],
            [
             0.1,
             "#c51b7d"
            ],
            [
             0.2,
             "#de77ae"
            ],
            [
             0.3,
             "#f1b6da"
            ],
            [
             0.4,
             "#fde0ef"
            ],
            [
             0.5,
             "#f7f7f7"
            ],
            [
             0.6,
             "#e6f5d0"
            ],
            [
             0.7,
             "#b8e186"
            ],
            [
             0.8,
             "#7fbc41"
            ],
            [
             0.9,
             "#4d9221"
            ],
            [
             1,
             "#276419"
            ]
           ],
           "sequential": [
            [
             0,
             "#0d0887"
            ],
            [
             0.1111111111111111,
             "#46039f"
            ],
            [
             0.2222222222222222,
             "#7201a8"
            ],
            [
             0.3333333333333333,
             "#9c179e"
            ],
            [
             0.4444444444444444,
             "#bd3786"
            ],
            [
             0.5555555555555556,
             "#d8576b"
            ],
            [
             0.6666666666666666,
             "#ed7953"
            ],
            [
             0.7777777777777778,
             "#fb9f3a"
            ],
            [
             0.8888888888888888,
             "#fdca26"
            ],
            [
             1,
             "#f0f921"
            ]
           ],
           "sequentialminus": [
            [
             0,
             "#0d0887"
            ],
            [
             0.1111111111111111,
             "#46039f"
            ],
            [
             0.2222222222222222,
             "#7201a8"
            ],
            [
             0.3333333333333333,
             "#9c179e"
            ],
            [
             0.4444444444444444,
             "#bd3786"
            ],
            [
             0.5555555555555556,
             "#d8576b"
            ],
            [
             0.6666666666666666,
             "#ed7953"
            ],
            [
             0.7777777777777778,
             "#fb9f3a"
            ],
            [
             0.8888888888888888,
             "#fdca26"
            ],
            [
             1,
             "#f0f921"
            ]
           ]
          },
          "colorway": [
           "#636efa",
           "#EF553B",
           "#00cc96",
           "#ab63fa",
           "#FFA15A",
           "#19d3f3",
           "#FF6692",
           "#B6E880",
           "#FF97FF",
           "#FECB52"
          ],
          "font": {
           "color": "#2a3f5f"
          },
          "geo": {
           "bgcolor": "white",
           "lakecolor": "white",
           "landcolor": "#E5ECF6",
           "showlakes": true,
           "showland": true,
           "subunitcolor": "white"
          },
          "hoverlabel": {
           "align": "left"
          },
          "hovermode": "closest",
          "mapbox": {
           "style": "light"
          },
          "paper_bgcolor": "white",
          "plot_bgcolor": "#E5ECF6",
          "polar": {
           "angularaxis": {
            "gridcolor": "white",
            "linecolor": "white",
            "ticks": ""
           },
           "bgcolor": "#E5ECF6",
           "radialaxis": {
            "gridcolor": "white",
            "linecolor": "white",
            "ticks": ""
           }
          },
          "scene": {
           "xaxis": {
            "backgroundcolor": "#E5ECF6",
            "gridcolor": "white",
            "gridwidth": 2,
            "linecolor": "white",
            "showbackground": true,
            "ticks": "",
            "zerolinecolor": "white"
           },
           "yaxis": {
            "backgroundcolor": "#E5ECF6",
            "gridcolor": "white",
            "gridwidth": 2,
            "linecolor": "white",
            "showbackground": true,
            "ticks": "",
            "zerolinecolor": "white"
           },
           "zaxis": {
            "backgroundcolor": "#E5ECF6",
            "gridcolor": "white",
            "gridwidth": 2,
            "linecolor": "white",
            "showbackground": true,
            "ticks": "",
            "zerolinecolor": "white"
           }
          },
          "shapedefaults": {
           "line": {
            "color": "#2a3f5f"
           }
          },
          "ternary": {
           "aaxis": {
            "gridcolor": "white",
            "linecolor": "white",
            "ticks": ""
           },
           "baxis": {
            "gridcolor": "white",
            "linecolor": "white",
            "ticks": ""
           },
           "bgcolor": "#E5ECF6",
           "caxis": {
            "gridcolor": "white",
            "linecolor": "white",
            "ticks": ""
           }
          },
          "title": {
           "x": 0.05
          },
          "xaxis": {
           "automargin": true,
           "gridcolor": "white",
           "linecolor": "white",
           "ticks": "",
           "title": {
            "standoff": 15
           },
           "zerolinecolor": "white",
           "zerolinewidth": 2
          },
          "yaxis": {
           "automargin": true,
           "gridcolor": "white",
           "linecolor": "white",
           "ticks": "",
           "title": {
            "standoff": 15
           },
           "zerolinecolor": "white",
           "zerolinewidth": 2
          }
         }
        },
        "title": {
         "font": {
          "color": "#4D5663"
         },
         "text": "Rural growth rates by country"
        },
        "xaxis": {
         "autorange": true,
         "gridcolor": "#E1E5ED",
         "range": [
          1960,
          2022
         ],
         "showgrid": true,
         "tickfont": {
          "color": "#4D5663"
         },
         "title": {
          "font": {
           "color": "#4D5663"
          },
          "text": "Year"
         },
         "type": "linear",
         "zerolinecolor": "#E1E5ED"
        },
        "yaxis": {
         "autorange": true,
         "gridcolor": "#E1E5ED",
         "range": [
          -5.7582244877713205,
          3.456611555840291
         ],
         "showgrid": true,
         "tickfont": {
          "color": "#4D5663"
         },
         "title": {
          "font": {
           "color": "#4D5663"
          },
          "text": "Growth Rate"
         },
         "type": "linear",
         "zerolinecolor": "#E1E5ED"
        }
       }
      },
      "image/png": "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",
      "text/html": [
       "<div>                            <div id=\"2c9cac47-9499-4d59-bb38-cc4bd481c074\" class=\"plotly-graph-div\" style=\"height:525px; width:100%;\"></div>            <script type=\"text/javascript\">                require([\"plotly\"], function(Plotly) {                    window.PLOTLYENV=window.PLOTLYENV || {};\n",
       "                    window.PLOTLYENV.BASE_URL='https://plot.ly';                                    if (document.getElementById(\"2c9cac47-9499-4d59-bb38-cc4bd481c074\")) {                    Plotly.newPlot(                        \"2c9cac47-9499-4d59-bb38-cc4bd481c074\",                        [{\"line\":{\"color\":\"rgba(255, 153, 51, 1.0)\",\"dash\":\"solid\",\"shape\":\"linear\",\"width\":1.3},\"mode\":\"lines\",\"name\":\"China\",\"text\":\"\",\"x\":[1960,1961,1962,1963,1964,1965,1966,1967,1968,1969,1970,1971,1972,1973,1974,1975,1976,1977,1978,1979,1980,1981,1982,1983,1984,1985,1986,1987,1988,1989,1990,1991,1992,1993,1994,1995,1996,1997,1998,1999,2000,2001,2002,2003,2004,2005,2006,2007,2008,2009,2010,2011,2012,2013,2014,2015,2016,2017,2018,2019,2020,2021,2022],\"y\":[\"\",-1.61999785038569,0.196605139571034,1.81407508102221,1.65947928008615,2.64173551354229,2.99586975365971,2.72894468111034,2.76768535017213,2.8953269253974,2.91675943973791,2.87758069327843,2.58785170502301,2.2833952811832,1.93546037813605,1.63572658046571,1.47467235262699,1.29006101413367,0.87640001330865,0.45676688750289,0.339541070309066,0.334046362936972,0.486379093579183,0.62871188358197,0.469834594276456,0.495456907530141,0.595274324416893,0.683647432382676,0.661580620450218,0.559447167139255,0.464975034515592,0.174643830516449,-0.00364702013121536,-0.116016198065801,-0.177318684644395,-0.261567331587744,-0.344790968545297,-0.40703713076191,-0.517399493786589,-0.654731362219618,-0.777935942516781,-1.18818624622676,-1.4701504963595,-1.59563906823514,-1.70378331818298,-1.78102663063287,-1.81124634089962,-1.87748985110646,-1.96321561084525,-2.04298504800307,-2.13347423873235,-2.01694146016743,-1.88820699865451,-1.95532000621928,-2.05726524272071,-2.16913010565563,-2.24377990247916,-2.26468849431265,-2.40869646259622,-2.51607966103332,-2.62426219856902,-2.7613220504546,-2.84848047649475],\"type\":\"scatter\"},{\"line\":{\"color\":\"rgba(55, 128, 191, 1.0)\",\"dash\":\"solid\",\"shape\":\"linear\",\"width\":1.3},\"mode\":\"lines\",\"name\":\"Korea, Rep.\",\"text\":\"\",\"x\":[1960,1961,1962,1963,1964,1965,1966,1967,1968,1969,1970,1971,1972,1973,1974,1975,1976,1977,1978,1979,1980,1981,1982,1983,1984,1985,1986,1987,1988,1989,1990,1991,1992,1993,1994,1995,1996,1997,1998,1999,2000,2001,2002,2003,2004,2005,2006,2007,2008,2009,2010,2011,2012,2013,2014,2015,2016,2017,2018,2019,2020,2021,2022],\"y\":[\"\",1.82504399558176,1.54951459453512,1.43464737581698,1.21905574278993,1.10534661934895,1.03113471602308,-0.131658530684203,-0.605364118778941,-0.807596354928749,-1.04822703281755,-0.689579443880984,-0.633621659857517,-0.820515791742617,-0.961757673981635,-1.07750218179907,-1.70160156360299,-1.99783886887693,-2.16886902328961,-2.29244514920902,-2.38093681201604,-2.41566931249929,-2.51239194588361,-2.69784773373503,-3.05429382162226,-3.40191739498953,-4.2749646107223,-4.83509076853224,-5.00477248298899,-5.13502457687148,-5.29748268559074,-3.41855632122604,-2.40777781197233,-2.45565526438626,-2.51031591287418,-2.54649179412332,-1.01021295605142,-0.207626181066068,-0.422371938178042,-0.44183011422317,-0.320068607847126,-0.810475409507162,-1.22788713883726,-1.28970804851687,-1.42920247987501,-1.60995141929985,-0.460618472927006,-0.0539289137439797,0.202496550193943,-0.0452739416019801,-0.0593358721954816,0.840909322055133,0.923215783631227,0.851157798095521,1.02251166774128,0.925555907911393,0.788121026951461,0.600446737576936,0.67111371180372,0.504154117366634,0.223993326888109,-0.176401096544505,-0.295873531288081],\"type\":\"scatter\"},{\"line\":{\"color\":\"rgba(50, 171, 96, 1.0)\",\"dash\":\"solid\",\"shape\":\"linear\",\"width\":1.3},\"mode\":\"lines\",\"name\":\"Thailand\",\"text\":\"\",\"x\":[1960,1961,1962,1963,1964,1965,1966,1967,1968,1969,1970,1971,1972,1973,1974,1975,1976,1977,1978,1979,1980,1981,1982,1983,1984,1985,1986,1987,1988,1989,1990,1991,1992,1993,1994,1995,1996,1997,1998,1999,2000,2001,2002,2003,2004,2005,2006,2007,2008,2009,2010,2011,2012,2013,2014,2015,2016,2017,2018,2019,2020,2021,2022],\"y\":[\"\",2.84010037860806,2.89150578904422,2.90329423880234,2.90503382437138,2.90185018861939,2.86457117403131,2.81237935611687,2.76424350442988,2.71712545663497,2.56666586407852,2.09835900041969,2.02978769343811,1.97093306047747,1.8514141727562,1.71759574320437,1.55287172234723,1.45373760775545,1.38466961233126,1.29439597001929,1.41360554071203,1.7873955995837,1.70534643108103,1.65389603934176,1.60188790516211,1.54696874251542,1.48410735808748,1.42837134327213,1.38234078402946,1.31456117998791,1.28764552666632,1.32584500453458,1.2429998973888,1.21564519487832,1.18870567592426,1.13571998454684,1.06601367018995,1.03481553687427,0.982452242661932,0.871460159197764,0.388373336796576,-0.787409589035861,-0.878204787365204,-0.978733264324292,-1.08425040095861,-1.1868024689738,-1.28294003593064,-1.34234854931355,-1.42739937029486,-1.5206671254315,-1.6402994465393,-0.865216361301658,-0.715625579395782,-0.772834692646018,-0.855668840488858,-0.950077567854611,-1.00823449875324,-1.05793897969658,-1.16206711472242,-1.24292222350736,-1.27284610728699,-1.34531963754895,-1.39540385913059],\"type\":\"scatter\"},{\"line\":{\"color\":\"rgba(128, 0, 128, 1.0)\",\"dash\":\"solid\",\"shape\":\"linear\",\"width\":1.3},\"mode\":\"lines\",\"name\":\"Viet Nam\",\"text\":\"\",\"x\":[1960,1961,1962,1963,1964,1965,1966,1967,1968,1969,1970,1971,1972,1973,1974,1975,1976,1977,1978,1979,1980,1981,1982,1983,1984,1985,1986,1987,1988,1989,1990,1991,1992,1993,1994,1995,1996,1997,1998,1999,2000,2001,2002,2003,2004,2005,2006,2007,2008,2009,2010,2011,2012,2013,2014,2015,2016,2017,2018,2019,2020,2021,2022],\"y\":[\"\",2.33526460136682,2.27752078760419,2.42592849269486,2.3116909801958,2.16102168189191,1.99618366770007,1.85862722994845,1.71754801697507,1.68111792331869,1.72651677305822,2.21094185171346,2.16150522288184,2.10136860257802,2.10009649198528,2.18705847527976,2.38946882854159,2.45059584401934,2.44266372743312,2.08171374868018,2.08059156295879,2.37019783936707,2.38171572236549,2.37090326658042,2.33990973149839,2.29785235042086,2.25012477572082,2.19808152678625,2.14148843401557,2.03337400653878,1.72718053311824,1.67072100776199,1.5941024380793,1.48537657577161,1.3505173865632,1.21792499697539,1.0855663103189,0.952546688861173,0.868346908285635,0.698449897015638,0.383048294533579,0.281155750727981,0.260088080377094,0.245253962169134,0.217258330005478,0.18538147522591,0.130946098767451,0.102871908198829,0.103648094499622,0.130794974169591,0.130510680872939,0.110106197857633,0.0921857852165925,0.0794563433893053,0.0459818614226579,-0.000752179877512022,-0.0554769793457835,-0.110529312209638,-0.162865748391567,-0.208088327468402,-0.223583835019873,-0.298613840974044,-0.424480531411212],\"type\":\"scatter\"},{\"line\":{\"color\":\"rgba(219, 64, 82, 1.0)\",\"dash\":\"solid\",\"shape\":\"linear\",\"width\":1.3},\"mode\":\"lines\",\"name\":\"World\",\"text\":\"\",\"x\":[1960,1961,1962,1963,1964,1965,1966,1967,1968,1969,1970,1971,1972,1973,1974,1975,1976,1977,1978,1979,1980,1981,1982,1983,1984,1985,1986,1987,1988,1989,1990,1991,1992,1993,1994,1995,1996,1997,1998,1999,2000,2001,2002,2003,2004,2005,2006,2007,2008,2009,2010,2011,2012,2013,2014,2015,2016,2017,2018,2019,2020,2021,2022],\"y\":[\"\",0.607098703746061,1.10478318858588,1.54124715053013,1.49583417833145,1.73536602853839,1.79607636343493,1.71866888241358,1.73892253680488,1.78730741766373,1.78795644854006,1.78226448129355,1.6649440669203,1.61072395698166,1.50650383708238,1.47818462921849,1.36972253500581,1.31918976364409,1.20200449771718,1.10208939601549,1.06398221136163,1.05560721180203,1.16934490970169,1.20233590483964,1.13771995842022,1.1346194068992,1.14147694252726,1.14935367305596,1.13019693302638,1.11540931978938,1.10780489345788,1.02718068635366,0.973506108374593,0.933091659338416,0.880578837562325,0.842476529162013,0.824289157527431,0.782678044350419,0.734641171037254,0.688582095437312,0.636925490036376,0.48960982438031,0.376299773014452,0.339822076426969,0.301912220917046,0.269179783509927,0.262863996484739,0.251583433998363,0.221336787717675,0.216820224238674,0.21214558923792,0.275150922865805,0.311704713468046,0.278868134454058,0.235244517371669,0.183958063563949,0.165078435280179,0.147382700145343,0.106249212342775,0.0647415961073818,0.0256702617805047,-0.0810926321235996,-0.184019863500467],\"type\":\"scatter\"}],                        {\"legend\":{\"bgcolor\":\"#F5F6F9\",\"font\":{\"color\":\"#4D5663\"}},\"paper_bgcolor\":\"#F5F6F9\",\"plot_bgcolor\":\"#F5F6F9\",\"template\":{\"data\":{\"barpolar\":[{\"marker\":{\"line\":{\"color\":\"#E5ECF6\",\"width\":0.5},\"pattern\":{\"fillmode\":\"overlay\",\"size\":10,\"solidity\":0.2}},\"type\":\"barpolar\"}],\"bar\":[{\"error_x\":{\"color\":\"#2a3f5f\"},\"error_y\":{\"color\":\"#2a3f5f\"},\"marker\":{\"line\":{\"color\":\"#E5ECF6\",\"width\":0.5},\"pattern\":{\"fillmode\":\"overlay\",\"size\":10,\"solidity\":0.2}},\"type\":\"bar\"}],\"carpet\":[{\"aaxis\":{\"endlinecolor\":\"#2a3f5f\",\"gridcolor\":\"white\",\"linecolor\":\"white\",\"minorgridcolor\":\"white\",\"startlinecolor\":\"#2a3f5f\"},\"baxis\":{\"endlinecolor\":\"#2a3f5f\",\"gridcolor\":\"white\",\"linecolor\":\"white\",\"minorgridcolor\":\"white\",\"startlinecolor\":\"#2a3f5f\"},\"type\":\"carpet\"}],\"choropleth\":[{\"colorbar\":{\"outlinewidth\":0,\"ticks\":\"\"},\"type\":\"choropleth\"}],\"contourcarpet\":[{\"colorbar\":{\"outlinewidth\":0,\"ticks\":\"\"},\"type\":\"contourcarpet\"}],\"contour\":[{\"colorbar\":{\"outlinewidth\":0,\"ticks\":\"\"},\"colorscale\":[[0.0,\"#0d0887\"],[0.1111111111111111,\"#46039f\"],[0.2222222222222222,\"#7201a8\"],[0.3333333333333333,\"#9c179e\"],[0.4444444444444444,\"#bd3786\"],[0.5555555555555556,\"#d8576b\"],[0.6666666666666666,\"#ed7953\"],[0.7777777777777778,\"#fb9f3a\"],[0.8888888888888888,\"#fdca26\"],[1.0,\"#f0f921\"]],\"type\":\"contour\"}],\"heatmapgl\":[{\"colorbar\":{\"outlinewidth\":0,\"ticks\":\"\"},\"colorscale\":[[0.0,\"#0d0887\"],[0.1111111111111111,\"#46039f\"],[0.2222222222222222,\"#7201a8\"],[0.3333333333333333,\"#9c179e\"],[0.4444444444444444,\"#bd3786\"],[0.5555555555555556,\"#d8576b\"],[0.6666666666666666,\"#ed7953\"],[0.7777777777777778,\"#fb9f3a\"],[0.8888888888888888,\"#fdca26\"],[1.0,\"#f0f921\"]],\"type\":\"heatmapgl\"}],\"heatmap\":[{\"colorbar\":{\"outlinewidth\":0,\"ticks\":\"\"},\"colorscale\":[[0.0,\"#0d0887\"],[0.1111111111111111,\"#46039f\"],[0.2222222222222222,\"#7201a8\"],[0.3333333333333333,\"#9c179e\"],[0.4444444444444444,\"#bd3786\"],[0.5555555555555556,\"#d8576b\"],[0.6666666666666666,\"#ed7953\"],[0.7777777777777778,\"#fb9f3a\"],[0.8888888888888888,\"#fdca26\"],[1.0,\"#f0f921\"]],\"type\":\"heatmap\"}],\"histogram2dcontour\":[{\"colorbar\":{\"outlinewidth\":0,\"ticks\":\"\"},\"colorscale\":[[0.0,\"#0d0887\"],[0.1111111111111111,\"#46039f\"],[0.2222222222222222,\"#7201a8\"],[0.3333333333333333,\"#9c179e\"],[0.4444444444444444,\"#bd3786\"],[0.5555555555555556,\"#d8576b\"],[0.6666666666666666,\"#ed7953\"],[0.7777777777777778,\"#fb9f3a\"],[0.8888888888888888,\"#fdca26\"],[1.0,\"#f0f921\"]],\"type\":\"histogram2dcontour\"}],\"histogram2d\":[{\"colorbar\":{\"outlinewidth\":0,\"ticks\":\"\"},\"colorscale\":[[0.0,\"#0d0887\"],[0.1111111111111111,\"#46039f\"],[0.2222222222222222,\"#7201a8\"],[0.3333333333333333,\"#9c179e\"],[0.4444444444444444,\"#bd3786\"],[0.5555555555555556,\"#d8576b\"],[0.6666666666666666,\"#ed7953\"],[0.7777777777777778,\"#fb9f3a\"],[0.8888888888888888,\"#fdca26\"],[1.0,\"#f0f921\"]],\"type\":\"histogram2d\"}],\"histogram\":[{\"marker\":{\"pattern\":{\"fillmode\":\"overlay\",\"size\":10,\"solidity\":0.2}},\"type\":\"histogram\"}],\"mesh3d\":[{\"colorbar\":{\"outlinewidth\":0,\"ticks\":\"\"},\"type\":\"mesh3d\"}],\"parcoords\":[{\"line\":{\"colorbar\":{\"outlinewidth\":0,\"ticks\":\"\"}},\"type\":\"parcoords\"}],\"pie\":[{\"automargin\":true,\"type\":\"pie\"}],\"scatter3d\":[{\"line\":{\"colorbar\":{\"outlinewidth\":0,\"ticks\":\"\"}},\"marker\":{\"colorbar\":{\"outlinewidth\":0,\"ticks\":\"\"}},\"type\":\"scatter3d\"}],\"scattercarpet\":[{\"marker\":{\"colorbar\":{\"outlinewidth\":0,\"ticks\":\"\"}},\"type\":\"scattercarpet\"}],\"scattergeo\":[{\"marker\":{\"colorbar\":{\"outlinewidth\":0,\"ticks\":\"\"}},\"type\":\"scattergeo\"}],\"scattergl\":[{\"marker\":{\"colorbar\":{\"outlinewidth\":0,\"ticks\":\"\"}},\"type\":\"scattergl\"}],\"scattermapbox\":[{\"marker\":{\"colorbar\":{\"outlinewidth\":0,\"ticks\":\"\"}},\"type\":\"scattermapbox\"}],\"scatterpolargl\":[{\"marker\":{\"colorbar\":{\"outlinewidth\":0,\"ticks\":\"\"}},\"type\":\"scatterpolargl\"}],\"scatterpolar\":[{\"marker\":{\"colorbar\":{\"outlinewidth\":0,\"ticks\":\"\"}},\"type\":\"scatterpolar\"}],\"scatter\":[{\"fillpattern\":{\"fillmode\":\"overlay\",\"size\":10,\"solidity\":0.2},\"type\":\"scatter\"}],\"scatterternary\":[{\"marker\":{\"colorbar\":{\"outlinewidth\":0,\"ticks\":\"\"}},\"type\":\"scatterternary\"}],\"surface\":[{\"colorbar\":{\"outlinewidth\":0,\"ticks\":\"\"},\"colorscale\":[[0.0,\"#0d0887\"],[0.1111111111111111,\"#46039f\"],[0.2222222222222222,\"#7201a8\"],[0.3333333333333333,\"#9c179e\"],[0.4444444444444444,\"#bd3786\"],[0.5555555555555556,\"#d8576b\"],[0.6666666666666666,\"#ed7953\"],[0.7777777777777778,\"#fb9f3a\"],[0.8888888888888888,\"#fdca26\"],[1.0,\"#f0f921\"]],\"type\":\"surface\"}],\"table\":[{\"cells\":{\"fill\":{\"color\":\"#EBF0F8\"},\"line\":{\"color\":\"white\"}},\"header\":{\"fill\":{\"color\":\"#C8D4E3\"},\"line\":{\"color\":\"white\"}},\"type\":\"table\"}]},\"layout\":{\"annotationdefaults\":{\"arrowcolor\":\"#2a3f5f\",\"arrowhead\":0,\"arrowwidth\":1},\"autotypenumbers\":\"strict\",\"coloraxis\":{\"colorbar\":{\"outlinewidth\":0,\"ticks\":\"\"}},\"colorscale\":{\"diverging\":[[0,\"#8e0152\"],[0.1,\"#c51b7d\"],[0.2,\"#de77ae\"],[0.3,\"#f1b6da\"],[0.4,\"#fde0ef\"],[0.5,\"#f7f7f7\"],[0.6,\"#e6f5d0\"],[0.7,\"#b8e186\"],[0.8,\"#7fbc41\"],[0.9,\"#4d9221\"],[1,\"#276419\"]],\"sequential\":[[0.0,\"#0d0887\"],[0.1111111111111111,\"#46039f\"],[0.2222222222222222,\"#7201a8\"],[0.3333333333333333,\"#9c179e\"],[0.4444444444444444,\"#bd3786\"],[0.5555555555555556,\"#d8576b\"],[0.6666666666666666,\"#ed7953\"],[0.7777777777777778,\"#fb9f3a\"],[0.8888888888888888,\"#fdca26\"],[1.0,\"#f0f921\"]],\"sequentialminus\":[[0.0,\"#0d0887\"],[0.1111111111111111,\"#46039f\"],[0.2222222222222222,\"#7201a8\"],[0.3333333333333333,\"#9c179e\"],[0.4444444444444444,\"#bd3786\"],[0.5555555555555556,\"#d8576b\"],[0.6666666666666666,\"#ed7953\"],[0.7777777777777778,\"#fb9f3a\"],[0.8888888888888888,\"#fdca26\"],[1.0,\"#f0f921\"]]},\"colorway\":[\"#636efa\",\"#EF553B\",\"#00cc96\",\"#ab63fa\",\"#FFA15A\",\"#19d3f3\",\"#FF6692\",\"#B6E880\",\"#FF97FF\",\"#FECB52\"],\"font\":{\"color\":\"#2a3f5f\"},\"geo\":{\"bgcolor\":\"white\",\"lakecolor\":\"white\",\"landcolor\":\"#E5ECF6\",\"showlakes\":true,\"showland\":true,\"subunitcolor\":\"white\"},\"hoverlabel\":{\"align\":\"left\"},\"hovermode\":\"closest\",\"mapbox\":{\"style\":\"light\"},\"paper_bgcolor\":\"white\",\"plot_bgcolor\":\"#E5ECF6\",\"polar\":{\"angularaxis\":{\"gridcolor\":\"white\",\"linecolor\":\"white\",\"ticks\":\"\"},\"bgcolor\":\"#E5ECF6\",\"radialaxis\":{\"gridcolor\":\"white\",\"linecolor\":\"white\",\"ticks\":\"\"}},\"scene\":{\"xaxis\":{\"backgroundcolor\":\"#E5ECF6\",\"gridcolor\":\"white\",\"gridwidth\":2,\"linecolor\":\"white\",\"showbackground\":true,\"ticks\":\"\",\"zerolinecolor\":\"white\"},\"yaxis\":{\"backgroundcolor\":\"#E5ECF6\",\"gridcolor\":\"white\",\"gridwidth\":2,\"linecolor\":\"white\",\"showbackground\":true,\"ticks\":\"\",\"zerolinecolor\":\"white\"},\"zaxis\":{\"backgroundcolor\":\"#E5ECF6\",\"gridcolor\":\"white\",\"gridwidth\":2,\"linecolor\":\"white\",\"showbackground\":true,\"ticks\":\"\",\"zerolinecolor\":\"white\"}},\"shapedefaults\":{\"line\":{\"color\":\"#2a3f5f\"}},\"ternary\":{\"aaxis\":{\"gridcolor\":\"white\",\"linecolor\":\"white\",\"ticks\":\"\"},\"baxis\":{\"gridcolor\":\"white\",\"linecolor\":\"white\",\"ticks\":\"\"},\"bgcolor\":\"#E5ECF6\",\"caxis\":{\"gridcolor\":\"white\",\"linecolor\":\"white\",\"ticks\":\"\"}},\"title\":{\"x\":0.05},\"xaxis\":{\"automargin\":true,\"gridcolor\":\"white\",\"linecolor\":\"white\",\"ticks\":\"\",\"title\":{\"standoff\":15},\"zerolinecolor\":\"white\",\"zerolinewidth\":2},\"yaxis\":{\"automargin\":true,\"gridcolor\":\"white\",\"linecolor\":\"white\",\"ticks\":\"\",\"title\":{\"standoff\":15},\"zerolinecolor\":\"white\",\"zerolinewidth\":2}}},\"title\":{\"font\":{\"color\":\"#4D5663\"},\"text\":\"Rural growth rates by country\"},\"xaxis\":{\"gridcolor\":\"#E1E5ED\",\"showgrid\":true,\"tickfont\":{\"color\":\"#4D5663\"},\"title\":{\"font\":{\"color\":\"#4D5663\"},\"text\":\"Year\"},\"zerolinecolor\":\"#E1E5ED\"},\"yaxis\":{\"gridcolor\":\"#E1E5ED\",\"showgrid\":true,\"tickfont\":{\"color\":\"#4D5663\"},\"title\":{\"font\":{\"color\":\"#4D5663\"},\"text\":\"Growth Rate\"},\"zerolinecolor\":\"#E1E5ED\"}},                        {\"showLink\": true, \"linkText\": \"Export to plot.ly\", \"plotlyServerURL\": \"https://plot.ly\", \"responsive\": true}                    ).then(function(){\n",
       "                            \n",
       "var gd = document.getElementById('2c9cac47-9499-4d59-bb38-cc4bd481c074');\n",
       "var x = new MutationObserver(function (mutations, observer) {{\n",
       "        var display = window.getComputedStyle(gd).display;\n",
       "        if (!display || display === 'none') {{\n",
       "            console.log([gd, 'removed!']);\n",
       "            Plotly.purge(gd);\n",
       "            observer.disconnect();\n",
       "        }}\n",
       "}});\n",
       "\n",
       "// Listen for the removal of the full notebook cells\n",
       "var notebookContainer = gd.closest('#notebook-container');\n",
       "if (notebookContainer) {{\n",
       "    x.observe(notebookContainer, {childList: true});\n",
       "}}\n",
       "\n",
       "// Listen for the clearing of the current output cell\n",
       "var outputEl = gd.closest('.output');\n",
       "if (outputEl) {{\n",
       "    x.observe(outputEl, {childList: true});\n",
       "}}\n",
       "\n",
       "                        })                };                });            </script>        </div>"
      ]
     },
     "metadata": {},
     "output_type": "display_data"
    }
   ],
   "source": [
    "import numpy as np\n",
    "\n",
    "variable_labels = {\"SP.RUR.TOTL.ZG\":\"Rural population growth (annual %)\"\n",
    "                  }\n",
    "\n",
    "# Three letter codes come from wbdata.get_country()\n",
    "countries = {\"KOR\":\"Korea, Rep.\",\n",
    "             \"CHN\":\"China\",\n",
    "             \"THA\":\"Thailand\",\n",
    "             \"VNM\":\"Viet Nam\", \n",
    "             \"WLD\":\"World\"\n",
    "            }\n",
    "\n",
    "df = wbdata.get_dataframe(variable_labels, country = countries).squeeze()\n",
    "\n",
    "df = df.unstack('country')\n",
    "# Date index is of type string; change to integers\n",
    "df.index = df.index.astype(int)\n",
    "\n",
    "# Differences (over time) in logs give us growth rates\n",
    "df.iplot(title=\"Rural growth rates by country\",\n",
    "                        yTitle=\"Growth Rate\",xTitle='Year')"
   ]
  },
  {
   "cell_type": "code",
   "execution_count": 28,
   "id": "17b4d6b7-93cd-4b19-be88-d9fed22d2f93",
   "metadata": {},
   "outputs": [
    {
     "data": {
      "application/vnd.plotly.v1+json": {
       "config": {
        "linkText": "Export to plot.ly",
        "plotlyServerURL": "https://plot.ly",
        "showLink": true
       },
       "data": [
        {
         "line": {
          "color": "rgba(255, 153, 51, 1.0)",
          "dash": "solid",
          "shape": "linear",
          "width": 1.3
         },
         "mode": "lines",
         "name": "China",
         "text": "",
         "type": "scatter",
         "x": [
          1960,
          1961,
          1962,
          1963,
          1964,
          1965,
          1966,
          1967,
          1968,
          1969,
          1970,
          1971,
          1972,
          1973,
          1974,
          1975,
          1976,
          1977,
          1978,
          1979,
          1980,
          1981,
          1982,
          1983,
          1984,
          1985,
          1986,
          1987,
          1988,
          1989,
          1990,
          1991,
          1992,
          1993,
          1994,
          1995,
          1996,
          1997,
          1998,
          1999,
          2000,
          2001,
          2002,
          2003,
          2004,
          2005,
          2006,
          2007,
          2008,
          2009,
          2010,
          2011,
          2012,
          2013,
          2014,
          2015,
          2016,
          2017,
          2018,
          2019,
          2020,
          2021,
          2022
         ],
         "y": [
          "",
          2.0535955782573,
          3.87367811011942,
          5.49364102057992,
          5.32734351055203,
          1.21054285461748,
          1.83735115939042,
          1.84240345667628,
          1.88292890180956,
          2.01239514705866,
          2.02873595918483,
          2.12429188312895,
          1.83083167159415,
          2.28339576291405,
          2.69247959731461,
          2.38901572313462,
          1.89157239197393,
          1.70583298538571,
          3.48394507218723,
          5.26137093097064,
          5.15728370456645,
          5.13186895071821,
          5.29566624595188,
          4.47484202161229,
          4.3204330245138,
          4.33904712359308,
          4.4381005931631,
          4.5315822084455,
          4.51483099420354,
          4.4026320383107,
          4.30967848070248,
          4.60168513214318,
          4.42511729026799,
          4.30154774283787,
          4.24584059723498,
          4.15963799418302,
          4.08605174394273,
          4.00828550795805,
          3.90807856569896,
          3.77008872976608,
          3.64925271115854,
          4.05956575767596,
          4.19800114764631,
          4.07840352649768,
          3.97537212954358,
          3.88247297575862,
          3.67472809325703,
          3.51125555182775,
          3.43395768889026,
          3.33810246782671,
          3.25536549409244,
          3.12337717694482,
          3.13065659552565,
          3.048365006284,
          2.95349744191833,
          2.84287054779151,
          2.77564176920889,
          2.739663820353,
          2.50340050353808,
          2.29017723362897,
          2.07814005779212,
          1.83853028231533,
          1.64948085688024
         ]
        },
        {
         "line": {
          "color": "rgba(55, 128, 191, 1.0)",
          "dash": "solid",
          "shape": "linear",
          "width": 1.3
         },
         "mode": "lines",
         "name": "Korea, Rep.",
         "text": "",
         "type": "scatter",
         "x": [
          1960,
          1961,
          1962,
          1963,
          1964,
          1965,
          1966,
          1967,
          1968,
          1969,
          1970,
          1971,
          1972,
          1973,
          1974,
          1975,
          1976,
          1977,
          1978,
          1979,
          1980,
          1981,
          1982,
          1983,
          1984,
          1985,
          1986,
          1987,
          1988,
          1989,
          1990,
          1991,
          1992,
          1993,
          1994,
          1995,
          1996,
          1997,
          1998,
          1999,
          2000,
          2001,
          2002,
          2003,
          2004,
          2005,
          2006,
          2007,
          2008,
          2009,
          2010,
          2011,
          2012,
          2013,
          2014,
          2015,
          2016,
          2017,
          2018,
          2019,
          2020,
          2021,
          2022
         ],
         "y": [
          "",
          5.88702502819195,
          6.06693993931122,
          5.9453611642531,
          5.73969139913605,
          5.61506694375346,
          5.54667785972317,
          7.09014499610952,
          7.54314566135768,
          7.31728587770682,
          7.08824857344516,
          5.72515940123285,
          5.20603051616675,
          5.00872678440835,
          4.87075155461082,
          4.75584747563308,
          5.04644353378922,
          5.03189497691862,
          4.87547579431438,
          4.74779133430002,
          4.67238439804972,
          4.49108913788502,
          4.33796607785697,
          4.15519628315522,
          3.80708263897405,
          3.44222748629721,
          3.73595732687128,
          3.77142785426415,
          3.60758583615969,
          3.45735138569971,
          3.3086487267101,
          2.50578148499851,
          2.16390257767196,
          2.09804804302675,
          2.05355922703446,
          2.0171844184448,
          1.49197608574533,
          1.24615224219257,
          1.02556798368187,
          1.01231674491918,
          1.13428440765118,
          1.16708927807075,
          1.02604012271042,
          0.956963846404653,
          0.829355606254432,
          0.634549840258114,
          0.749916123325417,
          0.631491671818636,
          0.88418882208575,
          0.639403400754965,
          0.621566983144705,
          0.753105096374867,
          0.43778826636442,
          0.367213427358424,
          0.540070702737516,
          0.437904532582115,
          0.30861280632646,
          0.208604619717282,
          0.37951853428273,
          0.312269897922803,
          0.118218402592122,
          -0.176410375279992,
          -0.209930833644076
         ]
        },
        {
         "line": {
          "color": "rgba(50, 171, 96, 1.0)",
          "dash": "solid",
          "shape": "linear",
          "width": 1.3
         },
         "mode": "lines",
         "name": "Thailand",
         "text": "",
         "type": "scatter",
         "x": [
          1960,
          1961,
          1962,
          1963,
          1964,
          1965,
          1966,
          1967,
          1968,
          1969,
          1970,
          1971,
          1972,
          1973,
          1974,
          1975,
          1976,
          1977,
          1978,
          1979,
          1980,
          1981,
          1982,
          1983,
          1984,
          1985,
          1986,
          1987,
          1988,
          1989,
          1990,
          1991,
          1992,
          1993,
          1994,
          1995,
          1996,
          1997,
          1998,
          1999,
          2000,
          2001,
          2002,
          2003,
          2004,
          2005,
          2006,
          2007,
          2008,
          2009,
          2010,
          2011,
          2012,
          2013,
          2014,
          2015,
          2016,
          2017,
          2018,
          2019,
          2020,
          2021,
          2022
         ],
         "y": [
          "",
          3.52845123668168,
          3.57698098792419,
          3.59223123622772,
          3.59112691285638,
          3.59132462725761,
          3.55123811868385,
          3.50240553168667,
          3.45145897196919,
          3.40159044716202,
          3.90923303514764,
          5.41272810716099,
          5.34667344516131,
          5.27881945843628,
          5.16780890969252,
          5.02567188900309,
          4.87503054105435,
          4.76296943959113,
          4.69772561706904,
          4.60643146872022,
          4.23119486041387,
          3.09883853169569,
          3.01398127559807,
          2.96481437694234,
          2.91510183216625,
          2.85257690807228,
          2.79706076907914,
          2.73880267594483,
          2.69520715719554,
          2.62502352751439,
          2.52840310969833,
          2.13831094021756,
          2.05756601026163,
          2.0322909494615,
          2.00269801629284,
          1.94707538348293,
          1.88422742301051,
          1.85041865509013,
          1.79548621185684,
          1.68664004507715,
          2.3318014212256,
          4.55602672226528,
          4.4747528371425,
          4.37497522003223,
          4.27545921125585,
          4.15437538893834,
          4.07168494989182,
          4.01061387426357,
          3.93047170053379,
          3.82420062386752,
          3.711024875017,
          2.54757844318673,
          2.30174854622188,
          2.24029456733658,
          2.15858537971524,
          2.0626492412339,
          2.01231562414993,
          1.9517822830395,
          1.83420909694125,
          1.72925235944288,
          1.68053874355918,
          1.59052125513576,
          1.51607961040569
         ]
        },
        {
         "line": {
          "color": "rgba(128, 0, 128, 1.0)",
          "dash": "solid",
          "shape": "linear",
          "width": 1.3
         },
         "mode": "lines",
         "name": "Viet Nam",
         "text": "",
         "type": "scatter",
         "x": [
          1960,
          1961,
          1962,
          1963,
          1964,
          1965,
          1966,
          1967,
          1968,
          1969,
          1970,
          1971,
          1972,
          1973,
          1974,
          1975,
          1976,
          1977,
          1978,
          1979,
          1980,
          1981,
          1982,
          1983,
          1984,
          1985,
          1986,
          1987,
          1988,
          1989,
          1990,
          1991,
          1992,
          1993,
          1994,
          1995,
          1996,
          1997,
          1998,
          1999,
          2000,
          2001,
          2002,
          2003,
          2004,
          2005,
          2006,
          2007,
          2008,
          2009,
          2010,
          2011,
          2012,
          2013,
          2014,
          2015,
          2016,
          2017,
          2018,
          2019,
          2020,
          2021,
          2022
         ],
         "y": [
          "",
          4.95077743519653,
          4.89987581871579,
          5.05437926184463,
          4.93066806190702,
          4.78529711537391,
          4.617941269198,
          4.47774045898668,
          4.34078384123447,
          4.30123994415212,
          4.35010728388901,
          2.85173649365941,
          2.79971324997589,
          2.73701428611571,
          2.73980834777267,
          2.82420114582394,
          3.03063375454999,
          3.08920366515048,
          3.07874230326572,
          2.72176394967174,
          2.54449723599811,
          2.76861089567019,
          2.78557042021794,
          2.77374913659924,
          2.74177121317989,
          2.69873338997934,
          2.65636414577537,
          2.5969988822591,
          2.54575910199598,
          2.90799780857518,
          4.00840796128102,
          3.95805547415856,
          3.88124259904182,
          3.76637741867062,
          3.63735212629801,
          3.50459042697334,
          3.37211480260184,
          3.23902181225116,
          3.14923729490921,
          3.17254447657301,
          3.42860197272881,
          3.31196106294403,
          3.30342563630772,
          3.28019450083254,
          3.25990938485259,
          3.22074378651575,
          3.16976901467855,
          3.14556105122946,
          3.14580232139383,
          3.18264544200066,
          3.24435486033937,
          3.22377949288483,
          3.21113051981827,
          3.18611624041608,
          3.15972531846692,
          3.11634097364234,
          3.06143512628087,
          2.98533941955856,
          2.91794712714328,
          2.85915028568362,
          2.83151425856978,
          2.73303127667175,
          2.59378902775746
         ]
        },
        {
         "line": {
          "color": "rgba(219, 64, 82, 1.0)",
          "dash": "solid",
          "shape": "linear",
          "width": 1.3
         },
         "mode": "lines",
         "name": "World",
         "text": "",
         "type": "scatter",
         "x": [
          1960,
          1961,
          1962,
          1963,
          1964,
          1965,
          1966,
          1967,
          1968,
          1969,
          1970,
          1971,
          1972,
          1973,
          1974,
          1975,
          1976,
          1977,
          1978,
          1979,
          1980,
          1981,
          1982,
          1983,
          1984,
          1985,
          1986,
          1987,
          1988,
          1989,
          1990,
          1991,
          1992,
          1993,
          1994,
          1995,
          1996,
          1997,
          1998,
          1999,
          2000,
          2001,
          2002,
          2003,
          2004,
          2005,
          2006,
          2007,
          2008,
          2009,
          2010,
          2011,
          2012,
          2013,
          2014,
          2015,
          2016,
          2017,
          2018,
          2019,
          2020,
          2021,
          2022
         ],
         "y": [
          "",
          2.81955763282087,
          3.05950443245308,
          3.24400067956852,
          3.2220810627299,
          2.70726322512725,
          2.68382471423551,
          2.66452525804191,
          2.66034109999451,
          2.65786520904756,
          2.62648301826007,
          2.6692085893248,
          2.60035454316036,
          2.632190472704,
          2.66070398942946,
          2.48556058631905,
          2.49970295006376,
          2.46990355901617,
          2.6490942908835,
          2.83710270938717,
          2.83868607450964,
          2.86830776609195,
          2.77820970461767,
          2.6547107354429,
          2.63842928802535,
          2.64231830546431,
          2.671188022328,
          2.6872119783079,
          2.66397961058149,
          2.60233396384852,
          2.60306301463157,
          2.55434856023685,
          2.48240123991512,
          2.41335664379602,
          2.36987201459209,
          2.32380881894794,
          2.2908166643285,
          2.2679324109329,
          2.24330164810127,
          2.20470865708238,
          2.18768310048951,
          2.3022381543486,
          2.36702476213593,
          2.33520225768085,
          2.32617206336072,
          2.3169706036046,
          2.2896225153535,
          2.25057482120516,
          2.27266073696093,
          2.23623688929091,
          2.19419161249729,
          2.08015885364023,
          2.0928336824031,
          2.09429844887742,
          2.0852052616212,
          2.06368476486264,
          2.03137452093576,
          1.99176128475507,
          1.93629939317168,
          1.87371449758255,
          1.80112393588358,
          1.61735219829467,
          1.54875503783509
         ]
        }
       ],
       "layout": {
        "autosize": true,
        "legend": {
         "bgcolor": "#F5F6F9",
         "font": {
          "color": "#4D5663"
         }
        },
        "paper_bgcolor": "#F5F6F9",
        "plot_bgcolor": "#F5F6F9",
        "template": {
         "data": {
          "bar": [
           {
            "error_x": {
             "color": "#2a3f5f"
            },
            "error_y": {
             "color": "#2a3f5f"
            },
            "marker": {
             "line": {
              "color": "#E5ECF6",
              "width": 0.5
             },
             "pattern": {
              "fillmode": "overlay",
              "size": 10,
              "solidity": 0.2
             }
            },
            "type": "bar"
           }
          ],
          "barpolar": [
           {
            "marker": {
             "line": {
              "color": "#E5ECF6",
              "width": 0.5
             },
             "pattern": {
              "fillmode": "overlay",
              "size": 10,
              "solidity": 0.2
             }
            },
            "type": "barpolar"
           }
          ],
          "carpet": [
           {
            "aaxis": {
             "endlinecolor": "#2a3f5f",
             "gridcolor": "white",
             "linecolor": "white",
             "minorgridcolor": "white",
             "startlinecolor": "#2a3f5f"
            },
            "baxis": {
             "endlinecolor": "#2a3f5f",
             "gridcolor": "white",
             "linecolor": "white",
             "minorgridcolor": "white",
             "startlinecolor": "#2a3f5f"
            },
            "type": "carpet"
           }
          ],
          "choropleth": [
           {
            "colorbar": {
             "outlinewidth": 0,
             "ticks": ""
            },
            "type": "choropleth"
           }
          ],
          "contour": [
           {
            "colorbar": {
             "outlinewidth": 0,
             "ticks": ""
            },
            "colorscale": [
             [
              0,
              "#0d0887"
             ],
             [
              0.1111111111111111,
              "#46039f"
             ],
             [
              0.2222222222222222,
              "#7201a8"
             ],
             [
              0.3333333333333333,
              "#9c179e"
             ],
             [
              0.4444444444444444,
              "#bd3786"
             ],
             [
              0.5555555555555556,
              "#d8576b"
             ],
             [
              0.6666666666666666,
              "#ed7953"
             ],
             [
              0.7777777777777778,
              "#fb9f3a"
             ],
             [
              0.8888888888888888,
              "#fdca26"
             ],
             [
              1,
              "#f0f921"
             ]
            ],
            "type": "contour"
           }
          ],
          "contourcarpet": [
           {
            "colorbar": {
             "outlinewidth": 0,
             "ticks": ""
            },
            "type": "contourcarpet"
           }
          ],
          "heatmap": [
           {
            "colorbar": {
             "outlinewidth": 0,
             "ticks": ""
            },
            "colorscale": [
             [
              0,
              "#0d0887"
             ],
             [
              0.1111111111111111,
              "#46039f"
             ],
             [
              0.2222222222222222,
              "#7201a8"
             ],
             [
              0.3333333333333333,
              "#9c179e"
             ],
             [
              0.4444444444444444,
              "#bd3786"
             ],
             [
              0.5555555555555556,
              "#d8576b"
             ],
             [
              0.6666666666666666,
              "#ed7953"
             ],
             [
              0.7777777777777778,
              "#fb9f3a"
             ],
             [
              0.8888888888888888,
              "#fdca26"
             ],
             [
              1,
              "#f0f921"
             ]
            ],
            "type": "heatmap"
           }
          ],
          "heatmapgl": [
           {
            "colorbar": {
             "outlinewidth": 0,
             "ticks": ""
            },
            "colorscale": [
             [
              0,
              "#0d0887"
             ],
             [
              0.1111111111111111,
              "#46039f"
             ],
             [
              0.2222222222222222,
              "#7201a8"
             ],
             [
              0.3333333333333333,
              "#9c179e"
             ],
             [
              0.4444444444444444,
              "#bd3786"
             ],
             [
              0.5555555555555556,
              "#d8576b"
             ],
             [
              0.6666666666666666,
              "#ed7953"
             ],
             [
              0.7777777777777778,
              "#fb9f3a"
             ],
             [
              0.8888888888888888,
              "#fdca26"
             ],
             [
              1,
              "#f0f921"
             ]
            ],
            "type": "heatmapgl"
           }
          ],
          "histogram": [
           {
            "marker": {
             "pattern": {
              "fillmode": "overlay",
              "size": 10,
              "solidity": 0.2
             }
            },
            "type": "histogram"
           }
          ],
          "histogram2d": [
           {
            "colorbar": {
             "outlinewidth": 0,
             "ticks": ""
            },
            "colorscale": [
             [
              0,
              "#0d0887"
             ],
             [
              0.1111111111111111,
              "#46039f"
             ],
             [
              0.2222222222222222,
              "#7201a8"
             ],
             [
              0.3333333333333333,
              "#9c179e"
             ],
             [
              0.4444444444444444,
              "#bd3786"
             ],
             [
              0.5555555555555556,
              "#d8576b"
             ],
             [
              0.6666666666666666,
              "#ed7953"
             ],
             [
              0.7777777777777778,
              "#fb9f3a"
             ],
             [
              0.8888888888888888,
              "#fdca26"
             ],
             [
              1,
              "#f0f921"
             ]
            ],
            "type": "histogram2d"
           }
          ],
          "histogram2dcontour": [
           {
            "colorbar": {
             "outlinewidth": 0,
             "ticks": ""
            },
            "colorscale": [
             [
              0,
              "#0d0887"
             ],
             [
              0.1111111111111111,
              "#46039f"
             ],
             [
              0.2222222222222222,
              "#7201a8"
             ],
             [
              0.3333333333333333,
              "#9c179e"
             ],
             [
              0.4444444444444444,
              "#bd3786"
             ],
             [
              0.5555555555555556,
              "#d8576b"
             ],
             [
              0.6666666666666666,
              "#ed7953"
             ],
             [
              0.7777777777777778,
              "#fb9f3a"
             ],
             [
              0.8888888888888888,
              "#fdca26"
             ],
             [
              1,
              "#f0f921"
             ]
            ],
            "type": "histogram2dcontour"
           }
          ],
          "mesh3d": [
           {
            "colorbar": {
             "outlinewidth": 0,
             "ticks": ""
            },
            "type": "mesh3d"
           }
          ],
          "parcoords": [
           {
            "line": {
             "colorbar": {
              "outlinewidth": 0,
              "ticks": ""
             }
            },
            "type": "parcoords"
           }
          ],
          "pie": [
           {
            "automargin": true,
            "type": "pie"
           }
          ],
          "scatter": [
           {
            "fillpattern": {
             "fillmode": "overlay",
             "size": 10,
             "solidity": 0.2
            },
            "type": "scatter"
           }
          ],
          "scatter3d": [
           {
            "line": {
             "colorbar": {
              "outlinewidth": 0,
              "ticks": ""
             }
            },
            "marker": {
             "colorbar": {
              "outlinewidth": 0,
              "ticks": ""
             }
            },
            "type": "scatter3d"
           }
          ],
          "scattercarpet": [
           {
            "marker": {
             "colorbar": {
              "outlinewidth": 0,
              "ticks": ""
             }
            },
            "type": "scattercarpet"
           }
          ],
          "scattergeo": [
           {
            "marker": {
             "colorbar": {
              "outlinewidth": 0,
              "ticks": ""
             }
            },
            "type": "scattergeo"
           }
          ],
          "scattergl": [
           {
            "marker": {
             "colorbar": {
              "outlinewidth": 0,
              "ticks": ""
             }
            },
            "type": "scattergl"
           }
          ],
          "scattermapbox": [
           {
            "marker": {
             "colorbar": {
              "outlinewidth": 0,
              "ticks": ""
             }
            },
            "type": "scattermapbox"
           }
          ],
          "scatterpolar": [
           {
            "marker": {
             "colorbar": {
              "outlinewidth": 0,
              "ticks": ""
             }
            },
            "type": "scatterpolar"
           }
          ],
          "scatterpolargl": [
           {
            "marker": {
             "colorbar": {
              "outlinewidth": 0,
              "ticks": ""
             }
            },
            "type": "scatterpolargl"
           }
          ],
          "scatterternary": [
           {
            "marker": {
             "colorbar": {
              "outlinewidth": 0,
              "ticks": ""
             }
            },
            "type": "scatterternary"
           }
          ],
          "surface": [
           {
            "colorbar": {
             "outlinewidth": 0,
             "ticks": ""
            },
            "colorscale": [
             [
              0,
              "#0d0887"
             ],
             [
              0.1111111111111111,
              "#46039f"
             ],
             [
              0.2222222222222222,
              "#7201a8"
             ],
             [
              0.3333333333333333,
              "#9c179e"
             ],
             [
              0.4444444444444444,
              "#bd3786"
             ],
             [
              0.5555555555555556,
              "#d8576b"
             ],
             [
              0.6666666666666666,
              "#ed7953"
             ],
             [
              0.7777777777777778,
              "#fb9f3a"
             ],
             [
              0.8888888888888888,
              "#fdca26"
             ],
             [
              1,
              "#f0f921"
             ]
            ],
            "type": "surface"
           }
          ],
          "table": [
           {
            "cells": {
             "fill": {
              "color": "#EBF0F8"
             },
             "line": {
              "color": "white"
             }
            },
            "header": {
             "fill": {
              "color": "#C8D4E3"
             },
             "line": {
              "color": "white"
             }
            },
            "type": "table"
           }
          ]
         },
         "layout": {
          "annotationdefaults": {
           "arrowcolor": "#2a3f5f",
           "arrowhead": 0,
           "arrowwidth": 1
          },
          "autotypenumbers": "strict",
          "coloraxis": {
           "colorbar": {
            "outlinewidth": 0,
            "ticks": ""
           }
          },
          "colorscale": {
           "diverging": [
            [
             0,
             "#8e0152"
            ],
            [
             0.1,
             "#c51b7d"
            ],
            [
             0.2,
             "#de77ae"
            ],
            [
             0.3,
             "#f1b6da"
            ],
            [
             0.4,
             "#fde0ef"
            ],
            [
             0.5,
             "#f7f7f7"
            ],
            [
             0.6,
             "#e6f5d0"
            ],
            [
             0.7,
             "#b8e186"
            ],
            [
             0.8,
             "#7fbc41"
            ],
            [
             0.9,
             "#4d9221"
            ],
            [
             1,
             "#276419"
            ]
           ],
           "sequential": [
            [
             0,
             "#0d0887"
            ],
            [
             0.1111111111111111,
             "#46039f"
            ],
            [
             0.2222222222222222,
             "#7201a8"
            ],
            [
             0.3333333333333333,
             "#9c179e"
            ],
            [
             0.4444444444444444,
             "#bd3786"
            ],
            [
             0.5555555555555556,
             "#d8576b"
            ],
            [
             0.6666666666666666,
             "#ed7953"
            ],
            [
             0.7777777777777778,
             "#fb9f3a"
            ],
            [
             0.8888888888888888,
             "#fdca26"
            ],
            [
             1,
             "#f0f921"
            ]
           ],
           "sequentialminus": [
            [
             0,
             "#0d0887"
            ],
            [
             0.1111111111111111,
             "#46039f"
            ],
            [
             0.2222222222222222,
             "#7201a8"
            ],
            [
             0.3333333333333333,
             "#9c179e"
            ],
            [
             0.4444444444444444,
             "#bd3786"
            ],
            [
             0.5555555555555556,
             "#d8576b"
            ],
            [
             0.6666666666666666,
             "#ed7953"
            ],
            [
             0.7777777777777778,
             "#fb9f3a"
            ],
            [
             0.8888888888888888,
             "#fdca26"
            ],
            [
             1,
             "#f0f921"
            ]
           ]
          },
          "colorway": [
           "#636efa",
           "#EF553B",
           "#00cc96",
           "#ab63fa",
           "#FFA15A",
           "#19d3f3",
           "#FF6692",
           "#B6E880",
           "#FF97FF",
           "#FECB52"
          ],
          "font": {
           "color": "#2a3f5f"
          },
          "geo": {
           "bgcolor": "white",
           "lakecolor": "white",
           "landcolor": "#E5ECF6",
           "showlakes": true,
           "showland": true,
           "subunitcolor": "white"
          },
          "hoverlabel": {
           "align": "left"
          },
          "hovermode": "closest",
          "mapbox": {
           "style": "light"
          },
          "paper_bgcolor": "white",
          "plot_bgcolor": "#E5ECF6",
          "polar": {
           "angularaxis": {
            "gridcolor": "white",
            "linecolor": "white",
            "ticks": ""
           },
           "bgcolor": "#E5ECF6",
           "radialaxis": {
            "gridcolor": "white",
            "linecolor": "white",
            "ticks": ""
           }
          },
          "scene": {
           "xaxis": {
            "backgroundcolor": "#E5ECF6",
            "gridcolor": "white",
            "gridwidth": 2,
            "linecolor": "white",
            "showbackground": true,
            "ticks": "",
            "zerolinecolor": "white"
           },
           "yaxis": {
            "backgroundcolor": "#E5ECF6",
            "gridcolor": "white",
            "gridwidth": 2,
            "linecolor": "white",
            "showbackground": true,
            "ticks": "",
            "zerolinecolor": "white"
           },
           "zaxis": {
            "backgroundcolor": "#E5ECF6",
            "gridcolor": "white",
            "gridwidth": 2,
            "linecolor": "white",
            "showbackground": true,
            "ticks": "",
            "zerolinecolor": "white"
           }
          },
          "shapedefaults": {
           "line": {
            "color": "#2a3f5f"
           }
          },
          "ternary": {
           "aaxis": {
            "gridcolor": "white",
            "linecolor": "white",
            "ticks": ""
           },
           "baxis": {
            "gridcolor": "white",
            "linecolor": "white",
            "ticks": ""
           },
           "bgcolor": "#E5ECF6",
           "caxis": {
            "gridcolor": "white",
            "linecolor": "white",
            "ticks": ""
           }
          },
          "title": {
           "x": 0.05
          },
          "xaxis": {
           "automargin": true,
           "gridcolor": "white",
           "linecolor": "white",
           "ticks": "",
           "title": {
            "standoff": 15
           },
           "zerolinecolor": "white",
           "zerolinewidth": 2
          },
          "yaxis": {
           "automargin": true,
           "gridcolor": "white",
           "linecolor": "white",
           "ticks": "",
           "title": {
            "standoff": 15
           },
           "zerolinecolor": "white",
           "zerolinewidth": 2
          }
         }
        },
        "title": {
         "font": {
          "color": "#4D5663"
         },
         "text": "Urban growth rates by country"
        },
        "xaxis": {
         "autorange": true,
         "gridcolor": "#E1E5ED",
         "range": [
          1960,
          2022
         ],
         "showgrid": true,
         "tickfont": {
          "color": "#4D5663"
         },
         "title": {
          "font": {
           "color": "#4D5663"
          },
          "text": "Year"
         },
         "type": "linear",
         "zerolinecolor": "#E1E5ED"
        },
        "yaxis": {
         "autorange": true,
         "gridcolor": "#E1E5ED",
         "range": [
          -0.640657305588618,
          7.973872133302222
         ],
         "showgrid": true,
         "tickfont": {
          "color": "#4D5663"
         },
         "title": {
          "font": {
           "color": "#4D5663"
          },
          "text": "Growth Rate"
         },
         "type": "linear",
         "zerolinecolor": "#E1E5ED"
        }
       }
      },
      "image/png": "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",
      "text/html": [
       "<div>                            <div id=\"68db8249-97b0-4991-a203-4f547a22488f\" class=\"plotly-graph-div\" style=\"height:525px; width:100%;\"></div>            <script type=\"text/javascript\">                require([\"plotly\"], function(Plotly) {                    window.PLOTLYENV=window.PLOTLYENV || {};\n",
       "                    window.PLOTLYENV.BASE_URL='https://plot.ly';                                    if (document.getElementById(\"68db8249-97b0-4991-a203-4f547a22488f\")) {                    Plotly.newPlot(                        \"68db8249-97b0-4991-a203-4f547a22488f\",                        [{\"line\":{\"color\":\"rgba(255, 153, 51, 1.0)\",\"dash\":\"solid\",\"shape\":\"linear\",\"width\":1.3},\"mode\":\"lines\",\"name\":\"China\",\"text\":\"\",\"x\":[1960,1961,1962,1963,1964,1965,1966,1967,1968,1969,1970,1971,1972,1973,1974,1975,1976,1977,1978,1979,1980,1981,1982,1983,1984,1985,1986,1987,1988,1989,1990,1991,1992,1993,1994,1995,1996,1997,1998,1999,2000,2001,2002,2003,2004,2005,2006,2007,2008,2009,2010,2011,2012,2013,2014,2015,2016,2017,2018,2019,2020,2021,2022],\"y\":[\"\",2.0535955782573,3.87367811011942,5.49364102057992,5.32734351055203,1.21054285461748,1.83735115939042,1.84240345667628,1.88292890180956,2.01239514705866,2.02873595918483,2.12429188312895,1.83083167159415,2.28339576291405,2.69247959731461,2.38901572313462,1.89157239197393,1.70583298538571,3.48394507218723,5.26137093097064,5.15728370456645,5.13186895071821,5.29566624595188,4.47484202161229,4.3204330245138,4.33904712359308,4.4381005931631,4.5315822084455,4.51483099420354,4.4026320383107,4.30967848070248,4.60168513214318,4.42511729026799,4.30154774283787,4.24584059723498,4.15963799418302,4.08605174394273,4.00828550795805,3.90807856569896,3.77008872976608,3.64925271115854,4.05956575767596,4.19800114764631,4.07840352649768,3.97537212954358,3.88247297575862,3.67472809325703,3.51125555182775,3.43395768889026,3.33810246782671,3.25536549409244,3.12337717694482,3.13065659552565,3.048365006284,2.95349744191833,2.84287054779151,2.77564176920889,2.739663820353,2.50340050353808,2.29017723362897,2.07814005779212,1.83853028231533,1.64948085688024],\"type\":\"scatter\"},{\"line\":{\"color\":\"rgba(55, 128, 191, 1.0)\",\"dash\":\"solid\",\"shape\":\"linear\",\"width\":1.3},\"mode\":\"lines\",\"name\":\"Korea, Rep.\",\"text\":\"\",\"x\":[1960,1961,1962,1963,1964,1965,1966,1967,1968,1969,1970,1971,1972,1973,1974,1975,1976,1977,1978,1979,1980,1981,1982,1983,1984,1985,1986,1987,1988,1989,1990,1991,1992,1993,1994,1995,1996,1997,1998,1999,2000,2001,2002,2003,2004,2005,2006,2007,2008,2009,2010,2011,2012,2013,2014,2015,2016,2017,2018,2019,2020,2021,2022],\"y\":[\"\",5.88702502819195,6.06693993931122,5.9453611642531,5.73969139913605,5.61506694375346,5.54667785972317,7.09014499610952,7.54314566135768,7.31728587770682,7.08824857344516,5.72515940123285,5.20603051616675,5.00872678440835,4.87075155461082,4.75584747563308,5.04644353378922,5.03189497691862,4.87547579431438,4.74779133430002,4.67238439804972,4.49108913788502,4.33796607785697,4.15519628315522,3.80708263897405,3.44222748629721,3.73595732687128,3.77142785426415,3.60758583615969,3.45735138569971,3.3086487267101,2.50578148499851,2.16390257767196,2.09804804302675,2.05355922703446,2.0171844184448,1.49197608574533,1.24615224219257,1.02556798368187,1.01231674491918,1.13428440765118,1.16708927807075,1.02604012271042,0.956963846404653,0.829355606254432,0.634549840258114,0.749916123325417,0.631491671818636,0.88418882208575,0.639403400754965,0.621566983144705,0.753105096374867,0.43778826636442,0.367213427358424,0.540070702737516,0.437904532582115,0.30861280632646,0.208604619717282,0.37951853428273,0.312269897922803,0.118218402592122,-0.176410375279992,-0.209930833644076],\"type\":\"scatter\"},{\"line\":{\"color\":\"rgba(50, 171, 96, 1.0)\",\"dash\":\"solid\",\"shape\":\"linear\",\"width\":1.3},\"mode\":\"lines\",\"name\":\"Thailand\",\"text\":\"\",\"x\":[1960,1961,1962,1963,1964,1965,1966,1967,1968,1969,1970,1971,1972,1973,1974,1975,1976,1977,1978,1979,1980,1981,1982,1983,1984,1985,1986,1987,1988,1989,1990,1991,1992,1993,1994,1995,1996,1997,1998,1999,2000,2001,2002,2003,2004,2005,2006,2007,2008,2009,2010,2011,2012,2013,2014,2015,2016,2017,2018,2019,2020,2021,2022],\"y\":[\"\",3.52845123668168,3.57698098792419,3.59223123622772,3.59112691285638,3.59132462725761,3.55123811868385,3.50240553168667,3.45145897196919,3.40159044716202,3.90923303514764,5.41272810716099,5.34667344516131,5.27881945843628,5.16780890969252,5.02567188900309,4.87503054105435,4.76296943959113,4.69772561706904,4.60643146872022,4.23119486041387,3.09883853169569,3.01398127559807,2.96481437694234,2.91510183216625,2.85257690807228,2.79706076907914,2.73880267594483,2.69520715719554,2.62502352751439,2.52840310969833,2.13831094021756,2.05756601026163,2.0322909494615,2.00269801629284,1.94707538348293,1.88422742301051,1.85041865509013,1.79548621185684,1.68664004507715,2.3318014212256,4.55602672226528,4.4747528371425,4.37497522003223,4.27545921125585,4.15437538893834,4.07168494989182,4.01061387426357,3.93047170053379,3.82420062386752,3.711024875017,2.54757844318673,2.30174854622188,2.24029456733658,2.15858537971524,2.0626492412339,2.01231562414993,1.9517822830395,1.83420909694125,1.72925235944288,1.68053874355918,1.59052125513576,1.51607961040569],\"type\":\"scatter\"},{\"line\":{\"color\":\"rgba(128, 0, 128, 1.0)\",\"dash\":\"solid\",\"shape\":\"linear\",\"width\":1.3},\"mode\":\"lines\",\"name\":\"Viet Nam\",\"text\":\"\",\"x\":[1960,1961,1962,1963,1964,1965,1966,1967,1968,1969,1970,1971,1972,1973,1974,1975,1976,1977,1978,1979,1980,1981,1982,1983,1984,1985,1986,1987,1988,1989,1990,1991,1992,1993,1994,1995,1996,1997,1998,1999,2000,2001,2002,2003,2004,2005,2006,2007,2008,2009,2010,2011,2012,2013,2014,2015,2016,2017,2018,2019,2020,2021,2022],\"y\":[\"\",4.95077743519653,4.89987581871579,5.05437926184463,4.93066806190702,4.78529711537391,4.617941269198,4.47774045898668,4.34078384123447,4.30123994415212,4.35010728388901,2.85173649365941,2.79971324997589,2.73701428611571,2.73980834777267,2.82420114582394,3.03063375454999,3.08920366515048,3.07874230326572,2.72176394967174,2.54449723599811,2.76861089567019,2.78557042021794,2.77374913659924,2.74177121317989,2.69873338997934,2.65636414577537,2.5969988822591,2.54575910199598,2.90799780857518,4.00840796128102,3.95805547415856,3.88124259904182,3.76637741867062,3.63735212629801,3.50459042697334,3.37211480260184,3.23902181225116,3.14923729490921,3.17254447657301,3.42860197272881,3.31196106294403,3.30342563630772,3.28019450083254,3.25990938485259,3.22074378651575,3.16976901467855,3.14556105122946,3.14580232139383,3.18264544200066,3.24435486033937,3.22377949288483,3.21113051981827,3.18611624041608,3.15972531846692,3.11634097364234,3.06143512628087,2.98533941955856,2.91794712714328,2.85915028568362,2.83151425856978,2.73303127667175,2.59378902775746],\"type\":\"scatter\"},{\"line\":{\"color\":\"rgba(219, 64, 82, 1.0)\",\"dash\":\"solid\",\"shape\":\"linear\",\"width\":1.3},\"mode\":\"lines\",\"name\":\"World\",\"text\":\"\",\"x\":[1960,1961,1962,1963,1964,1965,1966,1967,1968,1969,1970,1971,1972,1973,1974,1975,1976,1977,1978,1979,1980,1981,1982,1983,1984,1985,1986,1987,1988,1989,1990,1991,1992,1993,1994,1995,1996,1997,1998,1999,2000,2001,2002,2003,2004,2005,2006,2007,2008,2009,2010,2011,2012,2013,2014,2015,2016,2017,2018,2019,2020,2021,2022],\"y\":[\"\",2.81955763282087,3.05950443245308,3.24400067956852,3.2220810627299,2.70726322512725,2.68382471423551,2.66452525804191,2.66034109999451,2.65786520904756,2.62648301826007,2.6692085893248,2.60035454316036,2.632190472704,2.66070398942946,2.48556058631905,2.49970295006376,2.46990355901617,2.6490942908835,2.83710270938717,2.83868607450964,2.86830776609195,2.77820970461767,2.6547107354429,2.63842928802535,2.64231830546431,2.671188022328,2.6872119783079,2.66397961058149,2.60233396384852,2.60306301463157,2.55434856023685,2.48240123991512,2.41335664379602,2.36987201459209,2.32380881894794,2.2908166643285,2.2679324109329,2.24330164810127,2.20470865708238,2.18768310048951,2.3022381543486,2.36702476213593,2.33520225768085,2.32617206336072,2.3169706036046,2.2896225153535,2.25057482120516,2.27266073696093,2.23623688929091,2.19419161249729,2.08015885364023,2.0928336824031,2.09429844887742,2.0852052616212,2.06368476486264,2.03137452093576,1.99176128475507,1.93629939317168,1.87371449758255,1.80112393588358,1.61735219829467,1.54875503783509],\"type\":\"scatter\"}],                        {\"legend\":{\"bgcolor\":\"#F5F6F9\",\"font\":{\"color\":\"#4D5663\"}},\"paper_bgcolor\":\"#F5F6F9\",\"plot_bgcolor\":\"#F5F6F9\",\"template\":{\"data\":{\"barpolar\":[{\"marker\":{\"line\":{\"color\":\"#E5ECF6\",\"width\":0.5},\"pattern\":{\"fillmode\":\"overlay\",\"size\":10,\"solidity\":0.2}},\"type\":\"barpolar\"}],\"bar\":[{\"error_x\":{\"color\":\"#2a3f5f\"},\"error_y\":{\"color\":\"#2a3f5f\"},\"marker\":{\"line\":{\"color\":\"#E5ECF6\",\"width\":0.5},\"pattern\":{\"fillmode\":\"overlay\",\"size\":10,\"solidity\":0.2}},\"type\":\"bar\"}],\"carpet\":[{\"aaxis\":{\"endlinecolor\":\"#2a3f5f\",\"gridcolor\":\"white\",\"linecolor\":\"white\",\"minorgridcolor\":\"white\",\"startlinecolor\":\"#2a3f5f\"},\"baxis\":{\"endlinecolor\":\"#2a3f5f\",\"gridcolor\":\"white\",\"linecolor\":\"white\",\"minorgridcolor\":\"white\",\"startlinecolor\":\"#2a3f5f\"},\"type\":\"carpet\"}],\"choropleth\":[{\"colorbar\":{\"outlinewidth\":0,\"ticks\":\"\"},\"type\":\"choropleth\"}],\"contourcarpet\":[{\"colorbar\":{\"outlinewidth\":0,\"ticks\":\"\"},\"type\":\"contourcarpet\"}],\"contour\":[{\"colorbar\":{\"outlinewidth\":0,\"ticks\":\"\"},\"colorscale\":[[0.0,\"#0d0887\"],[0.1111111111111111,\"#46039f\"],[0.2222222222222222,\"#7201a8\"],[0.3333333333333333,\"#9c179e\"],[0.4444444444444444,\"#bd3786\"],[0.5555555555555556,\"#d8576b\"],[0.6666666666666666,\"#ed7953\"],[0.7777777777777778,\"#fb9f3a\"],[0.8888888888888888,\"#fdca26\"],[1.0,\"#f0f921\"]],\"type\":\"contour\"}],\"heatmapgl\":[{\"colorbar\":{\"outlinewidth\":0,\"ticks\":\"\"},\"colorscale\":[[0.0,\"#0d0887\"],[0.1111111111111111,\"#46039f\"],[0.2222222222222222,\"#7201a8\"],[0.3333333333333333,\"#9c179e\"],[0.4444444444444444,\"#bd3786\"],[0.5555555555555556,\"#d8576b\"],[0.6666666666666666,\"#ed7953\"],[0.7777777777777778,\"#fb9f3a\"],[0.8888888888888888,\"#fdca26\"],[1.0,\"#f0f921\"]],\"type\":\"heatmapgl\"}],\"heatmap\":[{\"colorbar\":{\"outlinewidth\":0,\"ticks\":\"\"},\"colorscale\":[[0.0,\"#0d0887\"],[0.1111111111111111,\"#46039f\"],[0.2222222222222222,\"#7201a8\"],[0.3333333333333333,\"#9c179e\"],[0.4444444444444444,\"#bd3786\"],[0.5555555555555556,\"#d8576b\"],[0.6666666666666666,\"#ed7953\"],[0.7777777777777778,\"#fb9f3a\"],[0.8888888888888888,\"#fdca26\"],[1.0,\"#f0f921\"]],\"type\":\"heatmap\"}],\"histogram2dcontour\":[{\"colorbar\":{\"outlinewidth\":0,\"ticks\":\"\"},\"colorscale\":[[0.0,\"#0d0887\"],[0.1111111111111111,\"#46039f\"],[0.2222222222222222,\"#7201a8\"],[0.3333333333333333,\"#9c179e\"],[0.4444444444444444,\"#bd3786\"],[0.5555555555555556,\"#d8576b\"],[0.6666666666666666,\"#ed7953\"],[0.7777777777777778,\"#fb9f3a\"],[0.8888888888888888,\"#fdca26\"],[1.0,\"#f0f921\"]],\"type\":\"histogram2dcontour\"}],\"histogram2d\":[{\"colorbar\":{\"outlinewidth\":0,\"ticks\":\"\"},\"colorscale\":[[0.0,\"#0d0887\"],[0.1111111111111111,\"#46039f\"],[0.2222222222222222,\"#7201a8\"],[0.3333333333333333,\"#9c179e\"],[0.4444444444444444,\"#bd3786\"],[0.5555555555555556,\"#d8576b\"],[0.6666666666666666,\"#ed7953\"],[0.7777777777777778,\"#fb9f3a\"],[0.8888888888888888,\"#fdca26\"],[1.0,\"#f0f921\"]],\"type\":\"histogram2d\"}],\"histogram\":[{\"marker\":{\"pattern\":{\"fillmode\":\"overlay\",\"size\":10,\"solidity\":0.2}},\"type\":\"histogram\"}],\"mesh3d\":[{\"colorbar\":{\"outlinewidth\":0,\"ticks\":\"\"},\"type\":\"mesh3d\"}],\"parcoords\":[{\"line\":{\"colorbar\":{\"outlinewidth\":0,\"ticks\":\"\"}},\"type\":\"parcoords\"}],\"pie\":[{\"automargin\":true,\"type\":\"pie\"}],\"scatter3d\":[{\"line\":{\"colorbar\":{\"outlinewidth\":0,\"ticks\":\"\"}},\"marker\":{\"colorbar\":{\"outlinewidth\":0,\"ticks\":\"\"}},\"type\":\"scatter3d\"}],\"scattercarpet\":[{\"marker\":{\"colorbar\":{\"outlinewidth\":0,\"ticks\":\"\"}},\"type\":\"scattercarpet\"}],\"scattergeo\":[{\"marker\":{\"colorbar\":{\"outlinewidth\":0,\"ticks\":\"\"}},\"type\":\"scattergeo\"}],\"scattergl\":[{\"marker\":{\"colorbar\":{\"outlinewidth\":0,\"ticks\":\"\"}},\"type\":\"scattergl\"}],\"scattermapbox\":[{\"marker\":{\"colorbar\":{\"outlinewidth\":0,\"ticks\":\"\"}},\"type\":\"scattermapbox\"}],\"scatterpolargl\":[{\"marker\":{\"colorbar\":{\"outlinewidth\":0,\"ticks\":\"\"}},\"type\":\"scatterpolargl\"}],\"scatterpolar\":[{\"marker\":{\"colorbar\":{\"outlinewidth\":0,\"ticks\":\"\"}},\"type\":\"scatterpolar\"}],\"scatter\":[{\"fillpattern\":{\"fillmode\":\"overlay\",\"size\":10,\"solidity\":0.2},\"type\":\"scatter\"}],\"scatterternary\":[{\"marker\":{\"colorbar\":{\"outlinewidth\":0,\"ticks\":\"\"}},\"type\":\"scatterternary\"}],\"surface\":[{\"colorbar\":{\"outlinewidth\":0,\"ticks\":\"\"},\"colorscale\":[[0.0,\"#0d0887\"],[0.1111111111111111,\"#46039f\"],[0.2222222222222222,\"#7201a8\"],[0.3333333333333333,\"#9c179e\"],[0.4444444444444444,\"#bd3786\"],[0.5555555555555556,\"#d8576b\"],[0.6666666666666666,\"#ed7953\"],[0.7777777777777778,\"#fb9f3a\"],[0.8888888888888888,\"#fdca26\"],[1.0,\"#f0f921\"]],\"type\":\"surface\"}],\"table\":[{\"cells\":{\"fill\":{\"color\":\"#EBF0F8\"},\"line\":{\"color\":\"white\"}},\"header\":{\"fill\":{\"color\":\"#C8D4E3\"},\"line\":{\"color\":\"white\"}},\"type\":\"table\"}]},\"layout\":{\"annotationdefaults\":{\"arrowcolor\":\"#2a3f5f\",\"arrowhead\":0,\"arrowwidth\":1},\"autotypenumbers\":\"strict\",\"coloraxis\":{\"colorbar\":{\"outlinewidth\":0,\"ticks\":\"\"}},\"colorscale\":{\"diverging\":[[0,\"#8e0152\"],[0.1,\"#c51b7d\"],[0.2,\"#de77ae\"],[0.3,\"#f1b6da\"],[0.4,\"#fde0ef\"],[0.5,\"#f7f7f7\"],[0.6,\"#e6f5d0\"],[0.7,\"#b8e186\"],[0.8,\"#7fbc41\"],[0.9,\"#4d9221\"],[1,\"#276419\"]],\"sequential\":[[0.0,\"#0d0887\"],[0.1111111111111111,\"#46039f\"],[0.2222222222222222,\"#7201a8\"],[0.3333333333333333,\"#9c179e\"],[0.4444444444444444,\"#bd3786\"],[0.5555555555555556,\"#d8576b\"],[0.6666666666666666,\"#ed7953\"],[0.7777777777777778,\"#fb9f3a\"],[0.8888888888888888,\"#fdca26\"],[1.0,\"#f0f921\"]],\"sequentialminus\":[[0.0,\"#0d0887\"],[0.1111111111111111,\"#46039f\"],[0.2222222222222222,\"#7201a8\"],[0.3333333333333333,\"#9c179e\"],[0.4444444444444444,\"#bd3786\"],[0.5555555555555556,\"#d8576b\"],[0.6666666666666666,\"#ed7953\"],[0.7777777777777778,\"#fb9f3a\"],[0.8888888888888888,\"#fdca26\"],[1.0,\"#f0f921\"]]},\"colorway\":[\"#636efa\",\"#EF553B\",\"#00cc96\",\"#ab63fa\",\"#FFA15A\",\"#19d3f3\",\"#FF6692\",\"#B6E880\",\"#FF97FF\",\"#FECB52\"],\"font\":{\"color\":\"#2a3f5f\"},\"geo\":{\"bgcolor\":\"white\",\"lakecolor\":\"white\",\"landcolor\":\"#E5ECF6\",\"showlakes\":true,\"showland\":true,\"subunitcolor\":\"white\"},\"hoverlabel\":{\"align\":\"left\"},\"hovermode\":\"closest\",\"mapbox\":{\"style\":\"light\"},\"paper_bgcolor\":\"white\",\"plot_bgcolor\":\"#E5ECF6\",\"polar\":{\"angularaxis\":{\"gridcolor\":\"white\",\"linecolor\":\"white\",\"ticks\":\"\"},\"bgcolor\":\"#E5ECF6\",\"radialaxis\":{\"gridcolor\":\"white\",\"linecolor\":\"white\",\"ticks\":\"\"}},\"scene\":{\"xaxis\":{\"backgroundcolor\":\"#E5ECF6\",\"gridcolor\":\"white\",\"gridwidth\":2,\"linecolor\":\"white\",\"showbackground\":true,\"ticks\":\"\",\"zerolinecolor\":\"white\"},\"yaxis\":{\"backgroundcolor\":\"#E5ECF6\",\"gridcolor\":\"white\",\"gridwidth\":2,\"linecolor\":\"white\",\"showbackground\":true,\"ticks\":\"\",\"zerolinecolor\":\"white\"},\"zaxis\":{\"backgroundcolor\":\"#E5ECF6\",\"gridcolor\":\"white\",\"gridwidth\":2,\"linecolor\":\"white\",\"showbackground\":true,\"ticks\":\"\",\"zerolinecolor\":\"white\"}},\"shapedefaults\":{\"line\":{\"color\":\"#2a3f5f\"}},\"ternary\":{\"aaxis\":{\"gridcolor\":\"white\",\"linecolor\":\"white\",\"ticks\":\"\"},\"baxis\":{\"gridcolor\":\"white\",\"linecolor\":\"white\",\"ticks\":\"\"},\"bgcolor\":\"#E5ECF6\",\"caxis\":{\"gridcolor\":\"white\",\"linecolor\":\"white\",\"ticks\":\"\"}},\"title\":{\"x\":0.05},\"xaxis\":{\"automargin\":true,\"gridcolor\":\"white\",\"linecolor\":\"white\",\"ticks\":\"\",\"title\":{\"standoff\":15},\"zerolinecolor\":\"white\",\"zerolinewidth\":2},\"yaxis\":{\"automargin\":true,\"gridcolor\":\"white\",\"linecolor\":\"white\",\"ticks\":\"\",\"title\":{\"standoff\":15},\"zerolinecolor\":\"white\",\"zerolinewidth\":2}}},\"title\":{\"font\":{\"color\":\"#4D5663\"},\"text\":\"Urban growth rates by country\"},\"xaxis\":{\"gridcolor\":\"#E1E5ED\",\"showgrid\":true,\"tickfont\":{\"color\":\"#4D5663\"},\"title\":{\"font\":{\"color\":\"#4D5663\"},\"text\":\"Year\"},\"zerolinecolor\":\"#E1E5ED\"},\"yaxis\":{\"gridcolor\":\"#E1E5ED\",\"showgrid\":true,\"tickfont\":{\"color\":\"#4D5663\"},\"title\":{\"font\":{\"color\":\"#4D5663\"},\"text\":\"Growth Rate\"},\"zerolinecolor\":\"#E1E5ED\"}},                        {\"showLink\": true, \"linkText\": \"Export to plot.ly\", \"plotlyServerURL\": \"https://plot.ly\", \"responsive\": true}                    ).then(function(){\n",
       "                            \n",
       "var gd = document.getElementById('68db8249-97b0-4991-a203-4f547a22488f');\n",
       "var x = new MutationObserver(function (mutations, observer) {{\n",
       "        var display = window.getComputedStyle(gd).display;\n",
       "        if (!display || display === 'none') {{\n",
       "            console.log([gd, 'removed!']);\n",
       "            Plotly.purge(gd);\n",
       "            observer.disconnect();\n",
       "        }}\n",
       "}});\n",
       "\n",
       "// Listen for the removal of the full notebook cells\n",
       "var notebookContainer = gd.closest('#notebook-container');\n",
       "if (notebookContainer) {{\n",
       "    x.observe(notebookContainer, {childList: true});\n",
       "}}\n",
       "\n",
       "// Listen for the clearing of the current output cell\n",
       "var outputEl = gd.closest('.output');\n",
       "if (outputEl) {{\n",
       "    x.observe(outputEl, {childList: true});\n",
       "}}\n",
       "\n",
       "                        })                };                });            </script>        </div>"
      ]
     },
     "metadata": {},
     "output_type": "display_data"
    }
   ],
   "source": [
    "import numpy as np\n",
    "\n",
    "variable_labels = {\"SP.URB.GROW\":\"Urban population growth (annual %)\"\n",
    "                  }\n",
    "\n",
    "# Three letter codes come from wbdata.get_country()\n",
    "countries = {\"KOR\":\"Korea, Rep.\",\n",
    "             \"CHN\":\"China\",\n",
    "             \"THA\":\"Thailand\",\n",
    "             \"VNM\":\"Viet Nam\", \n",
    "             \"WLD\":\"World\"\n",
    "            }\n",
    "\n",
    "df = wbdata.get_dataframe(variable_labels, country = countries).squeeze()\n",
    "\n",
    "df = df.unstack('country')\n",
    "# Date index is of type string; change to integers\n",
    "df.index = df.index.astype(int)\n",
    "\n",
    "# Differences (over time) in logs give us growth rates\n",
    "df.iplot(title=\"Urban growth rates by country\",\n",
    "                        yTitle=\"Growth Rate\",xTitle='Year')"
   ]
  },
  {
   "cell_type": "code",
   "execution_count": 30,
   "id": "3cb6bed4-6ed6-4616-8079-f9145916728b",
   "metadata": {},
   "outputs": [
    {
     "data": {
      "application/vnd.plotly.v1+json": {
       "config": {
        "linkText": "Export to plot.ly",
        "plotlyServerURL": "https://plot.ly",
        "showLink": true
       },
       "data": [
        {
         "line": {
          "color": "rgba(255, 153, 51, 1.0)",
          "dash": "solid",
          "shape": "linear",
          "width": 1.3
         },
         "mode": "lines",
         "name": "China",
         "text": "",
         "type": "scatter",
         "x": [
          1960,
          1961,
          1962,
          1963,
          1964,
          1965,
          1966,
          1967,
          1968,
          1969,
          1970,
          1971,
          1972,
          1973,
          1974,
          1975,
          1976,
          1977,
          1978,
          1979,
          1980,
          1981,
          1982,
          1983,
          1984,
          1985,
          1986,
          1987,
          1988,
          1989,
          1990,
          1991,
          1992,
          1993,
          1994,
          1995,
          1996,
          1997,
          1998,
          1999,
          2000,
          2001,
          2002,
          2003,
          2004,
          2005,
          2006,
          2007,
          2008,
          2009,
          2010,
          2011,
          2012,
          2013,
          2014,
          2015,
          2016,
          2017,
          2018,
          2019,
          2020,
          2021,
          2022
         ],
         "y": [
          -118519,
          -179064,
          -219144,
          -219686,
          -183384,
          -128537,
          -73698,
          -37406,
          -37291,
          -72835,
          -126514,
          -180202,
          -215730,
          -215090,
          -175304,
          -115215,
          -55120,
          -15327,
          -9923,
          -13705,
          -20131,
          -28017,
          -36185,
          -43762,
          -51959,
          -60932,
          -79193,
          -169188,
          -282270,
          -627109,
          -290067,
          -757481,
          -873177,
          -749957,
          -477036,
          -625725,
          -553915,
          -501141,
          -439828,
          -492597,
          -549792,
          -485419,
          -477885,
          -527837,
          -458505,
          -519752,
          -473105,
          -438846,
          -469093,
          -350365,
          -216417,
          -147585,
          -124641,
          -137444,
          -198432,
          -155379,
          -153054,
          -180592,
          -296674,
          -302609,
          -33649,
          -200194,
          ""
         ]
        },
        {
         "line": {
          "color": "rgba(55, 128, 191, 1.0)",
          "dash": "solid",
          "shape": "linear",
          "width": 1.3
         },
         "mode": "lines",
         "name": "Korea, Rep.",
         "text": "",
         "type": "scatter",
         "x": [
          1960,
          1961,
          1962,
          1963,
          1964,
          1965,
          1966,
          1967,
          1968,
          1969,
          1970,
          1971,
          1972,
          1973,
          1974,
          1975,
          1976,
          1977,
          1978,
          1979,
          1980,
          1981,
          1982,
          1983,
          1984,
          1985,
          1986,
          1987,
          1988,
          1989,
          1990,
          1991,
          1992,
          1993,
          1994,
          1995,
          1996,
          1997,
          1998,
          1999,
          2000,
          2001,
          2002,
          2003,
          2004,
          2005,
          2006,
          2007,
          2008,
          2009,
          2010,
          2011,
          2012,
          2013,
          2014,
          2015,
          2016,
          2017,
          2018,
          2019,
          2020,
          2021,
          2022
         ],
         "y": [
          23626,
          -73471,
          -84159,
          -73934,
          -103826,
          -111260,
          -16700,
          -16500,
          -16888,
          -21204,
          -28035,
          -17540,
          6187,
          5603,
          -5223,
          -37366,
          -115546,
          -125737,
          -138983,
          -166968,
          -132395,
          12782,
          35326,
          66688,
          70940,
          82082,
          164516,
          166109,
          155682,
          148363,
          69252,
          -279446,
          -272320,
          -244650,
          -235658,
          -230292,
          -122607,
          -125395,
          -113294,
          -110955,
          -72624,
          -26859,
          -13515,
          -22385,
          -33556,
          -36504,
          -28341,
          -39728,
          -20513,
          4715,
          56092,
          259829,
          275552,
          288205,
          296280,
          266322,
          102075,
          112523,
          118642,
          110799,
          0,
          43440,
          ""
         ]
        },
        {
         "line": {
          "color": "rgba(50, 171, 96, 1.0)",
          "dash": "solid",
          "shape": "linear",
          "width": 1.3
         },
         "mode": "lines",
         "name": "Thailand",
         "text": "",
         "type": "scatter",
         "x": [
          1960,
          1961,
          1962,
          1963,
          1964,
          1965,
          1966,
          1967,
          1968,
          1969,
          1970,
          1971,
          1972,
          1973,
          1974,
          1975,
          1976,
          1977,
          1978,
          1979,
          1980,
          1981,
          1982,
          1983,
          1984,
          1985,
          1986,
          1987,
          1988,
          1989,
          1990,
          1991,
          1992,
          1993,
          1994,
          1995,
          1996,
          1997,
          1998,
          1999,
          2000,
          2001,
          2002,
          2003,
          2004,
          2005,
          2006,
          2007,
          2008,
          2009,
          2010,
          2011,
          2012,
          2013,
          2014,
          2015,
          2016,
          2017,
          2018,
          2019,
          2020,
          2021,
          2022
         ],
         "y": [
          6910,
          12296,
          13813,
          13440,
          14184,
          20022,
          8841,
          14126,
          10729,
          23190,
          49227,
          43437,
          73011,
          80656,
          72762,
          66197,
          40526,
          88899,
          81992,
          85657,
          109679,
          98198,
          114984,
          144763,
          141515,
          147244,
          131702,
          138612,
          146219,
          110294,
          130112,
          57444,
          72918,
          73141,
          106745,
          102011,
          93259,
          101661,
          121296,
          132804,
          119074,
          125457,
          134387,
          112123,
          119324,
          70281,
          78189,
          91206,
          85762,
          86611,
          52842,
          66775,
          74265,
          67600,
          55367,
          32595,
          76693,
          44063,
          9304,
          3758,
          35526,
          1133,
          ""
         ]
        },
        {
         "line": {
          "color": "rgba(128, 0, 128, 1.0)",
          "dash": "solid",
          "shape": "linear",
          "width": 1.3
         },
         "mode": "lines",
         "name": "Viet Nam",
         "text": "",
         "type": "scatter",
         "x": [
          1960,
          1961,
          1962,
          1963,
          1964,
          1965,
          1966,
          1967,
          1968,
          1969,
          1970,
          1971,
          1972,
          1973,
          1974,
          1975,
          1976,
          1977,
          1978,
          1979,
          1980,
          1981,
          1982,
          1983,
          1984,
          1985,
          1986,
          1987,
          1988,
          1989,
          1990,
          1991,
          1992,
          1993,
          1994,
          1995,
          1996,
          1997,
          1998,
          1999,
          2000,
          2001,
          2002,
          2003,
          2004,
          2005,
          2006,
          2007,
          2008,
          2009,
          2010,
          2011,
          2012,
          2013,
          2014,
          2015,
          2016,
          2017,
          2018,
          2019,
          2020,
          2021,
          2022
         ],
         "y": [
          0,
          0,
          0,
          0,
          -10004,
          -4997,
          -2001,
          -2999,
          -2001,
          0,
          2002,
          76999,
          -2001,
          -19999,
          -34997,
          -2117,
          -1881,
          49617,
          -6609,
          -337639,
          -52498,
          -57715,
          -58798,
          -57271,
          -54728,
          -56107,
          -58879,
          -56261,
          -45612,
          -6835,
          -10252,
          -824,
          -5664,
          -5426,
          -2891,
          43672,
          50794,
          52526,
          72370,
          -31169,
          -150955,
          -162571,
          -159577,
          -153880,
          -150349,
          -144080,
          -131559,
          -119471,
          -101560,
          -18546,
          -4382,
          -4378,
          -4545,
          -4786,
          -4875,
          -4761,
          -4432,
          -3847,
          -3080,
          -4028,
          -2016,
          -992,
          ""
         ]
        }
       ],
       "layout": {
        "autosize": true,
        "legend": {
         "bgcolor": "#F5F6F9",
         "font": {
          "color": "#4D5663"
         }
        },
        "paper_bgcolor": "#F5F6F9",
        "plot_bgcolor": "#F5F6F9",
        "template": {
         "data": {
          "bar": [
           {
            "error_x": {
             "color": "#2a3f5f"
            },
            "error_y": {
             "color": "#2a3f5f"
            },
            "marker": {
             "line": {
              "color": "#E5ECF6",
              "width": 0.5
             },
             "pattern": {
              "fillmode": "overlay",
              "size": 10,
              "solidity": 0.2
             }
            },
            "type": "bar"
           }
          ],
          "barpolar": [
           {
            "marker": {
             "line": {
              "color": "#E5ECF6",
              "width": 0.5
             },
             "pattern": {
              "fillmode": "overlay",
              "size": 10,
              "solidity": 0.2
             }
            },
            "type": "barpolar"
           }
          ],
          "carpet": [
           {
            "aaxis": {
             "endlinecolor": "#2a3f5f",
             "gridcolor": "white",
             "linecolor": "white",
             "minorgridcolor": "white",
             "startlinecolor": "#2a3f5f"
            },
            "baxis": {
             "endlinecolor": "#2a3f5f",
             "gridcolor": "white",
             "linecolor": "white",
             "minorgridcolor": "white",
             "startlinecolor": "#2a3f5f"
            },
            "type": "carpet"
           }
          ],
          "choropleth": [
           {
            "colorbar": {
             "outlinewidth": 0,
             "ticks": ""
            },
            "type": "choropleth"
           }
          ],
          "contour": [
           {
            "colorbar": {
             "outlinewidth": 0,
             "ticks": ""
            },
            "colorscale": [
             [
              0,
              "#0d0887"
             ],
             [
              0.1111111111111111,
              "#46039f"
             ],
             [
              0.2222222222222222,
              "#7201a8"
             ],
             [
              0.3333333333333333,
              "#9c179e"
             ],
             [
              0.4444444444444444,
              "#bd3786"
             ],
             [
              0.5555555555555556,
              "#d8576b"
             ],
             [
              0.6666666666666666,
              "#ed7953"
             ],
             [
              0.7777777777777778,
              "#fb9f3a"
             ],
             [
              0.8888888888888888,
              "#fdca26"
             ],
             [
              1,
              "#f0f921"
             ]
            ],
            "type": "contour"
           }
          ],
          "contourcarpet": [
           {
            "colorbar": {
             "outlinewidth": 0,
             "ticks": ""
            },
            "type": "contourcarpet"
           }
          ],
          "heatmap": [
           {
            "colorbar": {
             "outlinewidth": 0,
             "ticks": ""
            },
            "colorscale": [
             [
              0,
              "#0d0887"
             ],
             [
              0.1111111111111111,
              "#46039f"
             ],
             [
              0.2222222222222222,
              "#7201a8"
             ],
             [
              0.3333333333333333,
              "#9c179e"
             ],
             [
              0.4444444444444444,
              "#bd3786"
             ],
             [
              0.5555555555555556,
              "#d8576b"
             ],
             [
              0.6666666666666666,
              "#ed7953"
             ],
             [
              0.7777777777777778,
              "#fb9f3a"
             ],
             [
              0.8888888888888888,
              "#fdca26"
             ],
             [
              1,
              "#f0f921"
             ]
            ],
            "type": "heatmap"
           }
          ],
          "heatmapgl": [
           {
            "colorbar": {
             "outlinewidth": 0,
             "ticks": ""
            },
            "colorscale": [
             [
              0,
              "#0d0887"
             ],
             [
              0.1111111111111111,
              "#46039f"
             ],
             [
              0.2222222222222222,
              "#7201a8"
             ],
             [
              0.3333333333333333,
              "#9c179e"
             ],
             [
              0.4444444444444444,
              "#bd3786"
             ],
             [
              0.5555555555555556,
              "#d8576b"
             ],
             [
              0.6666666666666666,
              "#ed7953"
             ],
             [
              0.7777777777777778,
              "#fb9f3a"
             ],
             [
              0.8888888888888888,
              "#fdca26"
             ],
             [
              1,
              "#f0f921"
             ]
            ],
            "type": "heatmapgl"
           }
          ],
          "histogram": [
           {
            "marker": {
             "pattern": {
              "fillmode": "overlay",
              "size": 10,
              "solidity": 0.2
             }
            },
            "type": "histogram"
           }
          ],
          "histogram2d": [
           {
            "colorbar": {
             "outlinewidth": 0,
             "ticks": ""
            },
            "colorscale": [
             [
              0,
              "#0d0887"
             ],
             [
              0.1111111111111111,
              "#46039f"
             ],
             [
              0.2222222222222222,
              "#7201a8"
             ],
             [
              0.3333333333333333,
              "#9c179e"
             ],
             [
              0.4444444444444444,
              "#bd3786"
             ],
             [
              0.5555555555555556,
              "#d8576b"
             ],
             [
              0.6666666666666666,
              "#ed7953"
             ],
             [
              0.7777777777777778,
              "#fb9f3a"
             ],
             [
              0.8888888888888888,
              "#fdca26"
             ],
             [
              1,
              "#f0f921"
             ]
            ],
            "type": "histogram2d"
           }
          ],
          "histogram2dcontour": [
           {
            "colorbar": {
             "outlinewidth": 0,
             "ticks": ""
            },
            "colorscale": [
             [
              0,
              "#0d0887"
             ],
             [
              0.1111111111111111,
              "#46039f"
             ],
             [
              0.2222222222222222,
              "#7201a8"
             ],
             [
              0.3333333333333333,
              "#9c179e"
             ],
             [
              0.4444444444444444,
              "#bd3786"
             ],
             [
              0.5555555555555556,
              "#d8576b"
             ],
             [
              0.6666666666666666,
              "#ed7953"
             ],
             [
              0.7777777777777778,
              "#fb9f3a"
             ],
             [
              0.8888888888888888,
              "#fdca26"
             ],
             [
              1,
              "#f0f921"
             ]
            ],
            "type": "histogram2dcontour"
           }
          ],
          "mesh3d": [
           {
            "colorbar": {
             "outlinewidth": 0,
             "ticks": ""
            },
            "type": "mesh3d"
           }
          ],
          "parcoords": [
           {
            "line": {
             "colorbar": {
              "outlinewidth": 0,
              "ticks": ""
             }
            },
            "type": "parcoords"
           }
          ],
          "pie": [
           {
            "automargin": true,
            "type": "pie"
           }
          ],
          "scatter": [
           {
            "fillpattern": {
             "fillmode": "overlay",
             "size": 10,
             "solidity": 0.2
            },
            "type": "scatter"
           }
          ],
          "scatter3d": [
           {
            "line": {
             "colorbar": {
              "outlinewidth": 0,
              "ticks": ""
             }
            },
            "marker": {
             "colorbar": {
              "outlinewidth": 0,
              "ticks": ""
             }
            },
            "type": "scatter3d"
           }
          ],
          "scattercarpet": [
           {
            "marker": {
             "colorbar": {
              "outlinewidth": 0,
              "ticks": ""
             }
            },
            "type": "scattercarpet"
           }
          ],
          "scattergeo": [
           {
            "marker": {
             "colorbar": {
              "outlinewidth": 0,
              "ticks": ""
             }
            },
            "type": "scattergeo"
           }
          ],
          "scattergl": [
           {
            "marker": {
             "colorbar": {
              "outlinewidth": 0,
              "ticks": ""
             }
            },
            "type": "scattergl"
           }
          ],
          "scattermapbox": [
           {
            "marker": {
             "colorbar": {
              "outlinewidth": 0,
              "ticks": ""
             }
            },
            "type": "scattermapbox"
           }
          ],
          "scatterpolar": [
           {
            "marker": {
             "colorbar": {
              "outlinewidth": 0,
              "ticks": ""
             }
            },
            "type": "scatterpolar"
           }
          ],
          "scatterpolargl": [
           {
            "marker": {
             "colorbar": {
              "outlinewidth": 0,
              "ticks": ""
             }
            },
            "type": "scatterpolargl"
           }
          ],
          "scatterternary": [
           {
            "marker": {
             "colorbar": {
              "outlinewidth": 0,
              "ticks": ""
             }
            },
            "type": "scatterternary"
           }
          ],
          "surface": [
           {
            "colorbar": {
             "outlinewidth": 0,
             "ticks": ""
            },
            "colorscale": [
             [
              0,
              "#0d0887"
             ],
             [
              0.1111111111111111,
              "#46039f"
             ],
             [
              0.2222222222222222,
              "#7201a8"
             ],
             [
              0.3333333333333333,
              "#9c179e"
             ],
             [
              0.4444444444444444,
              "#bd3786"
             ],
             [
              0.5555555555555556,
              "#d8576b"
             ],
             [
              0.6666666666666666,
              "#ed7953"
             ],
             [
              0.7777777777777778,
              "#fb9f3a"
             ],
             [
              0.8888888888888888,
              "#fdca26"
             ],
             [
              1,
              "#f0f921"
             ]
            ],
            "type": "surface"
           }
          ],
          "table": [
           {
            "cells": {
             "fill": {
              "color": "#EBF0F8"
             },
             "line": {
              "color": "white"
             }
            },
            "header": {
             "fill": {
              "color": "#C8D4E3"
             },
             "line": {
              "color": "white"
             }
            },
            "type": "table"
           }
          ]
         },
         "layout": {
          "annotationdefaults": {
           "arrowcolor": "#2a3f5f",
           "arrowhead": 0,
           "arrowwidth": 1
          },
          "autotypenumbers": "strict",
          "coloraxis": {
           "colorbar": {
            "outlinewidth": 0,
            "ticks": ""
           }
          },
          "colorscale": {
           "diverging": [
            [
             0,
             "#8e0152"
            ],
            [
             0.1,
             "#c51b7d"
            ],
            [
             0.2,
             "#de77ae"
            ],
            [
             0.3,
             "#f1b6da"
            ],
            [
             0.4,
             "#fde0ef"
            ],
            [
             0.5,
             "#f7f7f7"
            ],
            [
             0.6,
             "#e6f5d0"
            ],
            [
             0.7,
             "#b8e186"
            ],
            [
             0.8,
             "#7fbc41"
            ],
            [
             0.9,
             "#4d9221"
            ],
            [
             1,
             "#276419"
            ]
           ],
           "sequential": [
            [
             0,
             "#0d0887"
            ],
            [
             0.1111111111111111,
             "#46039f"
            ],
            [
             0.2222222222222222,
             "#7201a8"
            ],
            [
             0.3333333333333333,
             "#9c179e"
            ],
            [
             0.4444444444444444,
             "#bd3786"
            ],
            [
             0.5555555555555556,
             "#d8576b"
            ],
            [
             0.6666666666666666,
             "#ed7953"
            ],
            [
             0.7777777777777778,
             "#fb9f3a"
            ],
            [
             0.8888888888888888,
             "#fdca26"
            ],
            [
             1,
             "#f0f921"
            ]
           ],
           "sequentialminus": [
            [
             0,
             "#0d0887"
            ],
            [
             0.1111111111111111,
             "#46039f"
            ],
            [
             0.2222222222222222,
             "#7201a8"
            ],
            [
             0.3333333333333333,
             "#9c179e"
            ],
            [
             0.4444444444444444,
             "#bd3786"
            ],
            [
             0.5555555555555556,
             "#d8576b"
            ],
            [
             0.6666666666666666,
             "#ed7953"
            ],
            [
             0.7777777777777778,
             "#fb9f3a"
            ],
            [
             0.8888888888888888,
             "#fdca26"
            ],
            [
             1,
             "#f0f921"
            ]
           ]
          },
          "colorway": [
           "#636efa",
           "#EF553B",
           "#00cc96",
           "#ab63fa",
           "#FFA15A",
           "#19d3f3",
           "#FF6692",
           "#B6E880",
           "#FF97FF",
           "#FECB52"
          ],
          "font": {
           "color": "#2a3f5f"
          },
          "geo": {
           "bgcolor": "white",
           "lakecolor": "white",
           "landcolor": "#E5ECF6",
           "showlakes": true,
           "showland": true,
           "subunitcolor": "white"
          },
          "hoverlabel": {
           "align": "left"
          },
          "hovermode": "closest",
          "mapbox": {
           "style": "light"
          },
          "paper_bgcolor": "white",
          "plot_bgcolor": "#E5ECF6",
          "polar": {
           "angularaxis": {
            "gridcolor": "white",
            "linecolor": "white",
            "ticks": ""
           },
           "bgcolor": "#E5ECF6",
           "radialaxis": {
            "gridcolor": "white",
            "linecolor": "white",
            "ticks": ""
           }
          },
          "scene": {
           "xaxis": {
            "backgroundcolor": "#E5ECF6",
            "gridcolor": "white",
            "gridwidth": 2,
            "linecolor": "white",
            "showbackground": true,
            "ticks": "",
            "zerolinecolor": "white"
           },
           "yaxis": {
            "backgroundcolor": "#E5ECF6",
            "gridcolor": "white",
            "gridwidth": 2,
            "linecolor": "white",
            "showbackground": true,
            "ticks": "",
            "zerolinecolor": "white"
           },
           "zaxis": {
            "backgroundcolor": "#E5ECF6",
            "gridcolor": "white",
            "gridwidth": 2,
            "linecolor": "white",
            "showbackground": true,
            "ticks": "",
            "zerolinecolor": "white"
           }
          },
          "shapedefaults": {
           "line": {
            "color": "#2a3f5f"
           }
          },
          "ternary": {
           "aaxis": {
            "gridcolor": "white",
            "linecolor": "white",
            "ticks": ""
           },
           "baxis": {
            "gridcolor": "white",
            "linecolor": "white",
            "ticks": ""
           },
           "bgcolor": "#E5ECF6",
           "caxis": {
            "gridcolor": "white",
            "linecolor": "white",
            "ticks": ""
           }
          },
          "title": {
           "x": 0.05
          },
          "xaxis": {
           "automargin": true,
           "gridcolor": "white",
           "linecolor": "white",
           "ticks": "",
           "title": {
            "standoff": 15
           },
           "zerolinecolor": "white",
           "zerolinewidth": 2
          },
          "yaxis": {
           "automargin": true,
           "gridcolor": "white",
           "linecolor": "white",
           "ticks": "",
           "title": {
            "standoff": 15
           },
           "zerolinecolor": "white",
           "zerolinewidth": 2
          }
         }
        },
        "title": {
         "font": {
          "color": "#4D5663"
         },
         "text": "Net migration by country"
        },
        "xaxis": {
         "autorange": true,
         "gridcolor": "#E1E5ED",
         "range": [
          1960,
          2022
         ],
         "showgrid": true,
         "tickfont": {
          "color": "#4D5663"
         },
         "title": {
          "font": {
           "color": "#4D5663"
          },
          "text": "Year"
         },
         "type": "linear",
         "zerolinecolor": "#E1E5ED"
        },
        "yaxis": {
         "autorange": true,
         "gridcolor": "#E1E5ED",
         "range": [
          -938146.8333333334,
          361249.8333333333
         ],
         "showgrid": true,
         "tickfont": {
          "color": "#4D5663"
         },
         "title": {
          "font": {
           "color": "#4D5663"
          },
          "text": "Net Migration"
         },
         "type": "linear",
         "zerolinecolor": "#E1E5ED"
        }
       }
      },
      "image/png": "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",
      "text/html": [
       "<div>                            <div id=\"256d089b-38fa-484e-9fb0-c85737766db7\" class=\"plotly-graph-div\" style=\"height:525px; width:100%;\"></div>            <script type=\"text/javascript\">                require([\"plotly\"], function(Plotly) {                    window.PLOTLYENV=window.PLOTLYENV || {};\n",
       "                    window.PLOTLYENV.BASE_URL='https://plot.ly';                                    if (document.getElementById(\"256d089b-38fa-484e-9fb0-c85737766db7\")) {                    Plotly.newPlot(                        \"256d089b-38fa-484e-9fb0-c85737766db7\",                        [{\"line\":{\"color\":\"rgba(255, 153, 51, 1.0)\",\"dash\":\"solid\",\"shape\":\"linear\",\"width\":1.3},\"mode\":\"lines\",\"name\":\"China\",\"text\":\"\",\"x\":[1960,1961,1962,1963,1964,1965,1966,1967,1968,1969,1970,1971,1972,1973,1974,1975,1976,1977,1978,1979,1980,1981,1982,1983,1984,1985,1986,1987,1988,1989,1990,1991,1992,1993,1994,1995,1996,1997,1998,1999,2000,2001,2002,2003,2004,2005,2006,2007,2008,2009,2010,2011,2012,2013,2014,2015,2016,2017,2018,2019,2020,2021,2022],\"y\":[-118519.0,-179064.0,-219144.0,-219686.0,-183384.0,-128537.0,-73698.0,-37406.0,-37291.0,-72835.0,-126514.0,-180202.0,-215730.0,-215090.0,-175304.0,-115215.0,-55120.0,-15327.0,-9923.0,-13705.0,-20131.0,-28017.0,-36185.0,-43762.0,-51959.0,-60932.0,-79193.0,-169188.0,-282270.0,-627109.0,-290067.0,-757481.0,-873177.0,-749957.0,-477036.0,-625725.0,-553915.0,-501141.0,-439828.0,-492597.0,-549792.0,-485419.0,-477885.0,-527837.0,-458505.0,-519752.0,-473105.0,-438846.0,-469093.0,-350365.0,-216417.0,-147585.0,-124641.0,-137444.0,-198432.0,-155379.0,-153054.0,-180592.0,-296674.0,-302609.0,-33649.0,-200194.0,\"\"],\"type\":\"scatter\"},{\"line\":{\"color\":\"rgba(55, 128, 191, 1.0)\",\"dash\":\"solid\",\"shape\":\"linear\",\"width\":1.3},\"mode\":\"lines\",\"name\":\"Korea, Rep.\",\"text\":\"\",\"x\":[1960,1961,1962,1963,1964,1965,1966,1967,1968,1969,1970,1971,1972,1973,1974,1975,1976,1977,1978,1979,1980,1981,1982,1983,1984,1985,1986,1987,1988,1989,1990,1991,1992,1993,1994,1995,1996,1997,1998,1999,2000,2001,2002,2003,2004,2005,2006,2007,2008,2009,2010,2011,2012,2013,2014,2015,2016,2017,2018,2019,2020,2021,2022],\"y\":[23626.0,-73471.0,-84159.0,-73934.0,-103826.0,-111260.0,-16700.0,-16500.0,-16888.0,-21204.0,-28035.0,-17540.0,6187.0,5603.0,-5223.0,-37366.0,-115546.0,-125737.0,-138983.0,-166968.0,-132395.0,12782.0,35326.0,66688.0,70940.0,82082.0,164516.0,166109.0,155682.0,148363.0,69252.0,-279446.0,-272320.0,-244650.0,-235658.0,-230292.0,-122607.0,-125395.0,-113294.0,-110955.0,-72624.0,-26859.0,-13515.0,-22385.0,-33556.0,-36504.0,-28341.0,-39728.0,-20513.0,4715.0,56092.0,259829.0,275552.0,288205.0,296280.0,266322.0,102075.0,112523.0,118642.0,110799.0,0.0,43440.0,\"\"],\"type\":\"scatter\"},{\"line\":{\"color\":\"rgba(50, 171, 96, 1.0)\",\"dash\":\"solid\",\"shape\":\"linear\",\"width\":1.3},\"mode\":\"lines\",\"name\":\"Thailand\",\"text\":\"\",\"x\":[1960,1961,1962,1963,1964,1965,1966,1967,1968,1969,1970,1971,1972,1973,1974,1975,1976,1977,1978,1979,1980,1981,1982,1983,1984,1985,1986,1987,1988,1989,1990,1991,1992,1993,1994,1995,1996,1997,1998,1999,2000,2001,2002,2003,2004,2005,2006,2007,2008,2009,2010,2011,2012,2013,2014,2015,2016,2017,2018,2019,2020,2021,2022],\"y\":[6910.0,12296.0,13813.0,13440.0,14184.0,20022.0,8841.0,14126.0,10729.0,23190.0,49227.0,43437.0,73011.0,80656.0,72762.0,66197.0,40526.0,88899.0,81992.0,85657.0,109679.0,98198.0,114984.0,144763.0,141515.0,147244.0,131702.0,138612.0,146219.0,110294.0,130112.0,57444.0,72918.0,73141.0,106745.0,102011.0,93259.0,101661.0,121296.0,132804.0,119074.0,125457.0,134387.0,112123.0,119324.0,70281.0,78189.0,91206.0,85762.0,86611.0,52842.0,66775.0,74265.0,67600.0,55367.0,32595.0,76693.0,44063.0,9304.0,3758.0,35526.0,1133.0,\"\"],\"type\":\"scatter\"},{\"line\":{\"color\":\"rgba(128, 0, 128, 1.0)\",\"dash\":\"solid\",\"shape\":\"linear\",\"width\":1.3},\"mode\":\"lines\",\"name\":\"Viet Nam\",\"text\":\"\",\"x\":[1960,1961,1962,1963,1964,1965,1966,1967,1968,1969,1970,1971,1972,1973,1974,1975,1976,1977,1978,1979,1980,1981,1982,1983,1984,1985,1986,1987,1988,1989,1990,1991,1992,1993,1994,1995,1996,1997,1998,1999,2000,2001,2002,2003,2004,2005,2006,2007,2008,2009,2010,2011,2012,2013,2014,2015,2016,2017,2018,2019,2020,2021,2022],\"y\":[0.0,0.0,0.0,0.0,-10004.0,-4997.0,-2001.0,-2999.0,-2001.0,0.0,2002.0,76999.0,-2001.0,-19999.0,-34997.0,-2117.0,-1881.0,49617.0,-6609.0,-337639.0,-52498.0,-57715.0,-58798.0,-57271.0,-54728.0,-56107.0,-58879.0,-56261.0,-45612.0,-6835.0,-10252.0,-824.0,-5664.0,-5426.0,-2891.0,43672.0,50794.0,52526.0,72370.0,-31169.0,-150955.0,-162571.0,-159577.0,-153880.0,-150349.0,-144080.0,-131559.0,-119471.0,-101560.0,-18546.0,-4382.0,-4378.0,-4545.0,-4786.0,-4875.0,-4761.0,-4432.0,-3847.0,-3080.0,-4028.0,-2016.0,-992.0,\"\"],\"type\":\"scatter\"}],                        {\"legend\":{\"bgcolor\":\"#F5F6F9\",\"font\":{\"color\":\"#4D5663\"}},\"paper_bgcolor\":\"#F5F6F9\",\"plot_bgcolor\":\"#F5F6F9\",\"template\":{\"data\":{\"barpolar\":[{\"marker\":{\"line\":{\"color\":\"#E5ECF6\",\"width\":0.5},\"pattern\":{\"fillmode\":\"overlay\",\"size\":10,\"solidity\":0.2}},\"type\":\"barpolar\"}],\"bar\":[{\"error_x\":{\"color\":\"#2a3f5f\"},\"error_y\":{\"color\":\"#2a3f5f\"},\"marker\":{\"line\":{\"color\":\"#E5ECF6\",\"width\":0.5},\"pattern\":{\"fillmode\":\"overlay\",\"size\":10,\"solidity\":0.2}},\"type\":\"bar\"}],\"carpet\":[{\"aaxis\":{\"endlinecolor\":\"#2a3f5f\",\"gridcolor\":\"white\",\"linecolor\":\"white\",\"minorgridcolor\":\"white\",\"startlinecolor\":\"#2a3f5f\"},\"baxis\":{\"endlinecolor\":\"#2a3f5f\",\"gridcolor\":\"white\",\"linecolor\":\"white\",\"minorgridcolor\":\"white\",\"startlinecolor\":\"#2a3f5f\"},\"type\":\"carpet\"}],\"choropleth\":[{\"colorbar\":{\"outlinewidth\":0,\"ticks\":\"\"},\"type\":\"choropleth\"}],\"contourcarpet\":[{\"colorbar\":{\"outlinewidth\":0,\"ticks\":\"\"},\"type\":\"contourcarpet\"}],\"contour\":[{\"colorbar\":{\"outlinewidth\":0,\"ticks\":\"\"},\"colorscale\":[[0.0,\"#0d0887\"],[0.1111111111111111,\"#46039f\"],[0.2222222222222222,\"#7201a8\"],[0.3333333333333333,\"#9c179e\"],[0.4444444444444444,\"#bd3786\"],[0.5555555555555556,\"#d8576b\"],[0.6666666666666666,\"#ed7953\"],[0.7777777777777778,\"#fb9f3a\"],[0.8888888888888888,\"#fdca26\"],[1.0,\"#f0f921\"]],\"type\":\"contour\"}],\"heatmapgl\":[{\"colorbar\":{\"outlinewidth\":0,\"ticks\":\"\"},\"colorscale\":[[0.0,\"#0d0887\"],[0.1111111111111111,\"#46039f\"],[0.2222222222222222,\"#7201a8\"],[0.3333333333333333,\"#9c179e\"],[0.4444444444444444,\"#bd3786\"],[0.5555555555555556,\"#d8576b\"],[0.6666666666666666,\"#ed7953\"],[0.7777777777777778,\"#fb9f3a\"],[0.8888888888888888,\"#fdca26\"],[1.0,\"#f0f921\"]],\"type\":\"heatmapgl\"}],\"heatmap\":[{\"colorbar\":{\"outlinewidth\":0,\"ticks\":\"\"},\"colorscale\":[[0.0,\"#0d0887\"],[0.1111111111111111,\"#46039f\"],[0.2222222222222222,\"#7201a8\"],[0.3333333333333333,\"#9c179e\"],[0.4444444444444444,\"#bd3786\"],[0.5555555555555556,\"#d8576b\"],[0.6666666666666666,\"#ed7953\"],[0.7777777777777778,\"#fb9f3a\"],[0.8888888888888888,\"#fdca26\"],[1.0,\"#f0f921\"]],\"type\":\"heatmap\"}],\"histogram2dcontour\":[{\"colorbar\":{\"outlinewidth\":0,\"ticks\":\"\"},\"colorscale\":[[0.0,\"#0d0887\"],[0.1111111111111111,\"#46039f\"],[0.2222222222222222,\"#7201a8\"],[0.3333333333333333,\"#9c179e\"],[0.4444444444444444,\"#bd3786\"],[0.5555555555555556,\"#d8576b\"],[0.6666666666666666,\"#ed7953\"],[0.7777777777777778,\"#fb9f3a\"],[0.8888888888888888,\"#fdca26\"],[1.0,\"#f0f921\"]],\"type\":\"histogram2dcontour\"}],\"histogram2d\":[{\"colorbar\":{\"outlinewidth\":0,\"ticks\":\"\"},\"colorscale\":[[0.0,\"#0d0887\"],[0.1111111111111111,\"#46039f\"],[0.2222222222222222,\"#7201a8\"],[0.3333333333333333,\"#9c179e\"],[0.4444444444444444,\"#bd3786\"],[0.5555555555555556,\"#d8576b\"],[0.6666666666666666,\"#ed7953\"],[0.7777777777777778,\"#fb9f3a\"],[0.8888888888888888,\"#fdca26\"],[1.0,\"#f0f921\"]],\"type\":\"histogram2d\"}],\"histogram\":[{\"marker\":{\"pattern\":{\"fillmode\":\"overlay\",\"size\":10,\"solidity\":0.2}},\"type\":\"histogram\"}],\"mesh3d\":[{\"colorbar\":{\"outlinewidth\":0,\"ticks\":\"\"},\"type\":\"mesh3d\"}],\"parcoords\":[{\"line\":{\"colorbar\":{\"outlinewidth\":0,\"ticks\":\"\"}},\"type\":\"parcoords\"}],\"pie\":[{\"automargin\":true,\"type\":\"pie\"}],\"scatter3d\":[{\"line\":{\"colorbar\":{\"outlinewidth\":0,\"ticks\":\"\"}},\"marker\":{\"colorbar\":{\"outlinewidth\":0,\"ticks\":\"\"}},\"type\":\"scatter3d\"}],\"scattercarpet\":[{\"marker\":{\"colorbar\":{\"outlinewidth\":0,\"ticks\":\"\"}},\"type\":\"scattercarpet\"}],\"scattergeo\":[{\"marker\":{\"colorbar\":{\"outlinewidth\":0,\"ticks\":\"\"}},\"type\":\"scattergeo\"}],\"scattergl\":[{\"marker\":{\"colorbar\":{\"outlinewidth\":0,\"ticks\":\"\"}},\"type\":\"scattergl\"}],\"scattermapbox\":[{\"marker\":{\"colorbar\":{\"outlinewidth\":0,\"ticks\":\"\"}},\"type\":\"scattermapbox\"}],\"scatterpolargl\":[{\"marker\":{\"colorbar\":{\"outlinewidth\":0,\"ticks\":\"\"}},\"type\":\"scatterpolargl\"}],\"scatterpolar\":[{\"marker\":{\"colorbar\":{\"outlinewidth\":0,\"ticks\":\"\"}},\"type\":\"scatterpolar\"}],\"scatter\":[{\"fillpattern\":{\"fillmode\":\"overlay\",\"size\":10,\"solidity\":0.2},\"type\":\"scatter\"}],\"scatterternary\":[{\"marker\":{\"colorbar\":{\"outlinewidth\":0,\"ticks\":\"\"}},\"type\":\"scatterternary\"}],\"surface\":[{\"colorbar\":{\"outlinewidth\":0,\"ticks\":\"\"},\"colorscale\":[[0.0,\"#0d0887\"],[0.1111111111111111,\"#46039f\"],[0.2222222222222222,\"#7201a8\"],[0.3333333333333333,\"#9c179e\"],[0.4444444444444444,\"#bd3786\"],[0.5555555555555556,\"#d8576b\"],[0.6666666666666666,\"#ed7953\"],[0.7777777777777778,\"#fb9f3a\"],[0.8888888888888888,\"#fdca26\"],[1.0,\"#f0f921\"]],\"type\":\"surface\"}],\"table\":[{\"cells\":{\"fill\":{\"color\":\"#EBF0F8\"},\"line\":{\"color\":\"white\"}},\"header\":{\"fill\":{\"color\":\"#C8D4E3\"},\"line\":{\"color\":\"white\"}},\"type\":\"table\"}]},\"layout\":{\"annotationdefaults\":{\"arrowcolor\":\"#2a3f5f\",\"arrowhead\":0,\"arrowwidth\":1},\"autotypenumbers\":\"strict\",\"coloraxis\":{\"colorbar\":{\"outlinewidth\":0,\"ticks\":\"\"}},\"colorscale\":{\"diverging\":[[0,\"#8e0152\"],[0.1,\"#c51b7d\"],[0.2,\"#de77ae\"],[0.3,\"#f1b6da\"],[0.4,\"#fde0ef\"],[0.5,\"#f7f7f7\"],[0.6,\"#e6f5d0\"],[0.7,\"#b8e186\"],[0.8,\"#7fbc41\"],[0.9,\"#4d9221\"],[1,\"#276419\"]],\"sequential\":[[0.0,\"#0d0887\"],[0.1111111111111111,\"#46039f\"],[0.2222222222222222,\"#7201a8\"],[0.3333333333333333,\"#9c179e\"],[0.4444444444444444,\"#bd3786\"],[0.5555555555555556,\"#d8576b\"],[0.6666666666666666,\"#ed7953\"],[0.7777777777777778,\"#fb9f3a\"],[0.8888888888888888,\"#fdca26\"],[1.0,\"#f0f921\"]],\"sequentialminus\":[[0.0,\"#0d0887\"],[0.1111111111111111,\"#46039f\"],[0.2222222222222222,\"#7201a8\"],[0.3333333333333333,\"#9c179e\"],[0.4444444444444444,\"#bd3786\"],[0.5555555555555556,\"#d8576b\"],[0.6666666666666666,\"#ed7953\"],[0.7777777777777778,\"#fb9f3a\"],[0.8888888888888888,\"#fdca26\"],[1.0,\"#f0f921\"]]},\"colorway\":[\"#636efa\",\"#EF553B\",\"#00cc96\",\"#ab63fa\",\"#FFA15A\",\"#19d3f3\",\"#FF6692\",\"#B6E880\",\"#FF97FF\",\"#FECB52\"],\"font\":{\"color\":\"#2a3f5f\"},\"geo\":{\"bgcolor\":\"white\",\"lakecolor\":\"white\",\"landcolor\":\"#E5ECF6\",\"showlakes\":true,\"showland\":true,\"subunitcolor\":\"white\"},\"hoverlabel\":{\"align\":\"left\"},\"hovermode\":\"closest\",\"mapbox\":{\"style\":\"light\"},\"paper_bgcolor\":\"white\",\"plot_bgcolor\":\"#E5ECF6\",\"polar\":{\"angularaxis\":{\"gridcolor\":\"white\",\"linecolor\":\"white\",\"ticks\":\"\"},\"bgcolor\":\"#E5ECF6\",\"radialaxis\":{\"gridcolor\":\"white\",\"linecolor\":\"white\",\"ticks\":\"\"}},\"scene\":{\"xaxis\":{\"backgroundcolor\":\"#E5ECF6\",\"gridcolor\":\"white\",\"gridwidth\":2,\"linecolor\":\"white\",\"showbackground\":true,\"ticks\":\"\",\"zerolinecolor\":\"white\"},\"yaxis\":{\"backgroundcolor\":\"#E5ECF6\",\"gridcolor\":\"white\",\"gridwidth\":2,\"linecolor\":\"white\",\"showbackground\":true,\"ticks\":\"\",\"zerolinecolor\":\"white\"},\"zaxis\":{\"backgroundcolor\":\"#E5ECF6\",\"gridcolor\":\"white\",\"gridwidth\":2,\"linecolor\":\"white\",\"showbackground\":true,\"ticks\":\"\",\"zerolinecolor\":\"white\"}},\"shapedefaults\":{\"line\":{\"color\":\"#2a3f5f\"}},\"ternary\":{\"aaxis\":{\"gridcolor\":\"white\",\"linecolor\":\"white\",\"ticks\":\"\"},\"baxis\":{\"gridcolor\":\"white\",\"linecolor\":\"white\",\"ticks\":\"\"},\"bgcolor\":\"#E5ECF6\",\"caxis\":{\"gridcolor\":\"white\",\"linecolor\":\"white\",\"ticks\":\"\"}},\"title\":{\"x\":0.05},\"xaxis\":{\"automargin\":true,\"gridcolor\":\"white\",\"linecolor\":\"white\",\"ticks\":\"\",\"title\":{\"standoff\":15},\"zerolinecolor\":\"white\",\"zerolinewidth\":2},\"yaxis\":{\"automargin\":true,\"gridcolor\":\"white\",\"linecolor\":\"white\",\"ticks\":\"\",\"title\":{\"standoff\":15},\"zerolinecolor\":\"white\",\"zerolinewidth\":2}}},\"title\":{\"font\":{\"color\":\"#4D5663\"},\"text\":\"Net migration by country\"},\"xaxis\":{\"gridcolor\":\"#E1E5ED\",\"showgrid\":true,\"tickfont\":{\"color\":\"#4D5663\"},\"title\":{\"font\":{\"color\":\"#4D5663\"},\"text\":\"Year\"},\"zerolinecolor\":\"#E1E5ED\"},\"yaxis\":{\"gridcolor\":\"#E1E5ED\",\"showgrid\":true,\"tickfont\":{\"color\":\"#4D5663\"},\"title\":{\"font\":{\"color\":\"#4D5663\"},\"text\":\"Net Migration\"},\"zerolinecolor\":\"#E1E5ED\"}},                        {\"showLink\": true, \"linkText\": \"Export to plot.ly\", \"plotlyServerURL\": \"https://plot.ly\", \"responsive\": true}                    ).then(function(){\n",
       "                            \n",
       "var gd = document.getElementById('256d089b-38fa-484e-9fb0-c85737766db7');\n",
       "var x = new MutationObserver(function (mutations, observer) {{\n",
       "        var display = window.getComputedStyle(gd).display;\n",
       "        if (!display || display === 'none') {{\n",
       "            console.log([gd, 'removed!']);\n",
       "            Plotly.purge(gd);\n",
       "            observer.disconnect();\n",
       "        }}\n",
       "}});\n",
       "\n",
       "// Listen for the removal of the full notebook cells\n",
       "var notebookContainer = gd.closest('#notebook-container');\n",
       "if (notebookContainer) {{\n",
       "    x.observe(notebookContainer, {childList: true});\n",
       "}}\n",
       "\n",
       "// Listen for the clearing of the current output cell\n",
       "var outputEl = gd.closest('.output');\n",
       "if (outputEl) {{\n",
       "    x.observe(outputEl, {childList: true});\n",
       "}}\n",
       "\n",
       "                        })                };                });            </script>        </div>"
      ]
     },
     "metadata": {},
     "output_type": "display_data"
    }
   ],
   "source": [
    "import numpy as np\n",
    "\n",
    "variable_labels = {\"SM.POP.NETM\":\"Net migration\"\n",
    "                  }\n",
    "\n",
    "# Three letter codes come from wbdata.get_country()\n",
    "countries = {\"KOR\":\"Korea, Rep.\",\n",
    "             \"CHN\":\"China\",\n",
    "             \"THA\":\"Thailand\",\n",
    "             \"VNM\":\"Viet Nam\"\n",
    "            }\n",
    "\n",
    "df = wbdata.get_dataframe(variable_labels, country = countries).squeeze()\n",
    "\n",
    "df = df.unstack('country')\n",
    "# Date index is of type string; change to integers\n",
    "df.index = df.index.astype(int)\n",
    "\n",
    "# Differences (over time) in logs give us growth rates\n",
    "df.iplot(title=\"Net migration by country\",\n",
    "                        yTitle=\"Net Migration\",xTitle='Year')"
   ]
  }
 ],
 "metadata": {
  "kernelspec": {
   "display_name": "Python 3 (ipykernel)",
   "language": "python",
   "name": "python3"
  },
  "language_info": {
   "codemirror_mode": {
    "name": "ipython",
    "version": 3
   },
   "file_extension": ".py",
   "mimetype": "text/x-python",
   "name": "python",
   "nbconvert_exporter": "python",
   "pygments_lexer": "ipython3",
   "version": "3.10.2"
  },
  "vscode": {
   "interpreter": {
    "hash": "aee8b7b246df8f9039afb4144a1f6fd8d2ca17a180786b69acc140d282b71a49"
   }
  }
 },
 "nbformat": 4,
 "nbformat_minor": 5
}
